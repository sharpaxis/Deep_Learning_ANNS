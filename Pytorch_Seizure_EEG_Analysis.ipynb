{
 "cells": [
  {
   "cell_type": "code",
   "execution_count": 1,
   "id": "e6309024",
   "metadata": {},
   "outputs": [],
   "source": [
    "#basic import \n",
    "import numpy as np\n",
    "import pandas as pd\n",
    "import seaborn as sns\n",
    "import matplotlib.pyplot as plt\n",
    "import torch \n",
    "import torch.nn as nn\n",
    "import torch.nn.functional as F\n",
    "import warnings\n",
    "warnings.filterwarnings('ignore')\n",
    "from sklearn.metrics import classification_report\n",
    "device = torch.device(\"mps\")"
   ]
  },
  {
   "cell_type": "code",
   "execution_count": 2,
   "id": "71bdfe67",
   "metadata": {},
   "outputs": [],
   "source": [
    "df = pd.read_csv('Epileptic Seizure Recognition.csv',index_col=0)"
   ]
  },
  {
   "cell_type": "code",
   "execution_count": 3,
   "id": "9fadb8c2",
   "metadata": {},
   "outputs": [
    {
     "data": {
      "text/html": [
       "<div>\n",
       "<style scoped>\n",
       "    .dataframe tbody tr th:only-of-type {\n",
       "        vertical-align: middle;\n",
       "    }\n",
       "\n",
       "    .dataframe tbody tr th {\n",
       "        vertical-align: top;\n",
       "    }\n",
       "\n",
       "    .dataframe thead th {\n",
       "        text-align: right;\n",
       "    }\n",
       "</style>\n",
       "<table border=\"1\" class=\"dataframe\">\n",
       "  <thead>\n",
       "    <tr style=\"text-align: right;\">\n",
       "      <th></th>\n",
       "      <th>X1</th>\n",
       "      <th>X2</th>\n",
       "      <th>X3</th>\n",
       "      <th>X4</th>\n",
       "      <th>X5</th>\n",
       "      <th>X6</th>\n",
       "      <th>X7</th>\n",
       "      <th>X8</th>\n",
       "      <th>X9</th>\n",
       "      <th>X10</th>\n",
       "      <th>...</th>\n",
       "      <th>X170</th>\n",
       "      <th>X171</th>\n",
       "      <th>X172</th>\n",
       "      <th>X173</th>\n",
       "      <th>X174</th>\n",
       "      <th>X175</th>\n",
       "      <th>X176</th>\n",
       "      <th>X177</th>\n",
       "      <th>X178</th>\n",
       "      <th>y</th>\n",
       "    </tr>\n",
       "    <tr>\n",
       "      <th>Unnamed</th>\n",
       "      <th></th>\n",
       "      <th></th>\n",
       "      <th></th>\n",
       "      <th></th>\n",
       "      <th></th>\n",
       "      <th></th>\n",
       "      <th></th>\n",
       "      <th></th>\n",
       "      <th></th>\n",
       "      <th></th>\n",
       "      <th></th>\n",
       "      <th></th>\n",
       "      <th></th>\n",
       "      <th></th>\n",
       "      <th></th>\n",
       "      <th></th>\n",
       "      <th></th>\n",
       "      <th></th>\n",
       "      <th></th>\n",
       "      <th></th>\n",
       "      <th></th>\n",
       "    </tr>\n",
       "  </thead>\n",
       "  <tbody>\n",
       "    <tr>\n",
       "      <th>X21.V1.791</th>\n",
       "      <td>135</td>\n",
       "      <td>190</td>\n",
       "      <td>229</td>\n",
       "      <td>223</td>\n",
       "      <td>192</td>\n",
       "      <td>125</td>\n",
       "      <td>55</td>\n",
       "      <td>-9</td>\n",
       "      <td>-33</td>\n",
       "      <td>-38</td>\n",
       "      <td>...</td>\n",
       "      <td>-17</td>\n",
       "      <td>-15</td>\n",
       "      <td>-31</td>\n",
       "      <td>-77</td>\n",
       "      <td>-103</td>\n",
       "      <td>-127</td>\n",
       "      <td>-116</td>\n",
       "      <td>-83</td>\n",
       "      <td>-51</td>\n",
       "      <td>4</td>\n",
       "    </tr>\n",
       "    <tr>\n",
       "      <th>X15.V1.924</th>\n",
       "      <td>386</td>\n",
       "      <td>382</td>\n",
       "      <td>356</td>\n",
       "      <td>331</td>\n",
       "      <td>320</td>\n",
       "      <td>315</td>\n",
       "      <td>307</td>\n",
       "      <td>272</td>\n",
       "      <td>244</td>\n",
       "      <td>232</td>\n",
       "      <td>...</td>\n",
       "      <td>164</td>\n",
       "      <td>150</td>\n",
       "      <td>146</td>\n",
       "      <td>152</td>\n",
       "      <td>157</td>\n",
       "      <td>156</td>\n",
       "      <td>154</td>\n",
       "      <td>143</td>\n",
       "      <td>129</td>\n",
       "      <td>1</td>\n",
       "    </tr>\n",
       "    <tr>\n",
       "      <th>X8.V1.1</th>\n",
       "      <td>-32</td>\n",
       "      <td>-39</td>\n",
       "      <td>-47</td>\n",
       "      <td>-37</td>\n",
       "      <td>-32</td>\n",
       "      <td>-36</td>\n",
       "      <td>-57</td>\n",
       "      <td>-73</td>\n",
       "      <td>-85</td>\n",
       "      <td>-94</td>\n",
       "      <td>...</td>\n",
       "      <td>57</td>\n",
       "      <td>64</td>\n",
       "      <td>48</td>\n",
       "      <td>19</td>\n",
       "      <td>-12</td>\n",
       "      <td>-30</td>\n",
       "      <td>-35</td>\n",
       "      <td>-35</td>\n",
       "      <td>-36</td>\n",
       "      <td>5</td>\n",
       "    </tr>\n",
       "    <tr>\n",
       "      <th>X16.V1.60</th>\n",
       "      <td>-105</td>\n",
       "      <td>-101</td>\n",
       "      <td>-96</td>\n",
       "      <td>-92</td>\n",
       "      <td>-89</td>\n",
       "      <td>-95</td>\n",
       "      <td>-102</td>\n",
       "      <td>-100</td>\n",
       "      <td>-87</td>\n",
       "      <td>-79</td>\n",
       "      <td>...</td>\n",
       "      <td>-82</td>\n",
       "      <td>-81</td>\n",
       "      <td>-80</td>\n",
       "      <td>-77</td>\n",
       "      <td>-85</td>\n",
       "      <td>-77</td>\n",
       "      <td>-72</td>\n",
       "      <td>-69</td>\n",
       "      <td>-65</td>\n",
       "      <td>5</td>\n",
       "    </tr>\n",
       "    <tr>\n",
       "      <th>X20.V1.54</th>\n",
       "      <td>-9</td>\n",
       "      <td>-65</td>\n",
       "      <td>-98</td>\n",
       "      <td>-102</td>\n",
       "      <td>-78</td>\n",
       "      <td>-48</td>\n",
       "      <td>-16</td>\n",
       "      <td>0</td>\n",
       "      <td>-21</td>\n",
       "      <td>-59</td>\n",
       "      <td>...</td>\n",
       "      <td>4</td>\n",
       "      <td>2</td>\n",
       "      <td>-12</td>\n",
       "      <td>-32</td>\n",
       "      <td>-41</td>\n",
       "      <td>-65</td>\n",
       "      <td>-83</td>\n",
       "      <td>-89</td>\n",
       "      <td>-73</td>\n",
       "      <td>5</td>\n",
       "    </tr>\n",
       "  </tbody>\n",
       "</table>\n",
       "<p>5 rows × 179 columns</p>\n",
       "</div>"
      ],
      "text/plain": [
       "             X1   X2   X3   X4   X5   X6   X7   X8   X9  X10  ...  X170  X171  \\\n",
       "Unnamed                                                       ...               \n",
       "X21.V1.791  135  190  229  223  192  125   55   -9  -33  -38  ...   -17   -15   \n",
       "X15.V1.924  386  382  356  331  320  315  307  272  244  232  ...   164   150   \n",
       "X8.V1.1     -32  -39  -47  -37  -32  -36  -57  -73  -85  -94  ...    57    64   \n",
       "X16.V1.60  -105 -101  -96  -92  -89  -95 -102 -100  -87  -79  ...   -82   -81   \n",
       "X20.V1.54    -9  -65  -98 -102  -78  -48  -16    0  -21  -59  ...     4     2   \n",
       "\n",
       "            X172  X173  X174  X175  X176  X177  X178  y  \n",
       "Unnamed                                                  \n",
       "X21.V1.791   -31   -77  -103  -127  -116   -83   -51  4  \n",
       "X15.V1.924   146   152   157   156   154   143   129  1  \n",
       "X8.V1.1       48    19   -12   -30   -35   -35   -36  5  \n",
       "X16.V1.60    -80   -77   -85   -77   -72   -69   -65  5  \n",
       "X20.V1.54    -12   -32   -41   -65   -83   -89   -73  5  \n",
       "\n",
       "[5 rows x 179 columns]"
      ]
     },
     "execution_count": 3,
     "metadata": {},
     "output_type": "execute_result"
    }
   ],
   "source": [
    "df.head()"
   ]
  },
  {
   "cell_type": "code",
   "execution_count": 22,
   "id": "3fe0e9af",
   "metadata": {},
   "outputs": [
    {
     "name": "stdout",
     "output_type": "stream",
     "text": [
      "<class 'pandas.core.frame.DataFrame'>\n",
      "Index: 11500 entries, X21.V1.791 to X16.V1.210\n",
      "Columns: 179 entries, X1 to y\n",
      "dtypes: int64(179)\n",
      "memory usage: 15.8+ MB\n"
     ]
    }
   ],
   "source": [
    "df.info()"
   ]
  },
  {
   "cell_type": "code",
   "execution_count": 5,
   "id": "b0b12672",
   "metadata": {},
   "outputs": [],
   "source": [
    "bin_map = {1 : 1 , 2:0,3:0,4:0,5:0}\n",
    "df['y'] = df['y'].replace(bin_map)"
   ]
  },
  {
   "cell_type": "code",
   "execution_count": 6,
   "id": "8a50bafd",
   "metadata": {},
   "outputs": [],
   "source": [
    "from torch.utils.data import DataLoader,Dataset"
   ]
  },
  {
   "cell_type": "code",
   "execution_count": 7,
   "id": "ef075bc3",
   "metadata": {},
   "outputs": [],
   "source": [
    "from sklearn.model_selection import train_test_split\n",
    "train_df, test_df = train_test_split(df, test_size=0.2, random_state=42)"
   ]
  },
  {
   "cell_type": "code",
   "execution_count": 8,
   "id": "69deccbd",
   "metadata": {},
   "outputs": [
    {
     "name": "stdout",
     "output_type": "stream",
     "text": [
      "<class 'pandas.core.frame.DataFrame'>\n",
      "Index: 9200 entries, X12.V1.764 to X15.V1.871\n",
      "Columns: 179 entries, X1 to y\n",
      "dtypes: int64(179)\n",
      "memory usage: 12.6+ MB\n"
     ]
    }
   ],
   "source": [
    "train_df.info()"
   ]
  },
  {
   "cell_type": "code",
   "execution_count": 9,
   "id": "04707828",
   "metadata": {},
   "outputs": [
    {
     "name": "stdout",
     "output_type": "stream",
     "text": [
      "<class 'pandas.core.frame.DataFrame'>\n",
      "Index: 2300 entries, X6.V1.83 to X9.V1.3\n",
      "Columns: 179 entries, X1 to y\n",
      "dtypes: int64(179)\n",
      "memory usage: 3.2+ MB\n"
     ]
    }
   ],
   "source": [
    "test_df.info()"
   ]
  },
  {
   "cell_type": "code",
   "execution_count": 10,
   "id": "5d75cea8",
   "metadata": {},
   "outputs": [],
   "source": [
    "class EEG_Dataset(Dataset):\n",
    "    \n",
    "    def __init__(self,df):\n",
    "        self.df = df\n",
    "        self.features = df.drop('y',axis=1).values\n",
    "        self.labels = df['y'].values\n",
    "    def __len__(self):\n",
    "        return len(self.df)\n",
    "    def __getitem__(self,idx):\n",
    "        feature = torch.Tensor(self.features[idx])\n",
    "        label = torch.tensor(self.labels[idx])\n",
    "        return feature,label"
   ]
  },
  {
   "cell_type": "code",
   "execution_count": 11,
   "id": "bc3901fa",
   "metadata": {},
   "outputs": [],
   "source": [
    "train_dataset = EEG_Dataset(train_df)\n",
    "test_dataset = EEG_Dataset(test_df)"
   ]
  },
  {
   "cell_type": "code",
   "execution_count": 12,
   "id": "9cc1e6c3",
   "metadata": {},
   "outputs": [],
   "source": [
    "def pad_collate(batch):\n",
    "    data = [item[0] for item in batch]\n",
    "    labels = [item[1] for item in batch]\n",
    "    max_size = max([item.size(0) for item in data])\n",
    "    padded_data = [F.pad(item, (0, max_size - item.size(0))) for item in data]\n",
    "    return torch.stack(padded_data), torch.tensor(labels)"
   ]
  },
  {
   "cell_type": "code",
   "execution_count": 13,
   "id": "0f9ff069",
   "metadata": {},
   "outputs": [],
   "source": [
    "train_batch_size = 250\n",
    "test_batch_size = 250\n",
    "train_loader = DataLoader(train_dataset,batch_size=train_batch_size,shuffle=True,collate_fn=pad_collate)\n",
    "test_loader = DataLoader(test_dataset,batch_size=test_batch_size,shuffle=False,collate_fn=pad_collate)"
   ]
  },
  {
   "cell_type": "code",
   "execution_count": 14,
   "id": "b7ca53dc",
   "metadata": {},
   "outputs": [],
   "source": [
    "class LSTM(nn.Module):\n",
    "    def __init__(self,in_size,hidden_size=32,out_size=1,num_layers=2,bidirectional=True,p=0.4):\n",
    "        super(LSTM,self).__init__()\n",
    "        \n",
    "        self.hidden_size = hidden_size\n",
    "        self.num_layers = num_layers\n",
    "        self.num_dir = 2 if bidirectional else 1\n",
    "        \n",
    "        self.lstm = nn.LSTM(in_size,hidden_size,num_layers,bidirectional=bidirectional,batch_first=True)\n",
    "        self.fc = nn.Linear(self.num_dir*hidden_size,out_size)\n",
    "        self.dropout = nn.Dropout(p)\n",
    "        \n",
    "    def forward(self,x,hidden):\n",
    "        lstm_out,hidden = self.lstm(x,hidden)\n",
    "        lstm_out = self.dropout(lstm_out)\n",
    "        pred = self.fc(lstm_out[:,-1,:])\n",
    "        return pred,hidden\n",
    "    \n",
    "    def init_hidden(self,batch_size):\n",
    "        hidden = (torch.zeros(self.num_dir*self.num_layers,batch_size,self.hidden_size).to(device),\n",
    "                 torch.zeros(self.num_dir*self.num_layers,batch_size,self.hidden_size).to(device))\n",
    "        return hidden"
   ]
  },
  {
   "cell_type": "code",
   "execution_count": 15,
   "id": "b3535dbe",
   "metadata": {},
   "outputs": [],
   "source": [
    "model = LSTM(train_df.shape[1]-1,hidden_size=256,out_size=2,num_layers=1,bidirectional=False).to(device)"
   ]
  },
  {
   "cell_type": "code",
   "execution_count": 16,
   "id": "e907023d",
   "metadata": {},
   "outputs": [
    {
     "data": {
      "text/plain": [
       "LSTM(\n",
       "  (lstm): LSTM(178, 256, batch_first=True)\n",
       "  (fc): Linear(in_features=256, out_features=2, bias=True)\n",
       "  (dropout): Dropout(p=0.4, inplace=False)\n",
       ")"
      ]
     },
     "execution_count": 16,
     "metadata": {},
     "output_type": "execute_result"
    }
   ],
   "source": [
    "model"
   ]
  },
  {
   "cell_type": "code",
   "execution_count": 17,
   "id": "a18cff62",
   "metadata": {},
   "outputs": [],
   "source": [
    "criterion = nn.CrossEntropyLoss()\n",
    "optimizer = torch.optim.Adam(model.parameters(),lr=0.001)\n",
    "num_epochs = 500"
   ]
  },
  {
   "cell_type": "code",
   "execution_count": 18,
   "id": "e2016e3d",
   "metadata": {},
   "outputs": [
    {
     "name": "stdout",
     "output_type": "stream",
     "text": [
      "epoch : 50 loss : 0.16676928102970123\n",
      "epoch : 100 loss : 0.16159594058990479\n",
      "epoch : 150 loss : 0.14939987659454346\n",
      "epoch : 200 loss : 0.17595107853412628\n",
      "epoch : 250 loss : 0.11360174417495728\n",
      "epoch : 300 loss : 0.16056251525878906\n",
      "epoch : 350 loss : 0.14092794060707092\n",
      "epoch : 400 loss : 0.09706249088048935\n",
      "epoch : 450 loss : 0.04435652121901512\n",
      "epoch : 500 loss : 0.05099885165691376\n"
     ]
    }
   ],
   "source": [
    "for epoch in range(num_epochs):\n",
    "    for feature,label in train_loader:\n",
    "        feature,label = feature.to(device),label.to(device)\n",
    "        feature = feature.unsqueeze(1)\n",
    "        hidden = model.init_hidden(feature.size(0))\n",
    "        y_pred,hidden = model(feature,hidden)\n",
    "        loss = criterion(y_pred,label)\n",
    "        optimizer.zero_grad()\n",
    "        loss.backward()\n",
    "        optimizer.step()\n",
    "    if (epoch+1)%50==0:\n",
    "        print(f\"epoch : {epoch+1} loss : {loss.item()}\")"
   ]
  },
  {
   "cell_type": "code",
   "execution_count": 21,
   "id": "49fb29a6",
   "metadata": {},
   "outputs": [
    {
     "name": "stdout",
     "output_type": "stream",
     "text": [
      "Average Loss on the test set: 0.3183\n",
      "Accuracy of the model on the test set: 89.04%\n"
     ]
    }
   ],
   "source": [
    "model.eval()  # Set the model to evaluation mode\n",
    "total_loss = 0.0\n",
    "correct = 0\n",
    "total = 0\n",
    "\n",
    "with torch.no_grad():\n",
    "    for feature, label in test_loader:\n",
    "        feature, label = feature.to(device), label.to(device)\n",
    "        feature = feature.unsqueeze(1)\n",
    "        hidden = model.init_hidden(feature.size(0))\n",
    "        outputs, _ = model(feature, hidden)\n",
    "        outputs = outputs.view(label.size(0), -1)\n",
    "        loss = criterion(outputs, label)\n",
    "        total_loss += loss.item()\n",
    "        _, predicted = torch.max(outputs, 1)\n",
    "        total += label.size(0)\n",
    "        correct += (predicted == label).sum().item()\n",
    "    avg_loss = total_loss / len(test_loader)\n",
    "    accuracy = 100 * correct / total\n",
    "\n",
    "print(f'Average Loss on the test set: {avg_loss:.4f}')\n",
    "print(f'Accuracy of the model on the test set: {accuracy:.2f}%')\n",
    "\n",
    "   "
   ]
  }
 ],
 "metadata": {
  "kernelspec": {
   "display_name": "Python 3 (ipykernel)",
   "language": "python",
   "name": "python3"
  },
  "language_info": {
   "codemirror_mode": {
    "name": "ipython",
    "version": 3
   },
   "file_extension": ".py",
   "mimetype": "text/x-python",
   "name": "python",
   "nbconvert_exporter": "python",
   "pygments_lexer": "ipython3",
   "version": "3.11.5"
  }
 },
 "nbformat": 4,
 "nbformat_minor": 5
}

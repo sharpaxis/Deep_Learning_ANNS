{
 "cells": [
  {
   "cell_type": "code",
   "execution_count": 1,
   "id": "da16616c",
   "metadata": {},
   "outputs": [],
   "source": [
    "#basic imports\n",
    "import numpy as np\n",
    "import pandas as pd\n",
    "import seaborn as sns\n",
    "import matplotlib.pyplot as plt\n",
    "import torch\n",
    "import torch.nn as nn\n",
    "import torch.optim as optim"
   ]
  },
  {
   "cell_type": "code",
   "execution_count": 34,
   "id": "234e4a3c",
   "metadata": {},
   "outputs": [],
   "source": [
    "df = pd.read_csv('Cleaned_2048_sample.csv')"
   ]
  },
  {
   "cell_type": "code",
   "execution_count": 19,
   "id": "38b93cb6",
   "metadata": {},
   "outputs": [],
   "source": [
    "cols = [f\"tile_{i}\" for i in range(0,16)]\n",
    "cols.append(\"Move\")\n",
    "df.columns = cols"
   ]
  },
  {
   "cell_type": "code",
   "execution_count": 3,
   "id": "67be87de",
   "metadata": {},
   "outputs": [],
   "source": [
    "prior_len = len(df)"
   ]
  },
  {
   "cell_type": "code",
   "execution_count": 4,
   "id": "9b1d7afe",
   "metadata": {},
   "outputs": [],
   "source": [
    "df.drop_duplicates(inplace=True)"
   ]
  },
  {
   "cell_type": "code",
   "execution_count": 5,
   "id": "17999d92",
   "metadata": {},
   "outputs": [],
   "source": [
    "later_len = len(df)"
   ]
  },
  {
   "cell_type": "code",
   "execution_count": 7,
   "id": "277e63be",
   "metadata": {},
   "outputs": [],
   "source": [
    "diff = prior_len - later_len"
   ]
  },
  {
   "cell_type": "code",
   "execution_count": 10,
   "id": "e48a4646",
   "metadata": {},
   "outputs": [
    {
     "data": {
      "text/plain": [
       "0.5942971868726757"
      ]
     },
     "execution_count": 10,
     "metadata": {},
     "output_type": "execute_result"
    }
   ],
   "source": [
    "diff/prior_len"
   ]
  },
  {
   "cell_type": "code",
   "execution_count": 14,
   "id": "35eaa471",
   "metadata": {},
   "outputs": [
    {
     "data": {
      "text/plain": [
       "30624388"
      ]
     },
     "execution_count": 14,
     "metadata": {},
     "output_type": "execute_result"
    }
   ],
   "source": [
    "# 40% of orignal data\n",
    "later_len"
   ]
  },
  {
   "cell_type": "code",
   "execution_count": 20,
   "id": "2fa7b9d8",
   "metadata": {},
   "outputs": [
    {
     "name": "stdout",
     "output_type": "stream",
     "text": [
      "<class 'pandas.core.frame.DataFrame'>\n",
      "Index: 30624388 entries, 0 to 75484780\n",
      "Data columns (total 17 columns):\n",
      " #   Column   Dtype  \n",
      "---  ------   -----  \n",
      " 0   tile_0   int64  \n",
      " 1   tile_1   int64  \n",
      " 2   tile_2   int64  \n",
      " 3   tile_3   int64  \n",
      " 4   tile_4   int64  \n",
      " 5   tile_5   int64  \n",
      " 6   tile_6   int64  \n",
      " 7   tile_7   int64  \n",
      " 8   tile_8   int64  \n",
      " 9   tile_9   int64  \n",
      " 10  tile_10  int64  \n",
      " 11  tile_11  int64  \n",
      " 12  tile_12  int64  \n",
      " 13  tile_13  int64  \n",
      " 14  tile_14  int64  \n",
      " 15  tile_15  int64  \n",
      " 16  Move     float64\n",
      "dtypes: float64(1), int64(16)\n",
      "memory usage: 4.1 GB\n"
     ]
    }
   ],
   "source": [
    "df.info()"
   ]
  },
  {
   "cell_type": "code",
   "execution_count": 21,
   "id": "151e225e",
   "metadata": {},
   "outputs": [],
   "source": [
    "df['Move'] = df['Move'].astype('float16')\n",
    "cols = list(df.columns)[:-1]\n",
    "for col in cols:\n",
    "    df[col] = df[col].astype('int16')"
   ]
  },
  {
   "cell_type": "code",
   "execution_count": 22,
   "id": "f5ce2b97",
   "metadata": {
    "scrolled": true
   },
   "outputs": [
    {
     "name": "stdout",
     "output_type": "stream",
     "text": [
      "<class 'pandas.core.frame.DataFrame'>\n",
      "Index: 30624388 entries, 0 to 75484780\n",
      "Data columns (total 17 columns):\n",
      " #   Column   Dtype  \n",
      "---  ------   -----  \n",
      " 0   tile_0   int16  \n",
      " 1   tile_1   int16  \n",
      " 2   tile_2   int16  \n",
      " 3   tile_3   int16  \n",
      " 4   tile_4   int16  \n",
      " 5   tile_5   int16  \n",
      " 6   tile_6   int16  \n",
      " 7   tile_7   int16  \n",
      " 8   tile_8   int16  \n",
      " 9   tile_9   int16  \n",
      " 10  tile_10  int16  \n",
      " 11  tile_11  int16  \n",
      " 12  tile_12  int16  \n",
      " 13  tile_13  int16  \n",
      " 14  tile_14  int16  \n",
      " 15  tile_15  int16  \n",
      " 16  Move     float16\n",
      "dtypes: float16(1), int16(16)\n",
      "memory usage: 1.2 GB\n"
     ]
    }
   ],
   "source": [
    "df.info()"
   ]
  },
  {
   "cell_type": "code",
   "execution_count": 23,
   "id": "3628ced1",
   "metadata": {},
   "outputs": [
    {
     "name": "stdout",
     "output_type": "stream",
     "text": [
      "8.0 32.0 64.0 2048.0 \n",
      "\n",
      "4.0 32.0 8.0 4.0 \n",
      "\n",
      "4.0 0.0 0.0 0.0 \n",
      "\n",
      "4.0 0.0 0.0 0.0 \n",
      "\n"
     ]
    }
   ],
   "source": [
    "#board state\n",
    "for i in range(len(list(df.iloc[1000]))-1):\n",
    "    element = list(df.iloc[1000])[i]\n",
    "    if element == 0.0:\n",
    "        print(\"0.0\",end=\" \")\n",
    "    else:\n",
    "        print(2 ** element,end=\" \")\n",
    "    if (i+1) % 4==0:\n",
    "        print(\"\\n\")"
   ]
  },
  {
   "cell_type": "markdown",
   "id": "c9b1dce5",
   "metadata": {},
   "source": [
    "### 0=up, 1=right, 2=down, 3-left"
   ]
  },
  {
   "cell_type": "code",
   "execution_count": 24,
   "id": "69e99e6b",
   "metadata": {
    "scrolled": true
   },
   "outputs": [
    {
     "data": {
      "text/plain": [
       "Move\n",
       "0.0    15989263\n",
       "3.0     7349328\n",
       "1.0     7284498\n",
       "2.0        1253\n",
       "Name: count, dtype: int64"
      ]
     },
     "execution_count": 24,
     "metadata": {},
     "output_type": "execute_result"
    }
   ],
   "source": [
    "df['Move'].value_counts()"
   ]
  },
  {
   "cell_type": "code",
   "execution_count": 30,
   "id": "078c2f87",
   "metadata": {},
   "outputs": [],
   "source": [
    "sampled_df = df.sample(frac=0.1,random_state=101)"
   ]
  },
  {
   "cell_type": "code",
   "execution_count": 31,
   "id": "f92a1ab4",
   "metadata": {},
   "outputs": [
    {
     "data": {
      "text/plain": [
       "Move\n",
       "0.0    1599125\n",
       "3.0     734685\n",
       "1.0     728494\n",
       "2.0        125\n",
       "Name: count, dtype: int64"
      ]
     },
     "execution_count": 31,
     "metadata": {},
     "output_type": "execute_result"
    }
   ],
   "source": [
    "sampled_df['Move'].value_counts()"
   ]
  },
  {
   "cell_type": "code",
   "execution_count": 33,
   "id": "cd279d27",
   "metadata": {},
   "outputs": [],
   "source": [
    "sampled_df.to_csv('Cleaned_2048_sample.csv')"
   ]
  },
  {
   "cell_type": "code",
   "execution_count": null,
   "id": "ee9ddf6d",
   "metadata": {},
   "outputs": [],
   "source": [
    "from sklearn.model_selection import train_test_split\n",
    "X_train,X_test,y_train,y_test = train_test_split(X,y,stratify=y)"
   ]
  }
 ],
 "metadata": {
  "kernelspec": {
   "display_name": "Python 3 (ipykernel)",
   "language": "python",
   "name": "python3"
  },
  "language_info": {
   "codemirror_mode": {
    "name": "ipython",
    "version": 3
   },
   "file_extension": ".py",
   "mimetype": "text/x-python",
   "name": "python",
   "nbconvert_exporter": "python",
   "pygments_lexer": "ipython3",
   "version": "3.11.5"
  }
 },
 "nbformat": 4,
 "nbformat_minor": 5
}

{
 "cells": [
  {
   "cell_type": "code",
   "execution_count": null,
   "id": "a16d79ab",
   "metadata": {},
   "outputs": [],
   "source": [
    "import numpy as np\n",
    "import pandas as pd\n",
    "import seaborn as sns\n",
    "import matplotlib.pyplot as plt\n",
    "%matplotlib inline\n",
    "import warnings\n",
    "warnings.filterwarnings('ignore')\n",
    "sns.set_style('white')"
   ]
  },
  {
   "cell_type": "code",
   "execution_count": null,
   "id": "c506f54c",
   "metadata": {},
   "outputs": [],
   "source": [
    "train_df = pd.read_csv('train.csv')\n",
    "test_df = pd.read_csv('test.csv')"
   ]
  },
  {
   "cell_type": "code",
   "execution_count": null,
   "id": "768d66f5",
   "metadata": {},
   "outputs": [],
   "source": [
    "train_df.head()"
   ]
  },
  {
   "cell_type": "code",
   "execution_count": null,
   "id": "8d321c0c",
   "metadata": {},
   "outputs": [],
   "source": [
    "train_df.describe().T"
   ]
  },
  {
   "cell_type": "code",
   "execution_count": null,
   "id": "18d02c16",
   "metadata": {},
   "outputs": [],
   "source": [
    "train_df.info()"
   ]
  },
  {
   "cell_type": "code",
   "execution_count": null,
   "id": "19ae89ca",
   "metadata": {},
   "outputs": [],
   "source": [
    "from ydata_profiling import ProfileReport\n",
    "report = ProfileReport(train_df)\n",
    "report"
   ]
  },
  {
   "cell_type": "code",
   "execution_count": null,
   "id": "e56c25a9",
   "metadata": {},
   "outputs": [],
   "source": [
    "train_df.isnull().sum()"
   ]
  },
  {
   "cell_type": "code",
   "execution_count": null,
   "id": "c1945f79",
   "metadata": {},
   "outputs": [],
   "source": [
    "#duplicates\n",
    "train_df.drop_duplicates(inplace=True)"
   ]
  },
  {
   "cell_type": "markdown",
   "id": "b14a8b3e",
   "metadata": {},
   "source": [
    "## EDA"
   ]
  },
  {
   "cell_type": "code",
   "execution_count": null,
   "id": "2fc2314f",
   "metadata": {},
   "outputs": [],
   "source": [
    "from sklearn.preprocessing import LabelEncoder\n",
    "lbl_en = LabelEncoder()\n",
    "train_df['Target'] = lbl_en.fit_transform(train_df['Target'])"
   ]
  },
  {
   "cell_type": "code",
   "execution_count": null,
   "id": "aa29f122",
   "metadata": {},
   "outputs": [],
   "source": [
    "#correlation with target\n",
    "train_df.select_dtypes(include='number').corr()['Target'].drop('Target').sort_values(ascending=False).plot(kind='bar')"
   ]
  },
  {
   "cell_type": "code",
   "execution_count": null,
   "id": "f3bfab1a",
   "metadata": {},
   "outputs": [],
   "source": [
    "#correlational heatmap\n",
    "sns.heatmap(train_df.select_dtypes(include='number').corr(),cmap='magma',linecolor='white',linewidths=0.725)"
   ]
  },
  {
   "cell_type": "code",
   "execution_count": null,
   "id": "2c4168c4",
   "metadata": {},
   "outputs": [],
   "source": [
    "#categorical columns\n",
    "cat_cols = ['Marital status','Course','Daytime/evening attendance','Previous qualification','Nacionality',\"Mother's qualification\", \"Father's qualification\",\"Mother's occupation\", \"Father's occupation\",'Displaced', 'Educational special needs', 'Debtor','Tuition fees up to date', 'Gender', 'Scholarship holder','International','Target']\n",
    "num_cols = ['Application mode','Application order','Previous qualification (grade)','Admission grade','Age at enrollment','Curricular units 1st sem (credited)','Curricular units 1st sem (enrolled)','Curricular units 1st sem (evaluations)',\n",
    "        'Curricular units 1st sem (approved)',\n",
    "       'Curricular units 1st sem (grade)',\n",
    "       'Curricular units 1st sem (without evaluations)',\n",
    "       'Curricular units 2nd sem (credited)',\n",
    "       'Curricular units 2nd sem (enrolled)',\n",
    "       'Curricular units 2nd sem (evaluations)',\n",
    "       'Curricular units 2nd sem (approved)',\n",
    "       'Curricular units 2nd sem (grade)',\n",
    "       'Curricular units 2nd sem (without evaluations)', 'Unemployment rate',\n",
    "       'Inflation rate', 'GDP']"
   ]
  },
  {
   "cell_type": "code",
   "execution_count": null,
   "id": "8aca53d7",
   "metadata": {},
   "outputs": [],
   "source": [
    "#transforming marital status into binary 0 if 1 and 1 for 2,3,4,5,6\n",
    "train_df['Marital status'] = train_df['Marital status'].apply(lambda x : 0 if x == 1 else 1)"
   ]
  },
  {
   "cell_type": "code",
   "execution_count": null,
   "id": "40930990",
   "metadata": {},
   "outputs": [],
   "source": [
    "train_df['Marital status'].value_counts()"
   ]
  },
  {
   "cell_type": "code",
   "execution_count": null,
   "id": "e5d6aa65",
   "metadata": {},
   "outputs": [],
   "source": [
    "#mapping course code to numbers\n",
    "train_df['Course'] = lbl_en.fit_transform(train_df['Course'])"
   ]
  },
  {
   "cell_type": "code",
   "execution_count": null,
   "id": "7235aa75",
   "metadata": {},
   "outputs": [],
   "source": [
    "#plotting distribution plots for numerical columns\n",
    "num_plots = len(num_cols)\n",
    "num_rows = (num_plots+1)//2\n",
    "fig, axes = plt.subplots(nrows=num_rows,ncols=2,figsize=(20,20))\n",
    "for i,column in enumerate(num_cols):\n",
    "    row = i//2\n",
    "    col = i%2\n",
    "    ax = axes[row,col]\n",
    "    sns.histplot(train_df[column],ax=ax,kde=True,bins=40)\n",
    "    ax.set_title(f'Histplot of {column}')\n",
    "    ax.set_xlabel(column)\n",
    "plt.tight_layout()\n",
    "plt.show()"
   ]
  },
  {
   "cell_type": "code",
   "execution_count": null,
   "id": "78693749",
   "metadata": {},
   "outputs": [],
   "source": [
    "#plotting box plots for numerical columns\n",
    "num_plots = len(num_cols)\n",
    "num_rows = (num_plots+1)//2\n",
    "fig, axes = plt.subplots(nrows=num_rows,ncols=2,figsize=(20,20))\n",
    "for i,column in enumerate(num_cols):\n",
    "    row = i//2\n",
    "    col = i%2\n",
    "    ax = axes[row,col]\n",
    "    sns.boxplot(x = train_df[column],ax=ax)\n",
    "    ax.set_title(f'Boxplot of {column}')\n",
    "    ax.set_xlabel(column)\n",
    "plt.tight_layout()\n",
    "plt.show()"
   ]
  },
  {
   "cell_type": "code",
   "execution_count": null,
   "id": "3fa72bd7",
   "metadata": {},
   "outputs": [],
   "source": [
    "#plotting distribution plots for numerical columns\n",
    "num_plots = len(cat_cols)\n",
    "num_rows = (num_plots+1)//2\n",
    "fig, axes = plt.subplots(nrows=num_rows,ncols=2,figsize=(20,20))\n",
    "for i,column in enumerate(cat_cols):\n",
    "    row = i//2\n",
    "    col = i%2\n",
    "    ax = axes[row,col]\n",
    "    sns.histplot(train_df[column],ax=ax,bins=40)\n",
    "    ax.set_title(f'Countplot of {column}')\n",
    "    ax.set_xlabel(column)\n",
    "plt.tight_layout()\n",
    "plt.show()"
   ]
  },
  {
   "cell_type": "code",
   "execution_count": null,
   "id": "ed203453",
   "metadata": {},
   "outputs": [],
   "source": [
    "#exploring target column\n",
    "sns.countplot(x='Target',data=train_df,palette='viridis')"
   ]
  },
  {
   "cell_type": "code",
   "execution_count": null,
   "id": "32a74db6",
   "metadata": {},
   "outputs": [],
   "source": [
    "train_df.drop('id',axis=1,inplace=True)\n",
    "test_df.drop('id',axis=1,inplace=True)"
   ]
  },
  {
   "cell_type": "code",
   "execution_count": null,
   "id": "e1cac3c2",
   "metadata": {},
   "outputs": [],
   "source": [
    "train_df['Target'].value_counts()\n",
    "rev_map = {2 : \"Graduate\",0:\"Dropout\",1:\"Enrolled\"}"
   ]
  },
  {
   "cell_type": "code",
   "execution_count": null,
   "id": "30de5dcc",
   "metadata": {},
   "outputs": [],
   "source": [
    "#preprocessing\n",
    "X_train = train_df.drop('Target',axis=1)\n",
    "y_train = train_df['Target']\n",
    "X_test = test_df"
   ]
  },
  {
   "cell_type": "code",
   "execution_count": null,
   "id": "31dbf42b",
   "metadata": {},
   "outputs": [],
   "source": [
    "from sklearn.preprocessing import StandardScaler\n",
    "st_sclr = StandardScaler()\n",
    "X_train = st_sclr.fit_transform(X_train)\n",
    "#not assuming prior info about test set\n",
    "X_test = st_sclr.transform(X_test)"
   ]
  },
  {
   "cell_type": "markdown",
   "id": "2538c50c",
   "metadata": {},
   "source": [
    "### Submission function"
   ]
  },
  {
   "cell_type": "code",
   "execution_count": null,
   "id": "ec4c960d",
   "metadata": {},
   "outputs": [],
   "source": [
    "def pred_to_csv(prediction,model_name):\n",
    "    new_test_df = pd.read_csv(\"test.csv\")\n",
    "    pred_df = pd.DataFrame(prediction,columns=[\"Target\"])\n",
    "    pred_df = pd.concat([pred_df,new_test_df['id']],axis=1)\n",
    "    pred_df.set_index(\"id\",inplace=True)\n",
    "    pred_df = pred_df.replace(rev_map)\n",
    "    pred_df.to_csv(\"ps_s4_e6_\"+str(model_name)+\".csv\")"
   ]
  },
  {
   "cell_type": "markdown",
   "id": "a0b24103",
   "metadata": {},
   "source": [
    "### Fitting models"
   ]
  },
  {
   "cell_type": "code",
   "execution_count": null,
   "id": "6f8f2ed2",
   "metadata": {},
   "outputs": [],
   "source": [
    "feature_df = pd.DataFrame(cat_clf.feature_importances_,index=train_df.drop('Target',axis=1).columns,columns=['importance'])"
   ]
  },
  {
   "cell_type": "code",
   "execution_count": null,
   "id": "2d0939e6",
   "metadata": {},
   "outputs": [],
   "source": [
    "feature_df.sort_values(by='importance',ascending=False).plot(kind='bar')"
   ]
  },
  {
   "cell_type": "code",
   "execution_count": null,
   "id": "6b272d37",
   "metadata": {},
   "outputs": [],
   "source": [
    "X_train_2 = train_df.drop(['Target','Debtor', 'Application order',\n",
    "       'Previous qualification', 'Curricular units 1st sem (credited)',\n",
    "       'Curricular units 2nd sem (credited)',\n",
    "       'Curricular units 2nd sem (without evaluations)',\n",
    "       'Curricular units 1st sem (without evaluations)',\n",
    "       'Daytime/evening attendance', 'Marital status', 'Nacionality',\n",
    "       'International', 'Educational special needs'],axis=1)\n",
    "y_train_2 = train_df['Target']\n",
    "X_test_2 = test_df.drop(['Debtor', 'Application order',\n",
    "       'Previous qualification', 'Curricular units 1st sem (credited)',\n",
    "       'Curricular units 2nd sem (credited)',\n",
    "       'Curricular units 2nd sem (without evaluations)',\n",
    "       'Curricular units 1st sem (without evaluations)',\n",
    "       'Daytime/evening attendance', 'Marital status', 'Nacionality',\n",
    "       'International', 'Educational special needs'],axis=1)"
   ]
  },
  {
   "cell_type": "markdown",
   "id": "45c19aee",
   "metadata": {},
   "source": [
    "### Neural Network"
   ]
  },
  {
   "cell_type": "code",
   "execution_count": null,
   "id": "cf56b8ce",
   "metadata": {},
   "outputs": [],
   "source": [
    "from sklearn.preprocessing import StandardScaler\n",
    "st_sclr = StandardScaler()\n",
    "X_train_2 = st_sclr.fit_transform(X_train_2)\n",
    "#not assuming prior info about test set\n",
    "X_test_2 = st_sclr.transform(X_test_2)"
   ]
  },
  {
   "cell_type": "code",
   "execution_count": null,
   "id": "c6d2be9a",
   "metadata": {},
   "outputs": [],
   "source": [
    "from keras.utils import to_categorical\n",
    "X_train_NN = X_train_2\n",
    "y_train_NN = to_categorical(y_train_2)"
   ]
  },
  {
   "cell_type": "code",
   "execution_count": null,
   "id": "07a4cc75",
   "metadata": {},
   "outputs": [],
   "source": [
    "type(y_train_NN)"
   ]
  },
  {
   "cell_type": "code",
   "execution_count": null,
   "id": "d90e0589",
   "metadata": {},
   "outputs": [],
   "source": [
    "from sklearn.model_selection import train_test_split\n",
    "X_train_NN,X_val_NN,y_train_NN,y_val_NN = train_test_split(X_train_NN,y_train_NN,test_size=0.2)"
   ]
  },
  {
   "cell_type": "markdown",
   "id": "21b52314",
   "metadata": {},
   "source": [
    "### Creating model"
   ]
  },
  {
   "cell_type": "code",
   "execution_count": null,
   "id": "b545b010",
   "metadata": {},
   "outputs": [],
   "source": [
    "from tensorflow.keras.models import Sequential\n",
    "from tensorflow.keras.layers import Dense,Dropout\n",
    "from tensorflow.keras.callbacks import EarlyStopping"
   ]
  },
  {
   "cell_type": "code",
   "execution_count": null,
   "id": "f5824e9d",
   "metadata": {},
   "outputs": [],
   "source": [
    "# Defining EarlyStopping\n",
    "early_stop = EarlyStopping(monitor='val_loss',mode='min',patience=25)\n",
    "#model\n",
    "model = Sequential()\n",
    "#layer 1 -> 24\n",
    "model.add(Dense(24,activation='relu'))\n",
    "model.add(Dropout(0.15))\n",
    "#layer 2 -> 12\n",
    "model.add(Dense(12,activation='relu'))\n",
    "model.add(Dropout(0.15))\n",
    "#layer 3-> 6\n",
    "model.add(Dense(6,activation='relu'))\n",
    "model.add(Dropout(0.15))\n",
    "#layer 4 -> outputabs\n",
    "model.add(Dense(3,activation='softmax'))\n",
    "\n",
    "#compiling model\n",
    "model.compile(loss='categorical_crossentropy',optimizer='adam',metrics = ['accuracy'])"
   ]
  },
  {
   "cell_type": "markdown",
   "id": "4b420054",
   "metadata": {},
   "source": [
    "#### Training model"
   ]
  },
  {
   "cell_type": "code",
   "execution_count": null,
   "id": "21c6dba7",
   "metadata": {},
   "outputs": [],
   "source": [
    "model.fit(x = X_train_NN,\n",
    "          y = y_train_NN,\n",
    "          validation_data = (X_val_NN,y_val_NN),\n",
    "          callbacks=early_stop,\n",
    "          epochs = 250,\n",
    "          batch_size=512)"
   ]
  },
  {
   "cell_type": "code",
   "execution_count": null,
   "id": "7e2f760a",
   "metadata": {},
   "outputs": [],
   "source": [
    "predictions = model.predict(X_test_2)"
   ]
  },
  {
   "cell_type": "code",
   "execution_count": null,
   "id": "7faefe16",
   "metadata": {},
   "outputs": [],
   "source": [
    "pred_NN = np.argmax(predictions,axis=1)"
   ]
  },
  {
   "cell_type": "code",
   "execution_count": null,
   "id": "9fbd21c8",
   "metadata": {},
   "outputs": [],
   "source": [
    "pred_to_csv(pred_NN,\"NN2\")"
   ]
  },
  {
   "cell_type": "code",
   "execution_count": null,
   "id": "b2cfe32f",
   "metadata": {},
   "outputs": [],
   "source": []
  }
 ],
 "metadata": {
  "kernelspec": {
   "display_name": "Python 3 (ipykernel)",
   "language": "python",
   "name": "python3"
  },
  "language_info": {
   "codemirror_mode": {
    "name": "ipython",
    "version": 3
   },
   "file_extension": ".py",
   "mimetype": "text/x-python",
   "name": "python",
   "nbconvert_exporter": "python",
   "pygments_lexer": "ipython3",
   "version": "3.11.5"
  }
 },
 "nbformat": 4,
 "nbformat_minor": 5
}

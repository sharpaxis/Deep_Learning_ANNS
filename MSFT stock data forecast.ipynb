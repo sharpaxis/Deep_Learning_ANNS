{
 "cells": [
  {
   "cell_type": "code",
   "execution_count": 1,
   "id": "e209cc59",
   "metadata": {},
   "outputs": [
    {
     "name": "stderr",
     "output_type": "stream",
     "text": [
      "[*********************100%***********************]  1 of 1 completed\n"
     ]
    }
   ],
   "source": [
    "import yfinance as yf\n",
    "\n",
    "# Download historical stock data for Microsoft (MSFT)\n",
    "df = yf.download('MSFT', start='2008-01-01', end='2011-01-01')"
   ]
  },
  {
   "cell_type": "code",
   "execution_count": 2,
   "id": "d9b859c0",
   "metadata": {},
   "outputs": [],
   "source": [
    "#basic imports\n",
    "import numpy as np\n",
    "import pandas as pd\n",
    "import seaborn as sns\n",
    "import matplotlib.pyplot as plt\n",
    "import torch\n",
    "import torch.nn as nn\n",
    "import torch.nn.functional as F\n",
    "from pandas.plotting import register_matplotlib_converters\n",
    "import matplotlib.ticker as ticker\n",
    "register_matplotlib_converters()"
   ]
  },
  {
   "cell_type": "code",
   "execution_count": 3,
   "id": "1b8d0790",
   "metadata": {},
   "outputs": [],
   "source": [
    "device = torch.device(\"mps\")"
   ]
  },
  {
   "cell_type": "code",
   "execution_count": 4,
   "id": "ce6d7ecf",
   "metadata": {},
   "outputs": [
    {
     "data": {
      "text/html": [
       "<div>\n",
       "<style scoped>\n",
       "    .dataframe tbody tr th:only-of-type {\n",
       "        vertical-align: middle;\n",
       "    }\n",
       "\n",
       "    .dataframe tbody tr th {\n",
       "        vertical-align: top;\n",
       "    }\n",
       "\n",
       "    .dataframe thead th {\n",
       "        text-align: right;\n",
       "    }\n",
       "</style>\n",
       "<table border=\"1\" class=\"dataframe\">\n",
       "  <thead>\n",
       "    <tr style=\"text-align: right;\">\n",
       "      <th></th>\n",
       "      <th>Open</th>\n",
       "      <th>High</th>\n",
       "      <th>Low</th>\n",
       "      <th>Close</th>\n",
       "      <th>Adj Close</th>\n",
       "      <th>Volume</th>\n",
       "    </tr>\n",
       "    <tr>\n",
       "      <th>Date</th>\n",
       "      <th></th>\n",
       "      <th></th>\n",
       "      <th></th>\n",
       "      <th></th>\n",
       "      <th></th>\n",
       "      <th></th>\n",
       "    </tr>\n",
       "  </thead>\n",
       "  <tbody>\n",
       "    <tr>\n",
       "      <th>2008-01-02</th>\n",
       "      <td>35.790001</td>\n",
       "      <td>35.959999</td>\n",
       "      <td>35.000000</td>\n",
       "      <td>35.220001</td>\n",
       "      <td>25.489267</td>\n",
       "      <td>63004200</td>\n",
       "    </tr>\n",
       "    <tr>\n",
       "      <th>2008-01-03</th>\n",
       "      <td>35.220001</td>\n",
       "      <td>35.650002</td>\n",
       "      <td>34.860001</td>\n",
       "      <td>35.369999</td>\n",
       "      <td>25.597824</td>\n",
       "      <td>49599600</td>\n",
       "    </tr>\n",
       "    <tr>\n",
       "      <th>2008-01-04</th>\n",
       "      <td>35.189999</td>\n",
       "      <td>35.200001</td>\n",
       "      <td>34.090000</td>\n",
       "      <td>34.380001</td>\n",
       "      <td>24.881342</td>\n",
       "      <td>72090800</td>\n",
       "    </tr>\n",
       "    <tr>\n",
       "      <th>2008-01-07</th>\n",
       "      <td>34.549999</td>\n",
       "      <td>34.799999</td>\n",
       "      <td>34.250000</td>\n",
       "      <td>34.610001</td>\n",
       "      <td>25.047792</td>\n",
       "      <td>80164300</td>\n",
       "    </tr>\n",
       "    <tr>\n",
       "      <th>2008-01-08</th>\n",
       "      <td>34.709999</td>\n",
       "      <td>34.709999</td>\n",
       "      <td>33.400002</td>\n",
       "      <td>33.450001</td>\n",
       "      <td>24.208282</td>\n",
       "      <td>79148300</td>\n",
       "    </tr>\n",
       "  </tbody>\n",
       "</table>\n",
       "</div>"
      ],
      "text/plain": [
       "                 Open       High        Low      Close  Adj Close    Volume\n",
       "Date                                                                       \n",
       "2008-01-02  35.790001  35.959999  35.000000  35.220001  25.489267  63004200\n",
       "2008-01-03  35.220001  35.650002  34.860001  35.369999  25.597824  49599600\n",
       "2008-01-04  35.189999  35.200001  34.090000  34.380001  24.881342  72090800\n",
       "2008-01-07  34.549999  34.799999  34.250000  34.610001  25.047792  80164300\n",
       "2008-01-08  34.709999  34.709999  33.400002  33.450001  24.208282  79148300"
      ]
     },
     "execution_count": 4,
     "metadata": {},
     "output_type": "execute_result"
    }
   ],
   "source": [
    "df.head()"
   ]
  },
  {
   "cell_type": "code",
   "execution_count": 5,
   "id": "a38f24c8",
   "metadata": {},
   "outputs": [],
   "source": [
    "y = df['Close'].values.astype(float)"
   ]
  },
  {
   "cell_type": "code",
   "execution_count": 6,
   "id": "c189d1c3",
   "metadata": {},
   "outputs": [
    {
     "name": "stdout",
     "output_type": "stream",
     "text": [
      "<class 'pandas.core.frame.DataFrame'>\n",
      "DatetimeIndex: 757 entries, 2008-01-02 to 2010-12-31\n",
      "Data columns (total 6 columns):\n",
      " #   Column     Non-Null Count  Dtype  \n",
      "---  ------     --------------  -----  \n",
      " 0   Open       757 non-null    float64\n",
      " 1   High       757 non-null    float64\n",
      " 2   Low        757 non-null    float64\n",
      " 3   Close      757 non-null    float64\n",
      " 4   Adj Close  757 non-null    float64\n",
      " 5   Volume     757 non-null    int64  \n",
      "dtypes: float64(5), int64(1)\n",
      "memory usage: 41.4 KB\n"
     ]
    }
   ],
   "source": [
    "df.info()"
   ]
  },
  {
   "cell_type": "code",
   "execution_count": 7,
   "id": "043309f8",
   "metadata": {},
   "outputs": [],
   "source": [
    "df.dropna(inplace=True)"
   ]
  },
  {
   "cell_type": "code",
   "execution_count": 8,
   "id": "2d4ef359",
   "metadata": {},
   "outputs": [
    {
     "data": {
      "text/plain": [
       "(757,)"
      ]
     },
     "execution_count": 8,
     "metadata": {},
     "output_type": "execute_result"
    }
   ],
   "source": [
    "y.shape"
   ]
  },
  {
   "cell_type": "markdown",
   "id": "03e64624",
   "metadata": {},
   "source": [
    "### window sizes - 30,90,126 and 252"
   ]
  },
  {
   "cell_type": "code",
   "execution_count": 9,
   "id": "c9af9500",
   "metadata": {},
   "outputs": [],
   "source": [
    "#starting with 30\n",
    "#testing points will always be 252 to check is seasonal pattern is captured or not\n",
    "test_size = 30"
   ]
  },
  {
   "cell_type": "code",
   "execution_count": 10,
   "id": "0ae5909c",
   "metadata": {},
   "outputs": [],
   "source": [
    "train_size = len(y) - test_size"
   ]
  },
  {
   "cell_type": "code",
   "execution_count": 11,
   "id": "1b600722",
   "metadata": {},
   "outputs": [],
   "source": [
    "train_set = y[:train_size]\n",
    "test_set = y[train_size:]"
   ]
  },
  {
   "cell_type": "code",
   "execution_count": 12,
   "id": "7f52f64b",
   "metadata": {},
   "outputs": [
    {
     "data": {
      "text/plain": [
       "array([35.22000122, 35.36999893, 34.38000107, 34.61000061, 33.45000076,\n",
       "       34.43999863, 34.33000183, 33.90999985, 34.38999939, 34.        ,\n",
       "       33.22999954, 33.11000061, 33.00999832, 31.95999908, 31.93000031,\n",
       "       33.25      , 32.93999863, 32.72000122, 32.59999847, 32.20000076,\n",
       "       32.59999847, 30.45000076, 30.19000053, 29.06999969, 28.52000046,\n",
       "       28.12000084, 28.55999947, 28.20999908, 28.34000015, 28.95999908,\n",
       "       28.5       , 28.42000008, 28.17000008, 28.21999931, 28.10000038,\n",
       "       27.68000031, 27.84000015, 28.37999916, 28.26000023, 27.93000031,\n",
       "       27.20000076, 26.98999977, 27.59000015, 28.12000084, 27.56999969,\n",
       "       27.87000084, 28.04999924, 29.28000069, 28.62999916, 28.62000084,\n",
       "       27.95999908, 28.29999924, 29.42000008, 28.62000084, 29.18000031,\n",
       "       29.17000008, 29.13999939, 28.55999947, 28.04999924, 27.90999985,\n",
       "       28.37999916, 29.5       , 29.15999985, 29.        , 29.15999985,\n",
       "       29.15999985, 28.75      , 28.88999939, 29.11000061, 28.28000069,\n",
       "       28.05999947, 28.25      , 28.95000076, 29.21999931, 30.        ,\n",
       "       30.42000008, 30.25      , 31.45000076, 31.79999924, 29.82999992,\n",
       "       28.98999977, 28.63999939, 28.52000046, 29.39999962, 29.23999977,\n",
       "       29.07999992, 29.70000076, 29.20999908, 29.27000046, 29.38999939,\n",
       "       29.98999977, 29.78000069, 29.93000031, 30.45000076, 29.98999977,\n",
       "       29.45999908, 28.76000023, 28.25      , 28.46999931, 28.04999924,\n",
       "       28.44000053, 28.18000031, 28.30999947, 28.31999969, 27.79999924,\n",
       "       27.30999947, 27.54000092, 28.29999924, 27.48999977, 27.70999908,\n",
       "       27.88999939, 27.12000084, 28.23999977, 29.06999969, 28.93000031,\n",
       "       28.79999924, 28.45999908, 28.93000031, 28.22999954, 27.96999931,\n",
       "       27.72999954, 28.35000038, 27.75      , 27.62999916, 27.51000023,\n",
       "       26.87000084, 25.87999916, 25.97999954, 26.03000069, 25.85000038,\n",
       "       25.22999954, 25.45000076, 25.25      , 25.14999962, 26.14999962,\n",
       "       27.26000023, 27.52000046, 25.86000061, 25.63999939, 25.79999924,\n",
       "       26.43000031, 25.44000053, 26.15999985, 25.5       , 26.11000061,\n",
       "       26.22999954, 25.71999931, 25.44000053, 25.28000069, 26.20999908,\n",
       "       27.02000046, 27.38999939, 28.12999916, 27.89999962, 28.12000084,\n",
       "       27.90999985, 27.90999985, 27.80999947, 27.69000053, 27.31999969,\n",
       "       27.29000092, 27.18000031, 27.84000015, 27.65999985, 27.27000046,\n",
       "       27.55999947, 27.94000053, 27.29000092, 27.10000038, 26.89999962,\n",
       "       26.35000038, 25.64999962, 26.12000084, 26.10000038, 26.44000053,\n",
       "       27.34000015, 27.62000084, 26.81999969, 25.98999977, 24.56999969,\n",
       "       25.26000023, 25.15999985, 25.39999962, 25.44000053, 25.71999931,\n",
       "       26.61000061, 27.39999962, 25.01000023, 26.69000053, 26.47999954,\n",
       "       26.25      , 26.31999969, 24.90999985, 23.22999954, 23.01000023,\n",
       "       22.29999924, 21.5       , 25.5       , 24.10000038, 22.65999985,\n",
       "       24.19000053, 23.93000031, 24.71999931, 23.36000061, 21.53000069,\n",
       "       22.31999969, 21.95999908, 21.18000031, 23.10000038, 23.        ,\n",
       "       22.62999916, 22.32999992, 22.62000084, 23.53000069, 22.07999992,\n",
       "       20.87999916, 21.5       , 21.29999924, 21.20000076, 20.29999924,\n",
       "       21.25      , 20.05999947, 19.31999969, 19.62000084, 18.29000092,\n",
       "       17.53000069, 19.68000031, 20.69000053, 19.98999977, 20.48999977,\n",
       "       20.21999931, 18.61000061, 19.14999962, 19.87000084, 19.11000061,\n",
       "       19.87000084, 21.01000023, 20.60000038, 20.61000061, 19.45000076,\n",
       "       19.36000061, 19.04000092, 20.11000061, 19.65999985, 19.29999924,\n",
       "       19.12000084, 19.18000031, 19.28000069, 19.17000008, 19.12999916,\n",
       "       18.95999908, 19.34000015, 19.44000053, 20.32999992, 20.52000046,\n",
       "       20.76000023, 19.51000023, 20.12000084, 19.52000046, 19.46999931,\n",
       "       19.81999969, 19.09000015, 19.23999977, 19.70999908, 18.47999954,\n",
       "       19.37999916, 17.11000061, 17.20000076, 17.62999916, 17.65999985,\n",
       "       18.04000092, 17.59000015, 17.10000038, 17.82999992, 18.5       ,\n",
       "       18.62999916, 19.04000092, 19.65999985, 19.44000053, 18.79999924,\n",
       "       19.20999908, 19.26000023, 19.09000015, 18.09000015, 18.12000084,\n",
       "       17.90999985, 18.        , 17.20999908, 17.17000008, 16.95999908,\n",
       "       16.42000008, 16.14999962, 15.78999996, 15.88000011, 16.12000084,\n",
       "       15.27000046, 15.27999973, 15.14999962, 16.47999954, 17.11000061,\n",
       "       17.01000023, 16.64999962, 16.25      , 16.89999962, 16.95999908,\n",
       "       17.13999939, 17.05999947, 18.32999992, 17.93000031, 17.87999916,\n",
       "       18.82999992, 18.12999916, 17.47999954, 18.37000084, 19.30999947,\n",
       "       19.29000092, 18.75      , 18.76000023, 18.76000023, 19.19000053,\n",
       "       19.67000008, 19.59000015, 19.35000038, 18.82999992, 19.76000023,\n",
       "       19.20000076, 18.61000061, 18.96999931, 18.78000069, 18.92000008,\n",
       "       20.90999985, 20.39999962, 19.93000031, 20.25      , 20.26000023,\n",
       "       20.23999977, 20.19000053, 19.79000092, 19.79000092, 19.31999969,\n",
       "       19.42000008, 19.31999969, 19.88999939, 19.75      , 20.05999947,\n",
       "       20.21999931, 20.60000038, 20.30999947, 20.37999916, 19.81999969,\n",
       "       19.75      , 20.34000015, 20.12999916, 20.45000076, 20.88999939,\n",
       "       21.39999962, 21.39999962, 21.72999954, 21.82999992, 22.13999939,\n",
       "       22.04999924, 22.07999992, 22.54999924, 22.82999992, 23.32999992,\n",
       "       23.42000008, 23.45000076, 23.68000031, 23.5       , 24.06999969,\n",
       "       23.28000069, 23.34000015, 23.46999931, 23.79000092, 23.35000038,\n",
       "       23.86000061, 23.77000046, 24.04000092, 23.37000084, 23.20000076,\n",
       "       22.53000069, 22.55999947, 22.44000053, 22.38999939, 23.22999954,\n",
       "       23.11000061, 24.12000084, 24.44000053, 24.29000092, 24.53000069,\n",
       "       24.82999992, 24.79999924, 25.55999947, 23.45000076, 23.11000061,\n",
       "       23.46999931, 23.79999924, 23.80999947, 23.52000046, 23.82999992,\n",
       "       23.77000046, 23.80999947, 23.45999908, 23.55999947, 23.42000008,\n",
       "       23.12999916, 23.53000069, 23.62000084, 23.69000053, 23.25      ,\n",
       "       23.57999992, 23.64999962, 23.67000008, 24.40999985, 24.63999939,\n",
       "       24.63999939, 24.54999924, 24.69000053, 24.68000031, 24.64999962,\n",
       "       24.        , 23.86000061, 24.11000061, 24.62000084, 24.81999969,\n",
       "       24.78000069, 25.        , 24.86000061, 25.        , 25.20000076,\n",
       "       25.20000076, 25.29999924, 25.26000023, 25.29999924, 25.77000046,\n",
       "       25.70999908, 25.94000053, 25.54999924, 25.82999992, 25.75      ,\n",
       "       25.71999931, 24.87999916, 24.95999908, 24.63999939, 25.11000061,\n",
       "       25.10000038, 25.67000008, 25.54999924, 25.71999931, 25.80999947,\n",
       "       25.95999908, 26.70999908, 26.5       , 26.36000061, 26.37000084,\n",
       "       26.57999992, 26.59000015, 28.02000046, 28.68000031, 28.59000015,\n",
       "       28.02000046, 28.21999931, 27.72999954, 27.87999916, 27.53000069,\n",
       "       28.05999947, 28.46999931, 28.52000046, 28.98999977, 29.01000023,\n",
       "       29.12000084, 29.36000061, 29.62999916, 29.54000092, 30.        ,\n",
       "       30.11000061, 29.78000069, 29.62000084, 29.94000053, 29.90999985,\n",
       "       29.79000092, 29.21999931, 29.40999985, 30.01000023, 29.78000069,\n",
       "       29.82999992, 29.97999954, 29.79000092, 29.56999969, 29.70999908,\n",
       "       29.87000084, 29.85000038, 30.11000061, 30.02000046, 30.10000038,\n",
       "       29.60000038, 30.36000061, 30.52000046, 30.81999969, 30.92000008,\n",
       "       31.        , 31.17000008, 31.38999939, 30.95999908, 30.47999954,\n",
       "       30.95000076, 30.95999908, 30.77000046, 30.45000076, 30.65999985,\n",
       "       30.27000046, 30.06999969, 30.35000038, 30.95999908, 30.86000061,\n",
       "       31.10000038, 30.59000015, 30.01000023, 28.95999908, 29.31999969,\n",
       "       29.5       , 29.67000008, 29.15999985, 28.18000031, 28.40999985,\n",
       "       28.45999908, 28.62999916, 27.84000015, 28.02000046, 27.71999931,\n",
       "       28.01000023, 27.98999977, 28.12000084, 27.93000031, 28.35000038,\n",
       "       28.59000015, 28.96999931, 28.77000046, 28.72999954, 28.32999992,\n",
       "       28.62999916, 28.60000038, 28.67000008, 29.02000046, 28.45999908,\n",
       "       28.45999908, 28.62999916, 28.59000015, 28.62999916, 28.79999924,\n",
       "       28.96999931, 29.18000031, 29.27000046, 29.29000092, 29.37000084,\n",
       "       29.62999916, 29.61000061, 29.59000015, 29.60000038, 29.87999916,\n",
       "       29.64999962, 30.01000023, 29.65999985, 29.59000015, 29.77000046,\n",
       "       29.29000092, 29.15999985, 29.27000046, 29.31999969, 29.35000038,\n",
       "       29.92000008, 30.34000015, 30.31999969, 30.45000076, 30.81999969,\n",
       "       30.87000084, 30.67000008, 31.04000092, 31.36000061, 31.32999992,\n",
       "       31.38999939, 30.95999908, 31.11000061, 30.85000038, 30.90999985,\n",
       "       31.        , 30.54000092, 30.86000061, 30.12999916, 29.85000038,\n",
       "       28.97999954, 28.20999908, 28.94000053, 28.87999916, 29.44000053,\n",
       "       29.23999977, 28.93000031, 28.94000053, 28.60000038, 28.23999977,\n",
       "       27.11000061, 26.84000015, 26.27000046, 26.06999969, 25.01000023,\n",
       "       26.        , 25.79999924, 25.88999939, 26.45999908, 26.86000061,\n",
       "       25.79000092, 25.29000092, 25.11000061, 24.79000092, 25.        ,\n",
       "       25.65999985, 25.5       , 26.57999992, 26.31999969, 26.37000084,\n",
       "       26.44000053, 25.95000076, 25.77000046, 25.30999947, 25.        ,\n",
       "       24.53000069, 24.30999947, 23.30999947, 23.01000023, 23.15999985,\n",
       "       23.27000046, 23.81999969, 24.29999924, 24.40999985, 24.27000046,\n",
       "       24.82999992, 25.12999916, 25.44000053, 25.51000023, 24.88999939,\n",
       "       25.22999954, 25.47999954, 25.12000084, 25.84000015, 25.80999947,\n",
       "       26.10000038, 26.15999985, 25.95000076, 26.03000069, 25.80999947,\n",
       "       26.32999992, 26.15999985, 25.72999954, 25.37000084, 25.54999924,\n",
       "       25.61000061, 25.06999969, 24.86000061, 24.48999977, 24.39999962,\n",
       "       24.5       , 24.70999908, 24.81999969, 24.44000053, 24.22999954,\n",
       "       24.28000069, 24.04000092, 24.10000038, 23.81999969, 23.93000031,\n",
       "       23.63999939, 23.46999931, 23.89999962, 23.94000053, 24.29000092,\n",
       "       23.95999908, 23.93000031, 24.01000023, 23.85000038, 25.11000061,\n",
       "       25.03000069, 25.12000084, 25.32999992, 25.21999931, 25.43000031,\n",
       "       25.14999962, 24.61000061, 24.43000031, 24.78000069, 24.72999954,\n",
       "       24.68000031, 24.5       , 24.48999977, 24.37999916, 23.90999985,\n",
       "       24.35000038, 24.43000031, 24.53000069, 24.56999969, 24.59000015,\n",
       "       24.82999992, 25.34000015, 25.22999954, 25.54000092, 25.81999969,\n",
       "       25.10000038, 25.30999947, 25.42000008, 25.37999916, 25.19000053,\n",
       "       25.89999962, 26.04999924, 26.28000069, 26.67000008, 26.95000076,\n",
       "       27.38999939, 27.03000069, 27.13999939, 26.85000038, 26.80999947,\n",
       "       26.95000076, 26.94000053, 26.68000031, 26.27000046, 26.20000076,\n",
       "       25.80999947, 25.56999969])"
      ]
     },
     "execution_count": 12,
     "metadata": {},
     "output_type": "execute_result"
    }
   ],
   "source": [
    "train_set"
   ]
  },
  {
   "cell_type": "code",
   "execution_count": 13,
   "id": "487de6cb",
   "metadata": {},
   "outputs": [
    {
     "data": {
      "text/plain": [
       "array([25.84000015, 25.69000053, 25.72999954, 25.12000084, 25.37000084,\n",
       "       25.25      , 25.30999947, 25.26000023, 26.04000092, 26.88999939,\n",
       "       27.02000046, 26.84000015, 26.87000084, 27.22999954, 27.07999992,\n",
       "       27.34000015, 27.25      , 27.62000084, 27.85000038, 27.98999977,\n",
       "       27.89999962, 27.80999947, 28.06999969, 28.19000053, 28.29999924,\n",
       "       28.06999969, 28.01000023, 27.96999931, 27.85000038, 27.90999985])"
      ]
     },
     "execution_count": 13,
     "metadata": {},
     "output_type": "execute_result"
    }
   ],
   "source": [
    "test_set"
   ]
  },
  {
   "cell_type": "markdown",
   "id": "808f3284",
   "metadata": {},
   "source": [
    "### Normalize data"
   ]
  },
  {
   "cell_type": "code",
   "execution_count": 14,
   "id": "c8430db6",
   "metadata": {},
   "outputs": [],
   "source": [
    "from sklearn.preprocessing import MinMaxScaler\n",
    "sclr = MinMaxScaler(feature_range=(-1,1))\n",
    "train_norm = sclr.fit_transform(train_set.reshape(-1,1))"
   ]
  },
  {
   "cell_type": "code",
   "execution_count": 15,
   "id": "210d6cab",
   "metadata": {},
   "outputs": [],
   "source": [
    "train_norm = torch.Tensor(train_norm).view(-1)"
   ]
  },
  {
   "cell_type": "markdown",
   "id": "058e8cc7",
   "metadata": {},
   "source": [
    "### create sequences"
   ]
  },
  {
   "cell_type": "code",
   "execution_count": 16,
   "id": "17b28cda",
   "metadata": {},
   "outputs": [],
   "source": [
    "def input_data(seq,window_size):\n",
    "    L = len(seq)\n",
    "    out = []\n",
    "    for i in range(L-window_size):\n",
    "        window = seq[i:i+window_size]\n",
    "        label = seq[i+window_size:i+window_size+1]\n",
    "        out.append((window,label))\n",
    "    return out"
   ]
  },
  {
   "cell_type": "code",
   "execution_count": 17,
   "id": "1a3f830e",
   "metadata": {},
   "outputs": [],
   "source": [
    "window_size = 15\n",
    "train_data = input_data(train_norm,window_size)"
   ]
  },
  {
   "cell_type": "code",
   "execution_count": 18,
   "id": "da9dad47",
   "metadata": {},
   "outputs": [],
   "source": [
    "class LSTM(nn.Module):\n",
    "    \n",
    "    def __init__(self,input_size=1,hidden_size=32,out_size=1,num_layers=2,bidirectional=False):\n",
    "        super(LSTM,self).__init__()\n",
    "        #create attributes\n",
    "        self.hidden_size = hidden_size\n",
    "        self.num_layers = num_layers\n",
    "        self.num_dir = 2 if bidirectional else 1\n",
    "        self.hidden = (torch.zeros(self.num_layers * self.num_dir,1,hidden_size),\n",
    "                      torch.zeros(self.num_layers * self.num_dir,1,hidden_size))\n",
    "        #create lstm and linear \n",
    "        self.lstm = nn.LSTM(input_size,hidden_size,num_layers,bidirectional=bidirectional)\n",
    "        self.linear= nn.Linear(self.num_dir*hidden_size,out_size)\n",
    "    \n",
    "    def forward(self,seq):\n",
    "        lstm_out,self.hidden = self.lstm(seq.view(len(seq),1,-1),self.hidden)\n",
    "        pred = self.linear(lstm_out.view(len(seq),-1))\n",
    "        return pred[-1]"
   ]
  },
  {
   "cell_type": "code",
   "execution_count": 19,
   "id": "6afe031d",
   "metadata": {},
   "outputs": [],
   "source": [
    "model = LSTM()"
   ]
  },
  {
   "cell_type": "code",
   "execution_count": 20,
   "id": "4795fbaa",
   "metadata": {},
   "outputs": [
    {
     "data": {
      "text/plain": [
       "LSTM(\n",
       "  (lstm): LSTM(1, 32, num_layers=2)\n",
       "  (linear): Linear(in_features=32, out_features=1, bias=True)\n",
       ")"
      ]
     },
     "execution_count": 20,
     "metadata": {},
     "output_type": "execute_result"
    }
   ],
   "source": [
    "model"
   ]
  },
  {
   "cell_type": "code",
   "execution_count": 21,
   "id": "1326960c",
   "metadata": {},
   "outputs": [],
   "source": [
    "num_epochs = 105\n",
    "optimizer = torch.optim.Adam(model.parameters(),lr=0.005)\n",
    "criterion = nn.MSELoss()"
   ]
  },
  {
   "cell_type": "code",
   "execution_count": 22,
   "id": "ee5444c6",
   "metadata": {},
   "outputs": [
    {
     "name": "stdout",
     "output_type": "stream",
     "text": [
      "epoch : 1/105 loss : 0.06351951509714127\n",
      "epoch : 2/105 loss : 0.03174595162272453\n",
      "epoch : 3/105 loss : 0.029611017554998398\n",
      "epoch : 4/105 loss : 0.07916673272848129\n",
      "epoch : 5/105 loss : 0.06404754519462585\n",
      "epoch : 6/105 loss : 0.06866677105426788\n",
      "epoch : 7/105 loss : 0.1450427770614624\n",
      "epoch : 8/105 loss : 0.038938939571380615\n",
      "epoch : 9/105 loss : 0.14434358477592468\n",
      "epoch : 10/105 loss : 0.05433163046836853\n",
      "epoch : 11/105 loss : 0.04661429673433304\n",
      "epoch : 12/105 loss : 0.13643813133239746\n",
      "epoch : 13/105 loss : 0.13697242736816406\n",
      "epoch : 14/105 loss : 0.11292078346014023\n",
      "epoch : 15/105 loss : 0.1330864429473877\n",
      "epoch : 16/105 loss : 0.09395947307348251\n",
      "epoch : 17/105 loss : 0.10598398000001907\n",
      "epoch : 18/105 loss : 0.17691296339035034\n",
      "epoch : 19/105 loss : 0.08662248402833939\n",
      "epoch : 20/105 loss : 0.11025870591402054\n",
      "epoch : 21/105 loss : 0.05427304655313492\n",
      "epoch : 22/105 loss : 0.06657514721155167\n",
      "epoch : 23/105 loss : 0.08547408133745193\n",
      "epoch : 24/105 loss : 0.07883919775485992\n",
      "epoch : 25/105 loss : 0.08851345628499985\n",
      "epoch : 26/105 loss : 0.07738146930932999\n",
      "epoch : 27/105 loss : 0.07257439941167831\n",
      "epoch : 28/105 loss : 0.07549888640642166\n",
      "epoch : 29/105 loss : 0.07159987837076187\n",
      "epoch : 30/105 loss : 0.06470487266778946\n",
      "epoch : 31/105 loss : 0.079619400203228\n",
      "epoch : 32/105 loss : 0.10849352926015854\n",
      "epoch : 33/105 loss : 0.08872999995946884\n",
      "epoch : 34/105 loss : 0.08442219346761703\n",
      "epoch : 35/105 loss : 0.08907129615545273\n",
      "epoch : 36/105 loss : 0.0798933133482933\n",
      "epoch : 37/105 loss : 0.08126308768987656\n",
      "epoch : 38/105 loss : 0.0892225131392479\n",
      "epoch : 39/105 loss : 0.08919399231672287\n",
      "epoch : 40/105 loss : 0.07649766653776169\n",
      "epoch : 41/105 loss : 0.062336646020412445\n",
      "epoch : 42/105 loss : 0.06681352108716965\n",
      "epoch : 43/105 loss : 0.05573885887861252\n",
      "epoch : 44/105 loss : 0.05956622213125229\n",
      "epoch : 45/105 loss : 0.04536234587430954\n",
      "epoch : 46/105 loss : 0.0444733127951622\n",
      "epoch : 47/105 loss : 0.05442541092634201\n",
      "epoch : 48/105 loss : 0.04463883489370346\n",
      "epoch : 49/105 loss : 0.062223635613918304\n",
      "epoch : 50/105 loss : 0.05038025230169296\n",
      "epoch : 51/105 loss : 0.029247872531414032\n",
      "epoch : 52/105 loss : 0.060018591582775116\n",
      "epoch : 53/105 loss : 0.06982006877660751\n",
      "epoch : 54/105 loss : 0.03987666219472885\n",
      "epoch : 55/105 loss : 0.06815784424543381\n",
      "epoch : 56/105 loss : 0.08941926807165146\n",
      "epoch : 57/105 loss : 0.05074944347143173\n",
      "epoch : 58/105 loss : 0.027852050960063934\n",
      "epoch : 59/105 loss : 0.08728619664907455\n",
      "epoch : 60/105 loss : 0.05560264736413956\n",
      "epoch : 61/105 loss : 0.08733513206243515\n",
      "epoch : 62/105 loss : 0.06488918513059616\n",
      "epoch : 63/105 loss : 0.06096985191106796\n",
      "epoch : 64/105 loss : 0.04648049920797348\n",
      "epoch : 65/105 loss : 0.05247607082128525\n",
      "epoch : 66/105 loss : 0.0422373041510582\n",
      "epoch : 67/105 loss : 0.039566002786159515\n",
      "epoch : 68/105 loss : 0.03536754101514816\n",
      "epoch : 69/105 loss : 0.052782170474529266\n",
      "epoch : 70/105 loss : 0.044210903346538544\n",
      "epoch : 71/105 loss : 0.0323345884680748\n",
      "epoch : 72/105 loss : 0.021998576819896698\n",
      "epoch : 73/105 loss : 0.09562166780233383\n",
      "epoch : 74/105 loss : 0.028433196246623993\n",
      "epoch : 75/105 loss : 0.036198340356349945\n",
      "epoch : 76/105 loss : 0.03729396313428879\n",
      "epoch : 77/105 loss : 0.02485077828168869\n",
      "epoch : 78/105 loss : 0.05015992373228073\n",
      "epoch : 79/105 loss : 0.048440687358379364\n",
      "epoch : 80/105 loss : 0.029598437249660492\n",
      "epoch : 81/105 loss : 0.04264526814222336\n",
      "epoch : 82/105 loss : 0.045599840581417084\n",
      "epoch : 83/105 loss : 0.07360535115003586\n",
      "epoch : 84/105 loss : 0.04232367128133774\n",
      "epoch : 85/105 loss : 0.030667893588542938\n",
      "epoch : 86/105 loss : 0.016208790242671967\n",
      "epoch : 87/105 loss : 0.023311518132686615\n",
      "epoch : 88/105 loss : 0.023623846471309662\n",
      "epoch : 89/105 loss : 0.04119019955396652\n",
      "epoch : 90/105 loss : 0.01321130245923996\n",
      "epoch : 91/105 loss : 0.00872572511434555\n",
      "epoch : 92/105 loss : 0.0027974173426628113\n",
      "epoch : 93/105 loss : 0.16435283422470093\n",
      "epoch : 94/105 loss : 0.04188849776983261\n",
      "epoch : 95/105 loss : 0.048633597791194916\n",
      "epoch : 96/105 loss : 0.06188731640577316\n",
      "epoch : 97/105 loss : 0.026915721595287323\n",
      "epoch : 98/105 loss : 0.028991200029850006\n",
      "epoch : 99/105 loss : 0.06860528141260147\n",
      "epoch : 100/105 loss : 0.1645868420600891\n",
      "epoch : 101/105 loss : 0.1631745994091034\n",
      "epoch : 102/105 loss : 0.09137573093175888\n",
      "epoch : 103/105 loss : 0.08310698717832565\n",
      "epoch : 104/105 loss : 0.07090514153242111\n",
      "epoch : 105/105 loss : 0.02091791480779648\n",
      "Time taken : 113.17443513870239\n"
     ]
    }
   ],
   "source": [
    "import time\n",
    "start = time.time()\n",
    "for epoch in range(num_epochs):\n",
    "    for seq,label in train_data:\n",
    "        optimizer.zero_grad()\n",
    "        model.hidden = (torch.zeros(model.num_layers * model.num_dir,1,model.hidden_size),\n",
    "                      torch.zeros(model.num_layers * model.num_dir,1,model.hidden_size))\n",
    "        y_pred = model.forward(seq)\n",
    "        loss = torch.sqrt(criterion(y_pred,label))\n",
    "        loss.backward()\n",
    "        optimizer.step()\n",
    "    print(f\"epoch : {epoch+1}/{num_epochs} loss : {loss.item()}\")\n",
    "end = time.time()\n",
    "print(f\"Time taken : {end - start}\")"
   ]
  },
  {
   "cell_type": "code",
   "execution_count": 23,
   "id": "64b0dd36",
   "metadata": {},
   "outputs": [],
   "source": [
    "future = 30\n",
    "preds = train_norm[-window_size:].tolist()\n",
    "model.eval()\n",
    "for i in range(future):\n",
    "    seq = torch.FloatTensor(preds[-window_size:])\n",
    "    with torch.no_grad():\n",
    "        model.hidden = (torch.zeros(model.num_layers*model.num_dir,1,model.hidden_size),\n",
    "                     torch.zeros(model.num_layers*model.num_dir,1,model.hidden_size))\n",
    "        preds.append(model.forward(seq).item())"
   ]
  },
  {
   "cell_type": "code",
   "execution_count": 24,
   "id": "4c17ce22",
   "metadata": {},
   "outputs": [],
   "source": [
    "preds_unscaled = sclr.inverse_transform(np.array(preds).reshape(-1, 1)).flatten()\n",
    "future_predictions = preds_unscaled[window_size:] "
   ]
  },
  {
   "cell_type": "code",
   "execution_count": 25,
   "id": "c9d1258e",
   "metadata": {},
   "outputs": [
    {
     "data": {
      "text/plain": [
       "array([25.3052183 , 24.31437667, 23.47045445, 22.98099263, 23.23728478,\n",
       "       23.29476014, 23.6191178 , 23.71650928, 23.69835587, 24.03320138,\n",
       "       24.73602653, 25.34502052, 25.61056896, 25.88095991, 26.12732388,\n",
       "       26.39714296, 26.88287407, 27.2826279 , 27.66696143, 27.97976418,\n",
       "       28.23682555, 28.43506384, 28.57258446, 28.6582065 , 28.68626791,\n",
       "       28.59615587, 28.22930808, 27.79506577, 27.14788589, 26.36146796])"
      ]
     },
     "execution_count": 25,
     "metadata": {},
     "output_type": "execute_result"
    }
   ],
   "source": [
    "future_predictions"
   ]
  },
  {
   "cell_type": "code",
   "execution_count": 26,
   "id": "940598c9",
   "metadata": {},
   "outputs": [
    {
     "data": {
      "text/plain": [
       "array([25.84000015, 25.69000053, 25.72999954, 25.12000084, 25.37000084,\n",
       "       25.25      , 25.30999947, 25.26000023, 26.04000092, 26.88999939,\n",
       "       27.02000046, 26.84000015, 26.87000084, 27.22999954, 27.07999992,\n",
       "       27.34000015, 27.25      , 27.62000084, 27.85000038, 27.98999977,\n",
       "       27.89999962, 27.80999947, 28.06999969, 28.19000053, 28.29999924,\n",
       "       28.06999969, 28.01000023, 27.96999931, 27.85000038, 27.90999985])"
      ]
     },
     "execution_count": 26,
     "metadata": {},
     "output_type": "execute_result"
    }
   ],
   "source": [
    "test_set"
   ]
  },
  {
   "cell_type": "code",
   "execution_count": 27,
   "id": "649599a8",
   "metadata": {},
   "outputs": [],
   "source": [
    "dates = df.reset_index().iloc[-future:]['Date']"
   ]
  },
  {
   "cell_type": "code",
   "execution_count": 28,
   "id": "1ab3d5ff",
   "metadata": {},
   "outputs": [
    {
     "data": {
      "image/png": "[encoded data removed]",
      "text/plain": [
       "<Figure size 1200x800 with 1 Axes>"
      ]
     },
     "metadata": {},
     "output_type": "display_data"
    }
   ],
   "source": [
    "plt.figure(figsize=(12,8))\n",
    "plt.autoscale(axis='x',tight=True)\n",
    "plt.plot(df['Close'].iloc[-future:])\n",
    "plt.plot(dates,future_predictions)\n",
    "plt.grid(True)\n",
    "plt.show()"
   ]
  },
  {
   "cell_type": "code",
   "execution_count": null,
   "id": "9e63a2b8",
   "metadata": {},
   "outputs": [],
   "source": []
  }
 ],
 "metadata": {
  "kernelspec": {
   "display_name": "Python 3 (ipykernel)",
   "language": "python",
   "name": "python3"
  },
  "language_info": {
   "codemirror_mode": {
    "name": "ipython",
    "version": 3
   },
   "file_extension": ".py",
   "mimetype": "text/x-python",
   "name": "python",
   "nbconvert_exporter": "python",
   "pygments_lexer": "ipython3",
   "version": "3.11.5"
  }
 },
 "nbformat": 4,
 "nbformat_minor": 5
}

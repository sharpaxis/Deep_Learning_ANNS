{
 "cells": [
  {
   "cell_type": "markdown",
   "id": "7cc68edf",
   "metadata": {},
   "source": [
    "### Basic imports"
   ]
  },
  {
   "cell_type": "code",
   "execution_count": 23,
   "id": "5013568f",
   "metadata": {},
   "outputs": [],
   "source": [
    "import numpy as np \n",
    "import pandas as pd\n",
    "import seaborn as sns\n",
    "import matplotlib.pyplot as plt\n",
    "import warnings\n",
    "warnings.filterwarnings('ignore')\n",
    "from sklearn.metrics import classification_report"
   ]
  },
  {
   "cell_type": "markdown",
   "id": "3339cb8a",
   "metadata": {},
   "source": [
    "### Accessing data"
   ]
  },
  {
   "cell_type": "code",
   "execution_count": 2,
   "id": "6d48adde",
   "metadata": {},
   "outputs": [],
   "source": [
    "df = pd.read_csv('Epileptic Seizure Recognition.csv')"
   ]
  },
  {
   "cell_type": "code",
   "execution_count": 3,
   "id": "2a557c52",
   "metadata": {},
   "outputs": [
    {
     "data": {
      "text/html": [
       "<div>\n",
       "<style scoped>\n",
       "    .dataframe tbody tr th:only-of-type {\n",
       "        vertical-align: middle;\n",
       "    }\n",
       "\n",
       "    .dataframe tbody tr th {\n",
       "        vertical-align: top;\n",
       "    }\n",
       "\n",
       "    .dataframe thead th {\n",
       "        text-align: right;\n",
       "    }\n",
       "</style>\n",
       "<table border=\"1\" class=\"dataframe\">\n",
       "  <thead>\n",
       "    <tr style=\"text-align: right;\">\n",
       "      <th></th>\n",
       "      <th>Unnamed</th>\n",
       "      <th>X1</th>\n",
       "      <th>X2</th>\n",
       "      <th>X3</th>\n",
       "      <th>X4</th>\n",
       "      <th>X5</th>\n",
       "      <th>X6</th>\n",
       "      <th>X7</th>\n",
       "      <th>X8</th>\n",
       "      <th>X9</th>\n",
       "      <th>...</th>\n",
       "      <th>X170</th>\n",
       "      <th>X171</th>\n",
       "      <th>X172</th>\n",
       "      <th>X173</th>\n",
       "      <th>X174</th>\n",
       "      <th>X175</th>\n",
       "      <th>X176</th>\n",
       "      <th>X177</th>\n",
       "      <th>X178</th>\n",
       "      <th>y</th>\n",
       "    </tr>\n",
       "  </thead>\n",
       "  <tbody>\n",
       "    <tr>\n",
       "      <th>0</th>\n",
       "      <td>X21.V1.791</td>\n",
       "      <td>135</td>\n",
       "      <td>190</td>\n",
       "      <td>229</td>\n",
       "      <td>223</td>\n",
       "      <td>192</td>\n",
       "      <td>125</td>\n",
       "      <td>55</td>\n",
       "      <td>-9</td>\n",
       "      <td>-33</td>\n",
       "      <td>...</td>\n",
       "      <td>-17</td>\n",
       "      <td>-15</td>\n",
       "      <td>-31</td>\n",
       "      <td>-77</td>\n",
       "      <td>-103</td>\n",
       "      <td>-127</td>\n",
       "      <td>-116</td>\n",
       "      <td>-83</td>\n",
       "      <td>-51</td>\n",
       "      <td>4</td>\n",
       "    </tr>\n",
       "    <tr>\n",
       "      <th>1</th>\n",
       "      <td>X15.V1.924</td>\n",
       "      <td>386</td>\n",
       "      <td>382</td>\n",
       "      <td>356</td>\n",
       "      <td>331</td>\n",
       "      <td>320</td>\n",
       "      <td>315</td>\n",
       "      <td>307</td>\n",
       "      <td>272</td>\n",
       "      <td>244</td>\n",
       "      <td>...</td>\n",
       "      <td>164</td>\n",
       "      <td>150</td>\n",
       "      <td>146</td>\n",
       "      <td>152</td>\n",
       "      <td>157</td>\n",
       "      <td>156</td>\n",
       "      <td>154</td>\n",
       "      <td>143</td>\n",
       "      <td>129</td>\n",
       "      <td>1</td>\n",
       "    </tr>\n",
       "    <tr>\n",
       "      <th>2</th>\n",
       "      <td>X8.V1.1</td>\n",
       "      <td>-32</td>\n",
       "      <td>-39</td>\n",
       "      <td>-47</td>\n",
       "      <td>-37</td>\n",
       "      <td>-32</td>\n",
       "      <td>-36</td>\n",
       "      <td>-57</td>\n",
       "      <td>-73</td>\n",
       "      <td>-85</td>\n",
       "      <td>...</td>\n",
       "      <td>57</td>\n",
       "      <td>64</td>\n",
       "      <td>48</td>\n",
       "      <td>19</td>\n",
       "      <td>-12</td>\n",
       "      <td>-30</td>\n",
       "      <td>-35</td>\n",
       "      <td>-35</td>\n",
       "      <td>-36</td>\n",
       "      <td>5</td>\n",
       "    </tr>\n",
       "    <tr>\n",
       "      <th>3</th>\n",
       "      <td>X16.V1.60</td>\n",
       "      <td>-105</td>\n",
       "      <td>-101</td>\n",
       "      <td>-96</td>\n",
       "      <td>-92</td>\n",
       "      <td>-89</td>\n",
       "      <td>-95</td>\n",
       "      <td>-102</td>\n",
       "      <td>-100</td>\n",
       "      <td>-87</td>\n",
       "      <td>...</td>\n",
       "      <td>-82</td>\n",
       "      <td>-81</td>\n",
       "      <td>-80</td>\n",
       "      <td>-77</td>\n",
       "      <td>-85</td>\n",
       "      <td>-77</td>\n",
       "      <td>-72</td>\n",
       "      <td>-69</td>\n",
       "      <td>-65</td>\n",
       "      <td>5</td>\n",
       "    </tr>\n",
       "    <tr>\n",
       "      <th>4</th>\n",
       "      <td>X20.V1.54</td>\n",
       "      <td>-9</td>\n",
       "      <td>-65</td>\n",
       "      <td>-98</td>\n",
       "      <td>-102</td>\n",
       "      <td>-78</td>\n",
       "      <td>-48</td>\n",
       "      <td>-16</td>\n",
       "      <td>0</td>\n",
       "      <td>-21</td>\n",
       "      <td>...</td>\n",
       "      <td>4</td>\n",
       "      <td>2</td>\n",
       "      <td>-12</td>\n",
       "      <td>-32</td>\n",
       "      <td>-41</td>\n",
       "      <td>-65</td>\n",
       "      <td>-83</td>\n",
       "      <td>-89</td>\n",
       "      <td>-73</td>\n",
       "      <td>5</td>\n",
       "    </tr>\n",
       "  </tbody>\n",
       "</table>\n",
       "<p>5 rows × 180 columns</p>\n",
       "</div>"
      ],
      "text/plain": [
       "      Unnamed   X1   X2   X3   X4   X5   X6   X7   X8   X9  ...  X170  X171  \\\n",
       "0  X21.V1.791  135  190  229  223  192  125   55   -9  -33  ...   -17   -15   \n",
       "1  X15.V1.924  386  382  356  331  320  315  307  272  244  ...   164   150   \n",
       "2     X8.V1.1  -32  -39  -47  -37  -32  -36  -57  -73  -85  ...    57    64   \n",
       "3   X16.V1.60 -105 -101  -96  -92  -89  -95 -102 -100  -87  ...   -82   -81   \n",
       "4   X20.V1.54   -9  -65  -98 -102  -78  -48  -16    0  -21  ...     4     2   \n",
       "\n",
       "   X172  X173  X174  X175  X176  X177  X178  y  \n",
       "0   -31   -77  -103  -127  -116   -83   -51  4  \n",
       "1   146   152   157   156   154   143   129  1  \n",
       "2    48    19   -12   -30   -35   -35   -36  5  \n",
       "3   -80   -77   -85   -77   -72   -69   -65  5  \n",
       "4   -12   -32   -41   -65   -83   -89   -73  5  \n",
       "\n",
       "[5 rows x 180 columns]"
      ]
     },
     "execution_count": 3,
     "metadata": {},
     "output_type": "execute_result"
    }
   ],
   "source": [
    "df.head()"
   ]
  },
  {
   "cell_type": "code",
   "execution_count": 4,
   "id": "69841276",
   "metadata": {},
   "outputs": [
    {
     "name": "stdout",
     "output_type": "stream",
     "text": [
      "<class 'pandas.core.frame.DataFrame'>\n",
      "RangeIndex: 11500 entries, 0 to 11499\n",
      "Columns: 180 entries, Unnamed to y\n",
      "dtypes: int64(179), object(1)\n",
      "memory usage: 15.8+ MB\n"
     ]
    }
   ],
   "source": [
    "df.info()"
   ]
  },
  {
   "cell_type": "code",
   "execution_count": 5,
   "id": "43db2ae2",
   "metadata": {},
   "outputs": [
    {
     "data": {
      "text/html": [
       "<div>\n",
       "<style scoped>\n",
       "    .dataframe tbody tr th:only-of-type {\n",
       "        vertical-align: middle;\n",
       "    }\n",
       "\n",
       "    .dataframe tbody tr th {\n",
       "        vertical-align: top;\n",
       "    }\n",
       "\n",
       "    .dataframe thead th {\n",
       "        text-align: right;\n",
       "    }\n",
       "</style>\n",
       "<table border=\"1\" class=\"dataframe\">\n",
       "  <thead>\n",
       "    <tr style=\"text-align: right;\">\n",
       "      <th></th>\n",
       "      <th>X1</th>\n",
       "      <th>X2</th>\n",
       "      <th>X3</th>\n",
       "      <th>X4</th>\n",
       "      <th>X5</th>\n",
       "      <th>X6</th>\n",
       "      <th>X7</th>\n",
       "      <th>X8</th>\n",
       "      <th>X9</th>\n",
       "      <th>X10</th>\n",
       "      <th>...</th>\n",
       "      <th>X170</th>\n",
       "      <th>X171</th>\n",
       "      <th>X172</th>\n",
       "      <th>X173</th>\n",
       "      <th>X174</th>\n",
       "      <th>X175</th>\n",
       "      <th>X176</th>\n",
       "      <th>X177</th>\n",
       "      <th>X178</th>\n",
       "      <th>y</th>\n",
       "    </tr>\n",
       "  </thead>\n",
       "  <tbody>\n",
       "    <tr>\n",
       "      <th>count</th>\n",
       "      <td>11500.000000</td>\n",
       "      <td>11500.000000</td>\n",
       "      <td>11500.000000</td>\n",
       "      <td>11500.000000</td>\n",
       "      <td>11500.000000</td>\n",
       "      <td>11500.000000</td>\n",
       "      <td>11500.000000</td>\n",
       "      <td>11500.00000</td>\n",
       "      <td>11500.00000</td>\n",
       "      <td>11500.000000</td>\n",
       "      <td>...</td>\n",
       "      <td>11500.000000</td>\n",
       "      <td>11500.000000</td>\n",
       "      <td>11500.000000</td>\n",
       "      <td>11500.000000</td>\n",
       "      <td>11500.000000</td>\n",
       "      <td>11500.000000</td>\n",
       "      <td>11500.000000</td>\n",
       "      <td>11500.000000</td>\n",
       "      <td>11500.000000</td>\n",
       "      <td>11500.000000</td>\n",
       "    </tr>\n",
       "    <tr>\n",
       "      <th>mean</th>\n",
       "      <td>-11.581391</td>\n",
       "      <td>-10.911565</td>\n",
       "      <td>-10.187130</td>\n",
       "      <td>-9.143043</td>\n",
       "      <td>-8.009739</td>\n",
       "      <td>-7.003478</td>\n",
       "      <td>-6.502087</td>\n",
       "      <td>-6.68713</td>\n",
       "      <td>-6.55800</td>\n",
       "      <td>-6.168435</td>\n",
       "      <td>...</td>\n",
       "      <td>-10.145739</td>\n",
       "      <td>-11.630348</td>\n",
       "      <td>-12.943478</td>\n",
       "      <td>-13.668870</td>\n",
       "      <td>-13.363304</td>\n",
       "      <td>-13.045043</td>\n",
       "      <td>-12.705130</td>\n",
       "      <td>-12.426000</td>\n",
       "      <td>-12.195652</td>\n",
       "      <td>3.000000</td>\n",
       "    </tr>\n",
       "    <tr>\n",
       "      <th>std</th>\n",
       "      <td>165.626284</td>\n",
       "      <td>166.059609</td>\n",
       "      <td>163.524317</td>\n",
       "      <td>161.269041</td>\n",
       "      <td>160.998007</td>\n",
       "      <td>161.328725</td>\n",
       "      <td>161.467837</td>\n",
       "      <td>162.11912</td>\n",
       "      <td>162.03336</td>\n",
       "      <td>160.436352</td>\n",
       "      <td>...</td>\n",
       "      <td>164.652883</td>\n",
       "      <td>166.149790</td>\n",
       "      <td>168.554058</td>\n",
       "      <td>168.556486</td>\n",
       "      <td>167.257290</td>\n",
       "      <td>164.241019</td>\n",
       "      <td>162.895832</td>\n",
       "      <td>162.886311</td>\n",
       "      <td>164.852015</td>\n",
       "      <td>1.414275</td>\n",
       "    </tr>\n",
       "    <tr>\n",
       "      <th>min</th>\n",
       "      <td>-1839.000000</td>\n",
       "      <td>-1838.000000</td>\n",
       "      <td>-1835.000000</td>\n",
       "      <td>-1845.000000</td>\n",
       "      <td>-1791.000000</td>\n",
       "      <td>-1757.000000</td>\n",
       "      <td>-1832.000000</td>\n",
       "      <td>-1778.00000</td>\n",
       "      <td>-1840.00000</td>\n",
       "      <td>-1867.000000</td>\n",
       "      <td>...</td>\n",
       "      <td>-1867.000000</td>\n",
       "      <td>-1865.000000</td>\n",
       "      <td>-1642.000000</td>\n",
       "      <td>-1723.000000</td>\n",
       "      <td>-1866.000000</td>\n",
       "      <td>-1863.000000</td>\n",
       "      <td>-1781.000000</td>\n",
       "      <td>-1727.000000</td>\n",
       "      <td>-1829.000000</td>\n",
       "      <td>1.000000</td>\n",
       "    </tr>\n",
       "    <tr>\n",
       "      <th>25%</th>\n",
       "      <td>-54.000000</td>\n",
       "      <td>-55.000000</td>\n",
       "      <td>-54.000000</td>\n",
       "      <td>-54.000000</td>\n",
       "      <td>-54.000000</td>\n",
       "      <td>-54.000000</td>\n",
       "      <td>-54.000000</td>\n",
       "      <td>-55.00000</td>\n",
       "      <td>-55.00000</td>\n",
       "      <td>-54.000000</td>\n",
       "      <td>...</td>\n",
       "      <td>-55.000000</td>\n",
       "      <td>-56.000000</td>\n",
       "      <td>-56.000000</td>\n",
       "      <td>-56.000000</td>\n",
       "      <td>-55.000000</td>\n",
       "      <td>-56.000000</td>\n",
       "      <td>-55.000000</td>\n",
       "      <td>-55.000000</td>\n",
       "      <td>-55.000000</td>\n",
       "      <td>2.000000</td>\n",
       "    </tr>\n",
       "    <tr>\n",
       "      <th>50%</th>\n",
       "      <td>-8.000000</td>\n",
       "      <td>-8.000000</td>\n",
       "      <td>-7.000000</td>\n",
       "      <td>-8.000000</td>\n",
       "      <td>-8.000000</td>\n",
       "      <td>-8.000000</td>\n",
       "      <td>-8.000000</td>\n",
       "      <td>-8.00000</td>\n",
       "      <td>-7.00000</td>\n",
       "      <td>-7.000000</td>\n",
       "      <td>...</td>\n",
       "      <td>-9.000000</td>\n",
       "      <td>-10.000000</td>\n",
       "      <td>-10.000000</td>\n",
       "      <td>-10.000000</td>\n",
       "      <td>-10.000000</td>\n",
       "      <td>-9.000000</td>\n",
       "      <td>-9.000000</td>\n",
       "      <td>-9.000000</td>\n",
       "      <td>-9.000000</td>\n",
       "      <td>3.000000</td>\n",
       "    </tr>\n",
       "    <tr>\n",
       "      <th>75%</th>\n",
       "      <td>34.000000</td>\n",
       "      <td>35.000000</td>\n",
       "      <td>36.000000</td>\n",
       "      <td>36.000000</td>\n",
       "      <td>35.000000</td>\n",
       "      <td>36.000000</td>\n",
       "      <td>35.000000</td>\n",
       "      <td>36.00000</td>\n",
       "      <td>36.00000</td>\n",
       "      <td>35.250000</td>\n",
       "      <td>...</td>\n",
       "      <td>34.000000</td>\n",
       "      <td>34.000000</td>\n",
       "      <td>33.000000</td>\n",
       "      <td>33.000000</td>\n",
       "      <td>34.000000</td>\n",
       "      <td>34.000000</td>\n",
       "      <td>34.000000</td>\n",
       "      <td>34.000000</td>\n",
       "      <td>34.000000</td>\n",
       "      <td>4.000000</td>\n",
       "    </tr>\n",
       "    <tr>\n",
       "      <th>max</th>\n",
       "      <td>1726.000000</td>\n",
       "      <td>1713.000000</td>\n",
       "      <td>1697.000000</td>\n",
       "      <td>1612.000000</td>\n",
       "      <td>1518.000000</td>\n",
       "      <td>1816.000000</td>\n",
       "      <td>2047.000000</td>\n",
       "      <td>2047.00000</td>\n",
       "      <td>2047.00000</td>\n",
       "      <td>2047.000000</td>\n",
       "      <td>...</td>\n",
       "      <td>1777.000000</td>\n",
       "      <td>1472.000000</td>\n",
       "      <td>1319.000000</td>\n",
       "      <td>1436.000000</td>\n",
       "      <td>1733.000000</td>\n",
       "      <td>1958.000000</td>\n",
       "      <td>2047.000000</td>\n",
       "      <td>2047.000000</td>\n",
       "      <td>1915.000000</td>\n",
       "      <td>5.000000</td>\n",
       "    </tr>\n",
       "  </tbody>\n",
       "</table>\n",
       "<p>8 rows × 179 columns</p>\n",
       "</div>"
      ],
      "text/plain": [
       "                 X1            X2            X3            X4            X5  \\\n",
       "count  11500.000000  11500.000000  11500.000000  11500.000000  11500.000000   \n",
       "mean     -11.581391    -10.911565    -10.187130     -9.143043     -8.009739   \n",
       "std      165.626284    166.059609    163.524317    161.269041    160.998007   \n",
       "min    -1839.000000  -1838.000000  -1835.000000  -1845.000000  -1791.000000   \n",
       "25%      -54.000000    -55.000000    -54.000000    -54.000000    -54.000000   \n",
       "50%       -8.000000     -8.000000     -7.000000     -8.000000     -8.000000   \n",
       "75%       34.000000     35.000000     36.000000     36.000000     35.000000   \n",
       "max     1726.000000   1713.000000   1697.000000   1612.000000   1518.000000   \n",
       "\n",
       "                 X6            X7           X8           X9           X10  \\\n",
       "count  11500.000000  11500.000000  11500.00000  11500.00000  11500.000000   \n",
       "mean      -7.003478     -6.502087     -6.68713     -6.55800     -6.168435   \n",
       "std      161.328725    161.467837    162.11912    162.03336    160.436352   \n",
       "min    -1757.000000  -1832.000000  -1778.00000  -1840.00000  -1867.000000   \n",
       "25%      -54.000000    -54.000000    -55.00000    -55.00000    -54.000000   \n",
       "50%       -8.000000     -8.000000     -8.00000     -7.00000     -7.000000   \n",
       "75%       36.000000     35.000000     36.00000     36.00000     35.250000   \n",
       "max     1816.000000   2047.000000   2047.00000   2047.00000   2047.000000   \n",
       "\n",
       "       ...          X170          X171          X172          X173  \\\n",
       "count  ...  11500.000000  11500.000000  11500.000000  11500.000000   \n",
       "mean   ...    -10.145739    -11.630348    -12.943478    -13.668870   \n",
       "std    ...    164.652883    166.149790    168.554058    168.556486   \n",
       "min    ...  -1867.000000  -1865.000000  -1642.000000  -1723.000000   \n",
       "25%    ...    -55.000000    -56.000000    -56.000000    -56.000000   \n",
       "50%    ...     -9.000000    -10.000000    -10.000000    -10.000000   \n",
       "75%    ...     34.000000     34.000000     33.000000     33.000000   \n",
       "max    ...   1777.000000   1472.000000   1319.000000   1436.000000   \n",
       "\n",
       "               X174          X175          X176          X177          X178  \\\n",
       "count  11500.000000  11500.000000  11500.000000  11500.000000  11500.000000   \n",
       "mean     -13.363304    -13.045043    -12.705130    -12.426000    -12.195652   \n",
       "std      167.257290    164.241019    162.895832    162.886311    164.852015   \n",
       "min    -1866.000000  -1863.000000  -1781.000000  -1727.000000  -1829.000000   \n",
       "25%      -55.000000    -56.000000    -55.000000    -55.000000    -55.000000   \n",
       "50%      -10.000000     -9.000000     -9.000000     -9.000000     -9.000000   \n",
       "75%       34.000000     34.000000     34.000000     34.000000     34.000000   \n",
       "max     1733.000000   1958.000000   2047.000000   2047.000000   1915.000000   \n",
       "\n",
       "                  y  \n",
       "count  11500.000000  \n",
       "mean       3.000000  \n",
       "std        1.414275  \n",
       "min        1.000000  \n",
       "25%        2.000000  \n",
       "50%        3.000000  \n",
       "75%        4.000000  \n",
       "max        5.000000  \n",
       "\n",
       "[8 rows x 179 columns]"
      ]
     },
     "execution_count": 5,
     "metadata": {},
     "output_type": "execute_result"
    }
   ],
   "source": [
    "df.describe()"
   ]
  },
  {
   "cell_type": "markdown",
   "id": "9d9c267f",
   "metadata": {},
   "source": [
    "#target label\n",
    "\n",
    "y contains the category of the 178-dimensional input vector. Specifically y in {1, 2, 3, 4, 5}:\n",
    "\n",
    "5 - eyes open, means when they were recording the EEG signal of the brain the patient had their eyes open\n",
    "\n",
    "4 - eyes closed, means when they were recording the EEG signal the patient had their eyes closed\n",
    "\n",
    "3 - Yes they identify where the region of the tumor was in the brain and recording the EEG activity from the healthy brain area\n",
    "\n",
    "2 - They recorder the EEG from the area where the tumor was located\n",
    "\n",
    "1 - Recording of seizure activity\n",
    "\n",
    "basically 1->seizure activity rest->non-seizure activities"
   ]
  },
  {
   "cell_type": "code",
   "execution_count": 7,
   "id": "a32e12f6",
   "metadata": {},
   "outputs": [
    {
     "data": {
      "text/plain": [
       "y\n",
       "0    9200\n",
       "1    2300\n",
       "Name: count, dtype: int64"
      ]
     },
     "execution_count": 7,
     "metadata": {},
     "output_type": "execute_result"
    }
   ],
   "source": [
    "#converting into binary problem\n",
    "bin_map = {1:1,2:0,3:0,4:0,5:0}\n",
    "df['y'] = df['y'].replace(bin_map)\n",
    "df['y'].value_counts()"
   ]
  },
  {
   "cell_type": "code",
   "execution_count": 8,
   "id": "35d73b29",
   "metadata": {},
   "outputs": [
    {
     "data": {
      "text/plain": [
       "<Axes: xlabel='y', ylabel='count'>"
      ]
     },
     "execution_count": 8,
     "metadata": {},
     "output_type": "execute_result"
    },
    {
     "data": {
      "image/png": "[encoded data removed]",
      "text/plain": [
       "<Figure size 400x400 with 1 Axes>"
      ]
     },
     "metadata": {},
     "output_type": "display_data"
    }
   ],
   "source": [
    "#after mapping\n",
    "plt.figure(figsize=(4,4))\n",
    "sns.countplot(x='y',data=df,palette='viridis')"
   ]
  },
  {
   "cell_type": "code",
   "execution_count": 9,
   "id": "7bd82184",
   "metadata": {},
   "outputs": [
    {
     "data": {
      "text/plain": [
       "Unnamed    0\n",
       "X113       0\n",
       "X115       0\n",
       "X116       0\n",
       "X117       0\n",
       "          ..\n",
       "X61        0\n",
       "X62        0\n",
       "X63        0\n",
       "X64        0\n",
       "y          0\n",
       "Length: 180, dtype: int64"
      ]
     },
     "execution_count": 9,
     "metadata": {},
     "output_type": "execute_result"
    }
   ],
   "source": [
    "#checking for missing data\n",
    "df.isnull().sum().sort_values(ascending=False)\n",
    "#no missing data in this case"
   ]
  },
  {
   "cell_type": "code",
   "execution_count": 10,
   "id": "15f5faf2",
   "metadata": {},
   "outputs": [],
   "source": [
    "#duplicates\n",
    "df.drop_duplicates(inplace=True)"
   ]
  },
  {
   "cell_type": "code",
   "execution_count": 11,
   "id": "31ecd4ee",
   "metadata": {},
   "outputs": [],
   "source": [
    "df.drop('Unnamed',axis=1,inplace=True)"
   ]
  },
  {
   "cell_type": "markdown",
   "id": "e1139fd9",
   "metadata": {},
   "source": [
    "### Splitting data"
   ]
  },
  {
   "cell_type": "code",
   "execution_count": 14,
   "id": "cb7a1fad",
   "metadata": {},
   "outputs": [],
   "source": [
    "X = df.drop('y',axis=1)\n",
    "y = df['y']"
   ]
  },
  {
   "cell_type": "markdown",
   "id": "787e5ade",
   "metadata": {},
   "source": [
    "### Oversampling data"
   ]
  },
  {
   "cell_type": "code",
   "execution_count": 17,
   "id": "36cd3385",
   "metadata": {},
   "outputs": [
    {
     "name": "stdout",
     "output_type": "stream",
     "text": [
      "Before: Counter({0: 9200, 1: 2300})\n",
      "After: Counter({0: 9200, 1: 9200})\n"
     ]
    }
   ],
   "source": [
    "from imblearn.over_sampling import RandomOverSampler\n",
    "from collections import Counter\n",
    "rand = RandomOverSampler()\n",
    "print(\"Before:\", Counter(y))\n",
    "X_rand, y_rand = rand.fit_resample(X, y)\n",
    "print(\"After:\", Counter(y_rand))"
   ]
  },
  {
   "cell_type": "code",
   "execution_count": 18,
   "id": "b615472f",
   "metadata": {},
   "outputs": [],
   "source": [
    "from sklearn.model_selection import train_test_split\n",
    "X_train,X_test,y_train,y_test = train_test_split(X,y,test_size=0.3)"
   ]
  },
  {
   "cell_type": "code",
   "execution_count": 20,
   "id": "05833855",
   "metadata": {},
   "outputs": [],
   "source": [
    "#oversampled data\n",
    "X_train_rand,X_test_rand,y_train_rand,y_test_rand = train_test_split(X_rand,y_rand,test_size=0.3)"
   ]
  },
  {
   "cell_type": "markdown",
   "id": "3d92d0bb",
   "metadata": {},
   "source": [
    "### Scaling Data"
   ]
  },
  {
   "cell_type": "code",
   "execution_count": 21,
   "id": "94319b47",
   "metadata": {},
   "outputs": [],
   "source": [
    "from sklearn.preprocessing import StandardScaler\n",
    "st_sclr = StandardScaler()\n",
    "X_train = st_sclr.fit_transform(X_train)\n",
    "X_test = st_sclr.transform(X_test)"
   ]
  },
  {
   "cell_type": "code",
   "execution_count": 22,
   "id": "e21b363f",
   "metadata": {},
   "outputs": [],
   "source": [
    "X_train_rand = st_sclr.fit_transform(X_train_rand)\n",
    "X_test_rand = st_sclr.transform(X_test_rand)"
   ]
  },
  {
   "cell_type": "markdown",
   "id": "6e1cbb84",
   "metadata": {},
   "source": [
    "# Base Models - Dtree,RFC,SVM,Logistic"
   ]
  },
  {
   "cell_type": "markdown",
   "id": "62788e3c",
   "metadata": {},
   "source": [
    "## Decision Tree"
   ]
  },
  {
   "cell_type": "code",
   "execution_count": 24,
   "id": "19072c25",
   "metadata": {},
   "outputs": [
    {
     "name": "stdout",
     "output_type": "stream",
     "text": [
      "Decision Tree with Orignal Data: \n",
      "              precision    recall  f1-score   support\n",
      "\n",
      "           0       0.96      0.97      0.96      2756\n",
      "           1       0.87      0.82      0.84       694\n",
      "\n",
      "    accuracy                           0.94      3450\n",
      "   macro avg       0.91      0.89      0.90      3450\n",
      "weighted avg       0.94      0.94      0.94      3450\n",
      "\n"
     ]
    }
   ],
   "source": [
    "#for orignal data\n",
    "from sklearn.tree import DecisionTreeClassifier\n",
    "dtree_1 = DecisionTreeClassifier()\n",
    "dtree_1.fit(X_train,y_train)\n",
    "pred_dtree_1 = dtree_1.predict(X_test)\n",
    "print(\"Decision Tree with Orignal Data: \")\n",
    "print(classification_report(y_test,pred_dtree_1))"
   ]
  },
  {
   "cell_type": "code",
   "execution_count": 25,
   "id": "571bc8e3",
   "metadata": {},
   "outputs": [
    {
     "name": "stdout",
     "output_type": "stream",
     "text": [
      "Decision Tree with Oversampled Data: \n",
      "              precision    recall  f1-score   support\n",
      "\n",
      "           0       0.99      0.95      0.97      2782\n",
      "           1       0.95      0.99      0.97      2738\n",
      "\n",
      "    accuracy                           0.97      5520\n",
      "   macro avg       0.97      0.97      0.97      5520\n",
      "weighted avg       0.97      0.97      0.97      5520\n",
      "\n"
     ]
    }
   ],
   "source": [
    "#oversampled data\n",
    "dtree_2 = DecisionTreeClassifier()\n",
    "dtree_2.fit(X_train_rand,y_train_rand)\n",
    "pred_dtree_2 = dtree_2.predict(X_test_rand)\n",
    "print(\"Decision Tree with Oversampled Data: \")\n",
    "print(classification_report(y_test_rand,pred_dtree_2))"
   ]
  },
  {
   "cell_type": "markdown",
   "id": "1cfc2233",
   "metadata": {},
   "source": [
    "#### Decision Tree with oversampled data performs better on identifying both classes"
   ]
  },
  {
   "cell_type": "markdown",
   "id": "7d30757b",
   "metadata": {},
   "source": [
    "## Random Forest"
   ]
  },
  {
   "cell_type": "code",
   "execution_count": 26,
   "id": "c2c2b8a6",
   "metadata": {},
   "outputs": [
    {
     "name": "stdout",
     "output_type": "stream",
     "text": [
      "Random Forest with orignal data: \n",
      "              precision    recall  f1-score   support\n",
      "\n",
      "           0       0.98      0.99      0.98      2756\n",
      "           1       0.95      0.92      0.94       694\n",
      "\n",
      "    accuracy                           0.97      3450\n",
      "   macro avg       0.97      0.95      0.96      3450\n",
      "weighted avg       0.97      0.97      0.97      3450\n",
      "\n"
     ]
    }
   ],
   "source": [
    "#rfc with orignal data\n",
    "from sklearn.ensemble import RandomForestClassifier\n",
    "rfc_1 = RandomForestClassifier()\n",
    "rfc_1.fit(X_train,y_train)\n",
    "pred_rfc_1 = rfc_1.predict(X_test)\n",
    "print(\"Random Forest with orignal data: \")\n",
    "print(classification_report(y_test,pred_rfc_1))"
   ]
  },
  {
   "cell_type": "code",
   "execution_count": 29,
   "id": "3eed8b04",
   "metadata": {},
   "outputs": [
    {
     "name": "stdout",
     "output_type": "stream",
     "text": [
      "Random Forest with oversampled data: \n",
      "              precision    recall  f1-score   support\n",
      "\n",
      "           0       1.00      0.98      0.99      2782\n",
      "           1       0.98      1.00      0.99      2738\n",
      "\n",
      "    accuracy                           0.99      5520\n",
      "   macro avg       0.99      0.99      0.99      5520\n",
      "weighted avg       0.99      0.99      0.99      5520\n",
      "\n"
     ]
    }
   ],
   "source": [
    "#rfc with oversampled data\n",
    "rfc_2 = RandomForestClassifier()\n",
    "rfc_2.fit(X_train_rand,y_train_rand)\n",
    "pred_rfc_2 = rfc_2.predict(X_test_rand)\n",
    "print(\"Random Forest with oversampled data: \")\n",
    "print(classification_report(y_test_rand,pred_rfc_2))"
   ]
  },
  {
   "cell_type": "markdown",
   "id": "c42adb28",
   "metadata": {},
   "source": [
    "#### RFC achieved 99% accuracy with oversampled data"
   ]
  },
  {
   "cell_type": "markdown",
   "id": "caa58892",
   "metadata": {},
   "source": [
    "## SVM"
   ]
  },
  {
   "cell_type": "code",
   "execution_count": 30,
   "id": "9ffa7601",
   "metadata": {},
   "outputs": [
    {
     "name": "stdout",
     "output_type": "stream",
     "text": [
      "SVM with orignal data: \n",
      "              precision    recall  f1-score   support\n",
      "\n",
      "           0       0.97      0.99      0.98      2756\n",
      "           1       0.96      0.88      0.92       694\n",
      "\n",
      "    accuracy                           0.97      3450\n",
      "   macro avg       0.96      0.93      0.95      3450\n",
      "weighted avg       0.97      0.97      0.97      3450\n",
      "\n"
     ]
    }
   ],
   "source": [
    "#orignal data\n",
    "from sklearn.svm import SVC\n",
    "svm_1 = SVC()\n",
    "svm_1.fit(X_train,y_train)\n",
    "pred_svm_1 = svm_1.predict(X_test)\n",
    "print(\"SVM with orignal data: \")\n",
    "print(classification_report(y_test,pred_svm_1))"
   ]
  },
  {
   "cell_type": "code",
   "execution_count": 31,
   "id": "5167b2a7",
   "metadata": {},
   "outputs": [
    {
     "name": "stdout",
     "output_type": "stream",
     "text": [
      "SVM with oversampled data: \n",
      "              precision    recall  f1-score   support\n",
      "\n",
      "           0       0.97      0.98      0.98      2782\n",
      "           1       0.98      0.97      0.98      2738\n",
      "\n",
      "    accuracy                           0.98      5520\n",
      "   macro avg       0.98      0.98      0.98      5520\n",
      "weighted avg       0.98      0.98      0.98      5520\n",
      "\n"
     ]
    }
   ],
   "source": [
    "#oversampled data\n",
    "svm_2 = SVC()\n",
    "svm_2.fit(X_train_rand,y_train_rand)\n",
    "pred_svm_2 = svm_2.predict(X_test_rand)\n",
    "print(\"SVM with oversampled data: \")\n",
    "print(classification_report(y_test_rand,pred_svm_2))"
   ]
  },
  {
   "cell_type": "markdown",
   "id": "60d05b34",
   "metadata": {},
   "source": [
    "### Logistic Regression"
   ]
  },
  {
   "cell_type": "code",
   "execution_count": 33,
   "id": "de3a157e",
   "metadata": {},
   "outputs": [
    {
     "name": "stdout",
     "output_type": "stream",
     "text": [
      "Logistic Regression with orignal data: \n",
      "              precision    recall  f1-score   support\n",
      "\n",
      "           0       0.81      1.00      0.90      2756\n",
      "           1       1.00      0.10      0.18       694\n",
      "\n",
      "    accuracy                           0.82      3450\n",
      "   macro avg       0.91      0.55      0.54      3450\n",
      "weighted avg       0.85      0.82      0.75      3450\n",
      "\n"
     ]
    }
   ],
   "source": [
    "#orignal data\n",
    "from sklearn.linear_model import LogisticRegression\n",
    "lg_mdoel_1 = LogisticRegression()\n",
    "lg_mdoel_1.fit(X_train,y_train)\n",
    "pred_lg_1 = lg_mdoel_1.predict(X_test)\n",
    "print(\"Logistic Regression with orignal data: \")\n",
    "print(classification_report(y_test,pred_lg_1))"
   ]
  },
  {
   "cell_type": "code",
   "execution_count": 35,
   "id": "b37c9f66",
   "metadata": {},
   "outputs": [
    {
     "name": "stdout",
     "output_type": "stream",
     "text": [
      "Logistic Regression with oversampled data: \n",
      "              precision    recall  f1-score   support\n",
      "\n",
      "           0       0.61      0.77      0.68      2782\n",
      "           1       0.69      0.50      0.58      2738\n",
      "\n",
      "    accuracy                           0.64      5520\n",
      "   macro avg       0.65      0.64      0.63      5520\n",
      "weighted avg       0.65      0.64      0.63      5520\n",
      "\n"
     ]
    }
   ],
   "source": [
    "#oversampled data\n",
    "lg_mdoel_2 = LogisticRegression()\n",
    "lg_mdoel_2.fit(X_train_rand,y_train_rand)\n",
    "pred_lg_2 = lg_mdoel_2.predict(X_test_rand)\n",
    "print(\"Logistic Regression with oversampled data: \")\n",
    "print(classification_report(y_test_rand,pred_lg_2))"
   ]
  },
  {
   "cell_type": "markdown",
   "id": "783aa8f0",
   "metadata": {},
   "source": [
    "\n",
    "\n",
    "# Deep Learning Models"
   ]
  },
  {
   "cell_type": "markdown",
   "id": "2a51fef3",
   "metadata": {},
   "source": [
    "### ANN"
   ]
  },
  {
   "cell_type": "code",
   "execution_count": 51,
   "id": "def1f663",
   "metadata": {},
   "outputs": [],
   "source": [
    "X_train,X_val,y_train,y_val = train_test_split(X_train,y_train,test_size=0.2)\n",
    "X_train_rand,X_val_rand,y_train_rand,y_val_rand = train_test_split(X_train_rand,y_train_rand,test_size=0.2)"
   ]
  },
  {
   "cell_type": "code",
   "execution_count": 49,
   "id": "a335a3b8",
   "metadata": {},
   "outputs": [],
   "source": [
    "from tensorflow.keras.models import Sequential\n",
    "from tensorflow.keras.layers import Dense,Dropout"
   ]
  },
  {
   "cell_type": "code",
   "execution_count": 50,
   "id": "a74a2a52",
   "metadata": {},
   "outputs": [
    {
     "data": {
      "text/plain": [
       "(8050, 178)"
      ]
     },
     "execution_count": 50,
     "metadata": {},
     "output_type": "execute_result"
    }
   ],
   "source": [
    "X_train.shape"
   ]
  },
  {
   "cell_type": "code",
   "execution_count": 56,
   "id": "36dc600d",
   "metadata": {},
   "outputs": [],
   "source": [
    "def create_model():\n",
    "    #define model\n",
    "    model = Sequential()\n",
    "    #layer 1 ->178\n",
    "    model.add(Dense(178,activation='relu'))\n",
    "    model.add(Dropout(0.2))\n",
    "    #layer 2 ->89\n",
    "    model.add(Dense(89,activation='relu'))\n",
    "    model.add(Dropout(0.2))\n",
    "    #layer 3 ->44\n",
    "    model.add(Dense(44,activation='relu'))\n",
    "    model.add(Dropout(0.2))\n",
    "    #layer 4 ->22\n",
    "    model.add(Dense(22,activation='relu'))\n",
    "    model.add(Dropout(0.2))\n",
    "    #layer 5 -> 11\n",
    "    model.add(Dense(11,activation='relu'))\n",
    "    model.add(Dropout(0.2))\n",
    "    #layer 6 -> 6\n",
    "    model.add(Dense(6,activation='relu'))\n",
    "    #layer 7 ->3\n",
    "    model.add(Dense(3,activation='relu'))\n",
    "    #ouptut layer\n",
    "    model.add(Dense(1,activation='sigmoid'))\n",
    "    \n",
    "    #compile model\n",
    "    model.compile(loss='binary_crossentropy',optimizer = 'adam',metrics=['accuracy'])\n",
    "    \n",
    "    return model"
   ]
  },
  {
   "cell_type": "code",
   "execution_count": 71,
   "id": "6f9d07c4",
   "metadata": {},
   "outputs": [],
   "source": [
    "#ANN with orignal data\n",
    "from tensorflow.keras.backend import clear_session\n",
    "clear_session()\n",
    "ANN_1 = create_model()"
   ]
  },
  {
   "cell_type": "code",
   "execution_count": 72,
   "id": "c7bfd133",
   "metadata": {},
   "outputs": [
    {
     "name": "stdout",
     "output_type": "stream",
     "text": [
      "Epoch 1/50\n",
      "\u001b[1m51/51\u001b[0m \u001b[32m━━━━━━━━━━━━━━━━━━━━\u001b[0m\u001b[37m\u001b[0m \u001b[1m4s\u001b[0m 51ms/step - accuracy: 0.8024 - loss: 0.6962 - val_accuracy: 0.7870 - val_loss: 0.5227\n",
      "Epoch 2/50\n",
      "\u001b[1m51/51\u001b[0m \u001b[32m━━━━━━━━━━━━━━━━━━━━\u001b[0m\u001b[37m\u001b[0m \u001b[1m2s\u001b[0m 47ms/step - accuracy: 0.8050 - loss: 0.4879 - val_accuracy: 0.7870 - val_loss: 0.2738\n",
      "Epoch 3/50\n",
      "\u001b[1m51/51\u001b[0m \u001b[32m━━━━━━━━━━━━━━━━━━━━\u001b[0m\u001b[37m\u001b[0m \u001b[1m2s\u001b[0m 45ms/step - accuracy: 0.8063 - loss: 0.2871 - val_accuracy: 0.7870 - val_loss: 0.2175\n",
      "Epoch 4/50\n",
      "\u001b[1m51/51\u001b[0m \u001b[32m━━━━━━━━━━━━━━━━━━━━\u001b[0m\u001b[37m\u001b[0m \u001b[1m2s\u001b[0m 45ms/step - accuracy: 0.8068 - loss: 0.2149 - val_accuracy: 0.7870 - val_loss: 0.2163\n",
      "Epoch 5/50\n",
      "\u001b[1m51/51\u001b[0m \u001b[32m━━━━━━━━━━━━━━━━━━━━\u001b[0m\u001b[37m\u001b[0m \u001b[1m2s\u001b[0m 46ms/step - accuracy: 0.8029 - loss: 0.2017 - val_accuracy: 0.7870 - val_loss: 0.1985\n",
      "Epoch 6/50\n",
      "\u001b[1m51/51\u001b[0m \u001b[32m━━━━━━━━━━━━━━━━━━━━\u001b[0m\u001b[37m\u001b[0m \u001b[1m2s\u001b[0m 46ms/step - accuracy: 0.8722 - loss: 0.1835 - val_accuracy: 0.9714 - val_loss: 0.1954\n",
      "Epoch 7/50\n",
      "\u001b[1m51/51\u001b[0m \u001b[32m━━━━━━━━━━━━━━━━━━━━\u001b[0m\u001b[37m\u001b[0m \u001b[1m2s\u001b[0m 45ms/step - accuracy: 0.9632 - loss: 0.1721 - val_accuracy: 0.9714 - val_loss: 0.1897\n",
      "Epoch 8/50\n",
      "\u001b[1m51/51\u001b[0m \u001b[32m━━━━━━━━━━━━━━━━━━━━\u001b[0m\u001b[37m\u001b[0m \u001b[1m3s\u001b[0m 49ms/step - accuracy: 0.9630 - loss: 0.1640 - val_accuracy: 0.9727 - val_loss: 0.1896\n",
      "Epoch 9/50\n",
      "\u001b[1m51/51\u001b[0m \u001b[32m━━━━━━━━━━━━━━━━━━━━\u001b[0m\u001b[37m\u001b[0m \u001b[1m2s\u001b[0m 45ms/step - accuracy: 0.9639 - loss: 0.1653 - val_accuracy: 0.9621 - val_loss: 0.1964\n",
      "Epoch 10/50\n",
      "\u001b[1m51/51\u001b[0m \u001b[32m━━━━━━━━━━━━━━━━━━━━\u001b[0m\u001b[37m\u001b[0m \u001b[1m2s\u001b[0m 45ms/step - accuracy: 0.9649 - loss: 0.1631 - val_accuracy: 0.9739 - val_loss: 0.1752\n",
      "Epoch 11/50\n",
      "\u001b[1m51/51\u001b[0m \u001b[32m━━━━━━━━━━━━━━━━━━━━\u001b[0m\u001b[37m\u001b[0m \u001b[1m2s\u001b[0m 45ms/step - accuracy: 0.9642 - loss: 0.1585 - val_accuracy: 0.9702 - val_loss: 0.1779\n",
      "Epoch 12/50\n",
      "\u001b[1m51/51\u001b[0m \u001b[32m━━━━━━━━━━━━━━━━━━━━\u001b[0m\u001b[37m\u001b[0m \u001b[1m2s\u001b[0m 45ms/step - accuracy: 0.9680 - loss: 0.1472 - val_accuracy: 0.9727 - val_loss: 0.1770\n",
      "Epoch 13/50\n",
      "\u001b[1m51/51\u001b[0m \u001b[32m━━━━━━━━━━━━━━━━━━━━\u001b[0m\u001b[37m\u001b[0m \u001b[1m2s\u001b[0m 45ms/step - accuracy: 0.9744 - loss: 0.1487 - val_accuracy: 0.9671 - val_loss: 0.1712\n",
      "Epoch 14/50\n",
      "\u001b[1m51/51\u001b[0m \u001b[32m━━━━━━━━━━━━━━━━━━━━\u001b[0m\u001b[37m\u001b[0m \u001b[1m2s\u001b[0m 45ms/step - accuracy: 0.9683 - loss: 0.1536 - val_accuracy: 0.9745 - val_loss: 0.1680\n",
      "Epoch 15/50\n",
      "\u001b[1m51/51\u001b[0m \u001b[32m━━━━━━━━━━━━━━━━━━━━\u001b[0m\u001b[37m\u001b[0m \u001b[1m2s\u001b[0m 46ms/step - accuracy: 0.9794 - loss: 0.1266 - val_accuracy: 0.9745 - val_loss: 0.1703\n",
      "Epoch 16/50\n",
      "\u001b[1m51/51\u001b[0m \u001b[32m━━━━━━━━━━━━━━━━━━━━\u001b[0m\u001b[37m\u001b[0m \u001b[1m2s\u001b[0m 45ms/step - accuracy: 0.9707 - loss: 0.1393 - val_accuracy: 0.9689 - val_loss: 0.1834\n",
      "Epoch 17/50\n",
      "\u001b[1m51/51\u001b[0m \u001b[32m━━━━━━━━━━━━━━━━━━━━\u001b[0m\u001b[37m\u001b[0m \u001b[1m2s\u001b[0m 45ms/step - accuracy: 0.9768 - loss: 0.1283 - val_accuracy: 0.9733 - val_loss: 0.1858\n",
      "Epoch 18/50\n",
      "\u001b[1m51/51\u001b[0m \u001b[32m━━━━━━━━━━━━━━━━━━━━\u001b[0m\u001b[37m\u001b[0m \u001b[1m2s\u001b[0m 46ms/step - accuracy: 0.9757 - loss: 0.1312 - val_accuracy: 0.9720 - val_loss: 0.1906\n",
      "Epoch 19/50\n",
      "\u001b[1m51/51\u001b[0m \u001b[32m━━━━━━━━━━━━━━━━━━━━\u001b[0m\u001b[37m\u001b[0m \u001b[1m2s\u001b[0m 45ms/step - accuracy: 0.9778 - loss: 0.1207 - val_accuracy: 0.9658 - val_loss: 0.1964\n",
      "Epoch 20/50\n",
      "\u001b[1m51/51\u001b[0m \u001b[32m━━━━━━━━━━━━━━━━━━━━\u001b[0m\u001b[37m\u001b[0m \u001b[1m2s\u001b[0m 44ms/step - accuracy: 0.9764 - loss: 0.1193 - val_accuracy: 0.9689 - val_loss: 0.1866\n",
      "Epoch 21/50\n",
      "\u001b[1m51/51\u001b[0m \u001b[32m━━━━━━━━━━━━━━━━━━━━\u001b[0m\u001b[37m\u001b[0m \u001b[1m108s\u001b[0m 2s/step - accuracy: 0.9802 - loss: 0.1111 - val_accuracy: 0.9702 - val_loss: 0.1801\n",
      "Epoch 22/50\n",
      "\u001b[1m51/51\u001b[0m \u001b[32m━━━━━━━━━━━━━━━━━━━━\u001b[0m\u001b[37m\u001b[0m \u001b[1m2s\u001b[0m 46ms/step - accuracy: 0.9759 - loss: 0.1153 - val_accuracy: 0.9739 - val_loss: 0.1858\n",
      "Epoch 23/50\n",
      "\u001b[1m51/51\u001b[0m \u001b[32m━━━━━━━━━━━━━━━━━━━━\u001b[0m\u001b[37m\u001b[0m \u001b[1m2s\u001b[0m 47ms/step - accuracy: 0.9747 - loss: 0.1149 - val_accuracy: 0.9733 - val_loss: 0.1749\n",
      "Epoch 24/50\n",
      "\u001b[1m51/51\u001b[0m \u001b[32m━━━━━━━━━━━━━━━━━━━━\u001b[0m\u001b[37m\u001b[0m \u001b[1m2s\u001b[0m 46ms/step - accuracy: 0.9798 - loss: 0.1068 - val_accuracy: 0.9665 - val_loss: 0.1693\n",
      "Epoch 25/50\n",
      "\u001b[1m51/51\u001b[0m \u001b[32m━━━━━━━━━━━━━━━━━━━━\u001b[0m\u001b[37m\u001b[0m \u001b[1m2s\u001b[0m 48ms/step - accuracy: 0.9791 - loss: 0.1088 - val_accuracy: 0.9739 - val_loss: 0.1730\n",
      "Epoch 26/50\n",
      "\u001b[1m51/51\u001b[0m \u001b[32m━━━━━━━━━━━━━━━━━━━━\u001b[0m\u001b[37m\u001b[0m \u001b[1m3s\u001b[0m 52ms/step - accuracy: 0.9821 - loss: 0.0997 - val_accuracy: 0.9720 - val_loss: 0.1738\n",
      "Epoch 27/50\n",
      "\u001b[1m51/51\u001b[0m \u001b[32m━━━━━━━━━━━━━━━━━━━━\u001b[0m\u001b[37m\u001b[0m \u001b[1m2s\u001b[0m 45ms/step - accuracy: 0.9846 - loss: 0.0947 - val_accuracy: 0.9733 - val_loss: 0.1936\n",
      "Epoch 28/50\n",
      "\u001b[1m51/51\u001b[0m \u001b[32m━━━━━━━━━━━━━━━━━━━━\u001b[0m\u001b[37m\u001b[0m \u001b[1m2s\u001b[0m 48ms/step - accuracy: 0.9779 - loss: 0.1085 - val_accuracy: 0.9720 - val_loss: 0.1620\n",
      "Epoch 29/50\n",
      "\u001b[1m51/51\u001b[0m \u001b[32m━━━━━━━━━━━━━━━━━━━━\u001b[0m\u001b[37m\u001b[0m \u001b[1m2s\u001b[0m 45ms/step - accuracy: 0.9803 - loss: 0.0978 - val_accuracy: 0.9683 - val_loss: 0.1709\n",
      "Epoch 30/50\n",
      "\u001b[1m51/51\u001b[0m \u001b[32m━━━━━━━━━━━━━━━━━━━━\u001b[0m\u001b[37m\u001b[0m \u001b[1m3s\u001b[0m 51ms/step - accuracy: 0.9817 - loss: 0.0961 - val_accuracy: 0.9745 - val_loss: 0.1571\n",
      "Epoch 31/50\n",
      "\u001b[1m51/51\u001b[0m \u001b[32m━━━━━━━━━━━━━━━━━━━━\u001b[0m\u001b[37m\u001b[0m \u001b[1m2s\u001b[0m 45ms/step - accuracy: 0.9806 - loss: 0.0901 - val_accuracy: 0.9708 - val_loss: 0.1355\n",
      "Epoch 32/50\n",
      "\u001b[1m51/51\u001b[0m \u001b[32m━━━━━━━━━━━━━━━━━━━━\u001b[0m\u001b[37m\u001b[0m \u001b[1m2s\u001b[0m 45ms/step - accuracy: 0.9772 - loss: 0.1016 - val_accuracy: 0.9714 - val_loss: 0.1663\n",
      "Epoch 33/50\n",
      "\u001b[1m51/51\u001b[0m \u001b[32m━━━━━━━━━━━━━━━━━━━━\u001b[0m\u001b[37m\u001b[0m \u001b[1m2s\u001b[0m 46ms/step - accuracy: 0.9838 - loss: 0.0912 - val_accuracy: 0.9727 - val_loss: 0.1474\n",
      "Epoch 34/50\n",
      "\u001b[1m51/51\u001b[0m \u001b[32m━━━━━━━━━━━━━━━━━━━━\u001b[0m\u001b[37m\u001b[0m \u001b[1m3s\u001b[0m 53ms/step - accuracy: 0.9821 - loss: 0.0887 - val_accuracy: 0.9733 - val_loss: 0.1337\n",
      "Epoch 35/50\n",
      "\u001b[1m51/51\u001b[0m \u001b[32m━━━━━━━━━━━━━━━━━━━━\u001b[0m\u001b[37m\u001b[0m \u001b[1m2s\u001b[0m 46ms/step - accuracy: 0.9843 - loss: 0.0840 - val_accuracy: 0.9689 - val_loss: 0.1830\n",
      "Epoch 36/50\n",
      "\u001b[1m51/51\u001b[0m \u001b[32m━━━━━━━━━━━━━━━━━━━━\u001b[0m\u001b[37m\u001b[0m \u001b[1m2s\u001b[0m 46ms/step - accuracy: 0.9832 - loss: 0.0888 - val_accuracy: 0.9708 - val_loss: 0.1386\n",
      "Epoch 37/50\n",
      "\u001b[1m51/51\u001b[0m \u001b[32m━━━━━━━━━━━━━━━━━━━━\u001b[0m\u001b[37m\u001b[0m \u001b[1m2s\u001b[0m 47ms/step - accuracy: 0.9803 - loss: 0.0866 - val_accuracy: 0.9689 - val_loss: 0.1422\n",
      "Epoch 38/50\n",
      "\u001b[1m51/51\u001b[0m \u001b[32m━━━━━━━━━━━━━━━━━━━━\u001b[0m\u001b[37m\u001b[0m \u001b[1m2s\u001b[0m 47ms/step - accuracy: 0.9828 - loss: 0.0797 - val_accuracy: 0.9683 - val_loss: 0.1565\n",
      "Epoch 39/50\n",
      "\u001b[1m51/51\u001b[0m \u001b[32m━━━━━━━━━━━━━━━━━━━━\u001b[0m\u001b[37m\u001b[0m \u001b[1m2s\u001b[0m 46ms/step - accuracy: 0.9865 - loss: 0.0770 - val_accuracy: 0.9708 - val_loss: 0.1549\n",
      "Epoch 40/50\n",
      "\u001b[1m51/51\u001b[0m \u001b[32m━━━━━━━━━━━━━━━━━━━━\u001b[0m\u001b[37m\u001b[0m \u001b[1m2s\u001b[0m 47ms/step - accuracy: 0.9874 - loss: 0.0720 - val_accuracy: 0.9708 - val_loss: 0.1602\n",
      "Epoch 41/50\n",
      "\u001b[1m51/51\u001b[0m \u001b[32m━━━━━━━━━━━━━━━━━━━━\u001b[0m\u001b[37m\u001b[0m \u001b[1m2s\u001b[0m 47ms/step - accuracy: 0.9846 - loss: 0.0713 - val_accuracy: 0.9702 - val_loss: 0.1632\n",
      "Epoch 42/50\n",
      "\u001b[1m51/51\u001b[0m \u001b[32m━━━━━━━━━━━━━━━━━━━━\u001b[0m\u001b[37m\u001b[0m \u001b[1m2s\u001b[0m 47ms/step - accuracy: 0.9881 - loss: 0.0703 - val_accuracy: 0.9702 - val_loss: 0.1203\n",
      "Epoch 43/50\n",
      "\u001b[1m51/51\u001b[0m \u001b[32m━━━━━━━━━━━━━━━━━━━━\u001b[0m\u001b[37m\u001b[0m \u001b[1m2s\u001b[0m 48ms/step - accuracy: 0.9845 - loss: 0.0797 - val_accuracy: 0.9739 - val_loss: 0.1167\n",
      "Epoch 44/50\n",
      "\u001b[1m51/51\u001b[0m \u001b[32m━━━━━━━━━━━━━━━━━━━━\u001b[0m\u001b[37m\u001b[0m \u001b[1m2s\u001b[0m 49ms/step - accuracy: 0.9870 - loss: 0.0681 - val_accuracy: 0.9714 - val_loss: 0.1282\n",
      "Epoch 45/50\n",
      "\u001b[1m51/51\u001b[0m \u001b[32m━━━━━━━━━━━━━━━━━━━━\u001b[0m\u001b[37m\u001b[0m \u001b[1m2s\u001b[0m 47ms/step - accuracy: 0.9879 - loss: 0.0690 - val_accuracy: 0.9739 - val_loss: 0.1247\n",
      "Epoch 46/50\n",
      "\u001b[1m51/51\u001b[0m \u001b[32m━━━━━━━━━━━━━━━━━━━━\u001b[0m\u001b[37m\u001b[0m \u001b[1m2s\u001b[0m 46ms/step - accuracy: 0.9863 - loss: 0.0687 - val_accuracy: 0.9696 - val_loss: 0.1596\n",
      "Epoch 47/50\n",
      "\u001b[1m51/51\u001b[0m \u001b[32m━━━━━━━━━━━━━━━━━━━━\u001b[0m\u001b[37m\u001b[0m \u001b[1m2s\u001b[0m 46ms/step - accuracy: 0.9873 - loss: 0.0730 - val_accuracy: 0.9727 - val_loss: 0.1407\n",
      "Epoch 48/50\n",
      "\u001b[1m51/51\u001b[0m \u001b[32m━━━━━━━━━━━━━━━━━━━━\u001b[0m\u001b[37m\u001b[0m \u001b[1m2s\u001b[0m 46ms/step - accuracy: 0.9891 - loss: 0.0672 - val_accuracy: 0.9714 - val_loss: 0.1503\n",
      "Epoch 49/50\n",
      "\u001b[1m51/51\u001b[0m \u001b[32m━━━━━━━━━━━━━━━━━━━━\u001b[0m\u001b[37m\u001b[0m \u001b[1m2s\u001b[0m 46ms/step - accuracy: 0.9864 - loss: 0.0661 - val_accuracy: 0.9714 - val_loss: 0.1326\n",
      "Epoch 50/50\n",
      "\u001b[1m51/51\u001b[0m \u001b[32m━━━━━━━━━━━━━━━━━━━━\u001b[0m\u001b[37m\u001b[0m \u001b[1m2s\u001b[0m 49ms/step - accuracy: 0.9909 - loss: 0.0601 - val_accuracy: 0.9677 - val_loss: 0.1472\n"
     ]
    }
   ],
   "source": [
    "history_1 = ANN_1.fit(X_train,y_train,\n",
    "         validation_data=(X_val,y_val),\n",
    "         epochs=50,batch_size=128)"
   ]
  },
  {
   "cell_type": "code",
   "execution_count": 76,
   "id": "d842d57e",
   "metadata": {},
   "outputs": [
    {
     "data": {
      "text/plain": [
       "<Axes: >"
      ]
     },
     "execution_count": 76,
     "metadata": {},
     "output_type": "execute_result"
    },
    {
     "data": {
      "image/png": "[encoded data removed]",
      "text/plain": [
       "<Figure size 640x480 with 1 Axes>"
      ]
     },
     "metadata": {},
     "output_type": "display_data"
    }
   ],
   "source": [
    "loss_df_1 = pd.DataFrame(history_1.history)\n",
    "loss_df_1.plot()"
   ]
  },
  {
   "cell_type": "code",
   "execution_count": 61,
   "id": "60a1af2c",
   "metadata": {},
   "outputs": [
    {
     "name": "stdout",
     "output_type": "stream",
     "text": [
      "\u001b[1m108/108\u001b[0m \u001b[32m━━━━━━━━━━━━━━━━━━━━\u001b[0m\u001b[37m\u001b[0m \u001b[1m0s\u001b[0m 1ms/step\n",
      "              precision    recall  f1-score   support\n",
      "\n",
      "           0       0.98      0.99      0.99      2756\n",
      "           1       0.97      0.92      0.94       694\n",
      "\n",
      "    accuracy                           0.98      3450\n",
      "   macro avg       0.97      0.96      0.96      3450\n",
      "weighted avg       0.98      0.98      0.98      3450\n",
      "\n"
     ]
    }
   ],
   "source": [
    "pred_ANN_1 = ANN_1.predict(X_test)\n",
    "pred_ANN_1 = (pred_ANN_1 > 0.5).astype(int)\n",
    "print(classification_report(y_test,pred_ANN_1))"
   ]
  },
  {
   "cell_type": "code",
   "execution_count": null,
   "id": "b8529b7e",
   "metadata": {},
   "outputs": [],
   "source": [
    "ANN_1.sav"
   ]
  },
  {
   "cell_type": "code",
   "execution_count": 77,
   "id": "20e0b1cb",
   "metadata": {},
   "outputs": [],
   "source": [
    "#ANN with oversampled data\n",
    "ANN_2 = create_model()"
   ]
  },
  {
   "cell_type": "code",
   "execution_count": 78,
   "id": "a6204500",
   "metadata": {},
   "outputs": [
    {
     "name": "stdout",
     "output_type": "stream",
     "text": [
      "Epoch 1/75\n",
      "\u001b[1m81/81\u001b[0m \u001b[32m━━━━━━━━━━━━━━━━━━━━\u001b[0m\u001b[37m\u001b[0m \u001b[1m6s\u001b[0m 54ms/step - accuracy: 0.6309 - loss: 0.6866 - val_accuracy: 0.9196 - val_loss: 0.5300\n",
      "Epoch 2/75\n",
      "\u001b[1m81/81\u001b[0m \u001b[32m━━━━━━━━━━━━━━━━━━━━\u001b[0m\u001b[37m\u001b[0m \u001b[1m4s\u001b[0m 53ms/step - accuracy: 0.9169 - loss: 0.4833 - val_accuracy: 0.9674 - val_loss: 0.3566\n",
      "Epoch 3/75\n",
      "\u001b[1m81/81\u001b[0m \u001b[32m━━━━━━━━━━━━━━━━━━━━\u001b[0m\u001b[37m\u001b[0m \u001b[1m4s\u001b[0m 54ms/step - accuracy: 0.9622 - loss: 0.3611 - val_accuracy: 0.9713 - val_loss: 0.3300\n",
      "Epoch 4/75\n",
      "\u001b[1m81/81\u001b[0m \u001b[32m━━━━━━━━━━━━━━━━━━━━\u001b[0m\u001b[37m\u001b[0m \u001b[1m4s\u001b[0m 49ms/step - accuracy: 0.9608 - loss: 0.3348 - val_accuracy: 0.9573 - val_loss: 0.3170\n",
      "Epoch 5/75\n",
      "\u001b[1m81/81\u001b[0m \u001b[32m━━━━━━━━━━━━━━━━━━━━\u001b[0m\u001b[37m\u001b[0m \u001b[1m4s\u001b[0m 47ms/step - accuracy: 0.9626 - loss: 0.3118 - val_accuracy: 0.9724 - val_loss: 0.2871\n",
      "Epoch 6/75\n",
      "\u001b[1m81/81\u001b[0m \u001b[32m━━━━━━━━━━━━━━━━━━━━\u001b[0m\u001b[37m\u001b[0m \u001b[1m4s\u001b[0m 48ms/step - accuracy: 0.9733 - loss: 0.2818 - val_accuracy: 0.9732 - val_loss: 0.2795\n",
      "Epoch 7/75\n",
      "\u001b[1m81/81\u001b[0m \u001b[32m━━━━━━━━━━━━━━━━━━━━\u001b[0m\u001b[37m\u001b[0m \u001b[1m4s\u001b[0m 53ms/step - accuracy: 0.9761 - loss: 0.2655 - val_accuracy: 0.9705 - val_loss: 0.2627\n",
      "Epoch 8/75\n",
      "\u001b[1m81/81\u001b[0m \u001b[32m━━━━━━━━━━━━━━━━━━━━\u001b[0m\u001b[37m\u001b[0m \u001b[1m4s\u001b[0m 46ms/step - accuracy: 0.9731 - loss: 0.2560 - val_accuracy: 0.9697 - val_loss: 0.2549\n",
      "Epoch 9/75\n",
      "\u001b[1m81/81\u001b[0m \u001b[32m━━━━━━━━━━━━━━━━━━━━\u001b[0m\u001b[37m\u001b[0m \u001b[1m4s\u001b[0m 47ms/step - accuracy: 0.9757 - loss: 0.2376 - val_accuracy: 0.9674 - val_loss: 0.2424\n",
      "Epoch 10/75\n",
      "\u001b[1m81/81\u001b[0m \u001b[32m━━━━━━━━━━━━━━━━━━━━\u001b[0m\u001b[37m\u001b[0m \u001b[1m4s\u001b[0m 47ms/step - accuracy: 0.9780 - loss: 0.2238 - val_accuracy: 0.9693 - val_loss: 0.2287\n",
      "Epoch 11/75\n",
      "\u001b[1m81/81\u001b[0m \u001b[32m━━━━━━━━━━━━━━━━━━━━\u001b[0m\u001b[37m\u001b[0m \u001b[1m4s\u001b[0m 46ms/step - accuracy: 0.9768 - loss: 0.2174 - val_accuracy: 0.9763 - val_loss: 0.2139\n",
      "Epoch 12/75\n",
      "\u001b[1m81/81\u001b[0m \u001b[32m━━━━━━━━━━━━━━━━━━━━\u001b[0m\u001b[37m\u001b[0m \u001b[1m4s\u001b[0m 46ms/step - accuracy: 0.9804 - loss: 0.2015 - val_accuracy: 0.9736 - val_loss: 0.2216\n",
      "Epoch 13/75\n",
      "\u001b[1m81/81\u001b[0m \u001b[32m━━━━━━━━━━━━━━━━━━━━\u001b[0m\u001b[37m\u001b[0m \u001b[1m4s\u001b[0m 46ms/step - accuracy: 0.9805 - loss: 0.1961 - val_accuracy: 0.9709 - val_loss: 0.2057\n",
      "Epoch 14/75\n",
      "\u001b[1m81/81\u001b[0m \u001b[32m━━━━━━━━━━━━━━━━━━━━\u001b[0m\u001b[37m\u001b[0m \u001b[1m4s\u001b[0m 46ms/step - accuracy: 0.9804 - loss: 0.1866 - val_accuracy: 0.9783 - val_loss: 0.1965\n",
      "Epoch 15/75\n",
      "\u001b[1m81/81\u001b[0m \u001b[32m━━━━━━━━━━━━━━━━━━━━\u001b[0m\u001b[37m\u001b[0m \u001b[1m4s\u001b[0m 46ms/step - accuracy: 0.9831 - loss: 0.1747 - val_accuracy: 0.9775 - val_loss: 0.1909\n",
      "Epoch 16/75\n",
      "\u001b[1m81/81\u001b[0m \u001b[32m━━━━━━━━━━━━━━━━━━━━\u001b[0m\u001b[37m\u001b[0m \u001b[1m4s\u001b[0m 46ms/step - accuracy: 0.9824 - loss: 0.1661 - val_accuracy: 0.9701 - val_loss: 0.1946\n",
      "Epoch 17/75\n",
      "\u001b[1m81/81\u001b[0m \u001b[32m━━━━━━━━━━━━━━━━━━━━\u001b[0m\u001b[37m\u001b[0m \u001b[1m4s\u001b[0m 49ms/step - accuracy: 0.9816 - loss: 0.1627 - val_accuracy: 0.9783 - val_loss: 0.1707\n",
      "Epoch 18/75\n",
      "\u001b[1m81/81\u001b[0m \u001b[32m━━━━━━━━━━━━━━━━━━━━\u001b[0m\u001b[37m\u001b[0m \u001b[1m4s\u001b[0m 51ms/step - accuracy: 0.9831 - loss: 0.1528 - val_accuracy: 0.9802 - val_loss: 0.1687\n",
      "Epoch 19/75\n",
      "\u001b[1m81/81\u001b[0m \u001b[32m━━━━━━━━━━━━━━━━━━━━\u001b[0m\u001b[37m\u001b[0m \u001b[1m4s\u001b[0m 48ms/step - accuracy: 0.9817 - loss: 0.1626 - val_accuracy: 0.9818 - val_loss: 0.1481\n",
      "Epoch 20/75\n",
      "\u001b[1m81/81\u001b[0m \u001b[32m━━━━━━━━━━━━━━━━━━━━\u001b[0m\u001b[37m\u001b[0m \u001b[1m4s\u001b[0m 48ms/step - accuracy: 0.9865 - loss: 0.1379 - val_accuracy: 0.9728 - val_loss: 0.1552\n",
      "Epoch 21/75\n",
      "\u001b[1m81/81\u001b[0m \u001b[32m━━━━━━━━━━━━━━━━━━━━\u001b[0m\u001b[37m\u001b[0m \u001b[1m4s\u001b[0m 47ms/step - accuracy: 0.9813 - loss: 0.1430 - val_accuracy: 0.9821 - val_loss: 0.1415\n",
      "Epoch 22/75\n",
      "\u001b[1m81/81\u001b[0m \u001b[32m━━━━━━━━━━━━━━━━━━━━\u001b[0m\u001b[37m\u001b[0m \u001b[1m4s\u001b[0m 47ms/step - accuracy: 0.9833 - loss: 0.1323 - val_accuracy: 0.9825 - val_loss: 0.1373\n",
      "Epoch 23/75\n",
      "\u001b[1m81/81\u001b[0m \u001b[32m━━━━━━━━━━━━━━━━━━━━\u001b[0m\u001b[37m\u001b[0m \u001b[1m4s\u001b[0m 47ms/step - accuracy: 0.9869 - loss: 0.1225 - val_accuracy: 0.9794 - val_loss: 0.1439\n",
      "Epoch 24/75\n",
      "\u001b[1m81/81\u001b[0m \u001b[32m━━━━━━━━━━━━━━━━━━━━\u001b[0m\u001b[37m\u001b[0m \u001b[1m4s\u001b[0m 47ms/step - accuracy: 0.9880 - loss: 0.1188 - val_accuracy: 0.9810 - val_loss: 0.1400\n",
      "Epoch 25/75\n",
      "\u001b[1m81/81\u001b[0m \u001b[32m━━━━━━━━━━━━━━━━━━━━\u001b[0m\u001b[37m\u001b[0m \u001b[1m4s\u001b[0m 48ms/step - accuracy: 0.9850 - loss: 0.1203 - val_accuracy: 0.9786 - val_loss: 0.1379\n",
      "Epoch 26/75\n",
      "\u001b[1m81/81\u001b[0m \u001b[32m━━━━━━━━━━━━━━━━━━━━\u001b[0m\u001b[37m\u001b[0m \u001b[1m4s\u001b[0m 47ms/step - accuracy: 0.9858 - loss: 0.1147 - val_accuracy: 0.9818 - val_loss: 0.1326\n",
      "Epoch 27/75\n",
      "\u001b[1m81/81\u001b[0m \u001b[32m━━━━━━━━━━━━━━━━━━━━\u001b[0m\u001b[37m\u001b[0m \u001b[1m4s\u001b[0m 48ms/step - accuracy: 0.9883 - loss: 0.1061 - val_accuracy: 0.9814 - val_loss: 0.1296\n",
      "Epoch 28/75\n",
      "\u001b[1m81/81\u001b[0m \u001b[32m━━━━━━━━━━━━━━━━━━━━\u001b[0m\u001b[37m\u001b[0m \u001b[1m4s\u001b[0m 48ms/step - accuracy: 0.9856 - loss: 0.1081 - val_accuracy: 0.9825 - val_loss: 0.1226\n",
      "Epoch 29/75\n",
      "\u001b[1m81/81\u001b[0m \u001b[32m━━━━━━━━━━━━━━━━━━━━\u001b[0m\u001b[37m\u001b[0m \u001b[1m4s\u001b[0m 48ms/step - accuracy: 0.9873 - loss: 0.1011 - val_accuracy: 0.9794 - val_loss: 0.1249\n",
      "Epoch 30/75\n",
      "\u001b[1m81/81\u001b[0m \u001b[32m━━━━━━━━━━━━━━━━━━━━\u001b[0m\u001b[37m\u001b[0m \u001b[1m4s\u001b[0m 47ms/step - accuracy: 0.9876 - loss: 0.0974 - val_accuracy: 0.9825 - val_loss: 0.1222\n",
      "Epoch 31/75\n",
      "\u001b[1m81/81\u001b[0m \u001b[32m━━━━━━━━━━━━━━━━━━━━\u001b[0m\u001b[37m\u001b[0m \u001b[1m4s\u001b[0m 49ms/step - accuracy: 0.9878 - loss: 0.0937 - val_accuracy: 0.9845 - val_loss: 0.1160\n",
      "Epoch 32/75\n",
      "\u001b[1m81/81\u001b[0m \u001b[32m━━━━━━━━━━━━━━━━━━━━\u001b[0m\u001b[37m\u001b[0m \u001b[1m4s\u001b[0m 48ms/step - accuracy: 0.9878 - loss: 0.0915 - val_accuracy: 0.9825 - val_loss: 0.1141\n",
      "Epoch 33/75\n",
      "\u001b[1m81/81\u001b[0m \u001b[32m━━━━━━━━━━━━━━━━━━━━\u001b[0m\u001b[37m\u001b[0m \u001b[1m4s\u001b[0m 48ms/step - accuracy: 0.9866 - loss: 0.0883 - val_accuracy: 0.9806 - val_loss: 0.1127\n",
      "Epoch 34/75\n",
      "\u001b[1m81/81\u001b[0m \u001b[32m━━━━━━━━━━━━━━━━━━━━\u001b[0m\u001b[37m\u001b[0m \u001b[1m4s\u001b[0m 49ms/step - accuracy: 0.9856 - loss: 0.0916 - val_accuracy: 0.9786 - val_loss: 0.1151\n",
      "Epoch 35/75\n",
      "\u001b[1m81/81\u001b[0m \u001b[32m━━━━━━━━━━━━━━━━━━━━\u001b[0m\u001b[37m\u001b[0m \u001b[1m4s\u001b[0m 47ms/step - accuracy: 0.9865 - loss: 0.0861 - val_accuracy: 0.9806 - val_loss: 0.1158\n",
      "Epoch 36/75\n",
      "\u001b[1m81/81\u001b[0m \u001b[32m━━━━━━━━━━━━━━━━━━━━\u001b[0m\u001b[37m\u001b[0m \u001b[1m4s\u001b[0m 48ms/step - accuracy: 0.9862 - loss: 0.0863 - val_accuracy: 0.9814 - val_loss: 0.1101\n",
      "Epoch 37/75\n",
      "\u001b[1m81/81\u001b[0m \u001b[32m━━━━━━━━━━━━━━━━━━━━\u001b[0m\u001b[37m\u001b[0m \u001b[1m4s\u001b[0m 49ms/step - accuracy: 0.9871 - loss: 0.0791 - val_accuracy: 0.9814 - val_loss: 0.1053\n",
      "Epoch 38/75\n",
      "\u001b[1m81/81\u001b[0m \u001b[32m━━━━━━━━━━━━━━━━━━━━\u001b[0m\u001b[37m\u001b[0m \u001b[1m4s\u001b[0m 50ms/step - accuracy: 0.9886 - loss: 0.0762 - val_accuracy: 0.9806 - val_loss: 0.1163\n",
      "Epoch 39/75\n",
      "\u001b[1m81/81\u001b[0m \u001b[32m━━━━━━━━━━━━━━━━━━━━\u001b[0m\u001b[37m\u001b[0m \u001b[1m4s\u001b[0m 52ms/step - accuracy: 0.9880 - loss: 0.0754 - val_accuracy: 0.9798 - val_loss: 0.1109\n",
      "Epoch 40/75\n",
      "\u001b[1m81/81\u001b[0m \u001b[32m━━━━━━━━━━━━━━━━━━━━\u001b[0m\u001b[37m\u001b[0m \u001b[1m4s\u001b[0m 50ms/step - accuracy: 0.9891 - loss: 0.0742 - val_accuracy: 0.9790 - val_loss: 0.0913\n",
      "Epoch 41/75\n",
      "\u001b[1m81/81\u001b[0m \u001b[32m━━━━━━━━━━━━━━━━━━━━\u001b[0m\u001b[37m\u001b[0m \u001b[1m4s\u001b[0m 49ms/step - accuracy: 0.9904 - loss: 0.0689 - val_accuracy: 0.9794 - val_loss: 0.0960\n",
      "Epoch 42/75\n",
      "\u001b[1m81/81\u001b[0m \u001b[32m━━━━━━━━━━━━━━━━━━━━\u001b[0m\u001b[37m\u001b[0m \u001b[1m4s\u001b[0m 55ms/step - accuracy: 0.9900 - loss: 0.0665 - val_accuracy: 0.9790 - val_loss: 0.0958\n",
      "Epoch 43/75\n",
      "\u001b[1m81/81\u001b[0m \u001b[32m━━━━━━━━━━━━━━━━━━━━\u001b[0m\u001b[37m\u001b[0m \u001b[1m5s\u001b[0m 58ms/step - accuracy: 0.9882 - loss: 0.0695 - val_accuracy: 0.9806 - val_loss: 0.0950\n",
      "Epoch 44/75\n",
      "\u001b[1m81/81\u001b[0m \u001b[32m━━━━━━━━━━━━━━━━━━━━\u001b[0m\u001b[37m\u001b[0m \u001b[1m5s\u001b[0m 57ms/step - accuracy: 0.9918 - loss: 0.0611 - val_accuracy: 0.9814 - val_loss: 0.0896\n",
      "Epoch 45/75\n",
      "\u001b[1m81/81\u001b[0m \u001b[32m━━━━━━━━━━━━━━━━━━━━\u001b[0m\u001b[37m\u001b[0m \u001b[1m5s\u001b[0m 56ms/step - accuracy: 0.9880 - loss: 0.0689 - val_accuracy: 0.9794 - val_loss: 0.1003\n",
      "Epoch 46/75\n",
      "\u001b[1m81/81\u001b[0m \u001b[32m━━━━━━━━━━━━━━━━━━━━\u001b[0m\u001b[37m\u001b[0m \u001b[1m4s\u001b[0m 48ms/step - accuracy: 0.9890 - loss: 0.0638 - val_accuracy: 0.9833 - val_loss: 0.0970\n",
      "Epoch 47/75\n",
      "\u001b[1m81/81\u001b[0m \u001b[32m━━━━━━━━━━━━━━━━━━━━\u001b[0m\u001b[37m\u001b[0m \u001b[1m4s\u001b[0m 52ms/step - accuracy: 0.9883 - loss: 0.0647 - val_accuracy: 0.9771 - val_loss: 0.1020\n",
      "Epoch 48/75\n",
      "\u001b[1m81/81\u001b[0m \u001b[32m━━━━━━━━━━━━━━━━━━━━\u001b[0m\u001b[37m\u001b[0m \u001b[1m5s\u001b[0m 58ms/step - accuracy: 0.9886 - loss: 0.0630 - val_accuracy: 0.9829 - val_loss: 0.0954\n",
      "Epoch 49/75\n",
      "\u001b[1m81/81\u001b[0m \u001b[32m━━━━━━━━━━━━━━━━━━━━\u001b[0m\u001b[37m\u001b[0m \u001b[1m4s\u001b[0m 49ms/step - accuracy: 0.9879 - loss: 0.0682 - val_accuracy: 0.9806 - val_loss: 0.0970\n",
      "Epoch 50/75\n",
      "\u001b[1m81/81\u001b[0m \u001b[32m━━━━━━━━━━━━━━━━━━━━\u001b[0m\u001b[37m\u001b[0m \u001b[1m4s\u001b[0m 49ms/step - accuracy: 0.9882 - loss: 0.0638 - val_accuracy: 0.9825 - val_loss: 0.0932\n",
      "Epoch 51/75\n",
      "\u001b[1m81/81\u001b[0m \u001b[32m━━━━━━━━━━━━━━━━━━━━\u001b[0m\u001b[37m\u001b[0m \u001b[1m4s\u001b[0m 49ms/step - accuracy: 0.9912 - loss: 0.0560 - val_accuracy: 0.9829 - val_loss: 0.0910\n",
      "Epoch 52/75\n",
      "\u001b[1m81/81\u001b[0m \u001b[32m━━━━━━━━━━━━━━━━━━━━\u001b[0m\u001b[37m\u001b[0m \u001b[1m4s\u001b[0m 49ms/step - accuracy: 0.9890 - loss: 0.0615 - val_accuracy: 0.9825 - val_loss: 0.0973\n",
      "Epoch 53/75\n",
      "\u001b[1m81/81\u001b[0m \u001b[32m━━━━━━━━━━━━━━━━━━━━\u001b[0m\u001b[37m\u001b[0m \u001b[1m4s\u001b[0m 49ms/step - accuracy: 0.9923 - loss: 0.0519 - val_accuracy: 0.9818 - val_loss: 0.0940\n",
      "Epoch 54/75\n",
      "\u001b[1m81/81\u001b[0m \u001b[32m━━━━━━━━━━━━━━━━━━━━\u001b[0m\u001b[37m\u001b[0m \u001b[1m4s\u001b[0m 50ms/step - accuracy: 0.9926 - loss: 0.0501 - val_accuracy: 0.9821 - val_loss: 0.0925\n",
      "Epoch 55/75\n",
      "\u001b[1m81/81\u001b[0m \u001b[32m━━━━━━━━━━━━━━━━━━━━\u001b[0m\u001b[37m\u001b[0m \u001b[1m4s\u001b[0m 49ms/step - accuracy: 0.9912 - loss: 0.0519 - val_accuracy: 0.9790 - val_loss: 0.0997\n",
      "Epoch 56/75\n",
      "\u001b[1m81/81\u001b[0m \u001b[32m━━━━━━━━━━━━━━━━━━━━\u001b[0m\u001b[37m\u001b[0m \u001b[1m4s\u001b[0m 49ms/step - accuracy: 0.9913 - loss: 0.0522 - val_accuracy: 0.9806 - val_loss: 0.1014\n",
      "Epoch 57/75\n",
      "\u001b[1m81/81\u001b[0m \u001b[32m━━━━━━━━━━━━━━━━━━━━\u001b[0m\u001b[37m\u001b[0m \u001b[1m4s\u001b[0m 49ms/step - accuracy: 0.9928 - loss: 0.0463 - val_accuracy: 0.9806 - val_loss: 0.0919\n",
      "Epoch 58/75\n",
      "\u001b[1m81/81\u001b[0m \u001b[32m━━━━━━━━━━━━━━━━━━━━\u001b[0m\u001b[37m\u001b[0m \u001b[1m4s\u001b[0m 51ms/step - accuracy: 0.9897 - loss: 0.0541 - val_accuracy: 0.9783 - val_loss: 0.1061\n",
      "Epoch 59/75\n",
      "\u001b[1m81/81\u001b[0m \u001b[32m━━━━━━━━━━━━━━━━━━━━\u001b[0m\u001b[37m\u001b[0m \u001b[1m4s\u001b[0m 49ms/step - accuracy: 0.9912 - loss: 0.0467 - val_accuracy: 0.9825 - val_loss: 0.0975\n",
      "Epoch 60/75\n",
      "\u001b[1m81/81\u001b[0m \u001b[32m━━━━━━━━━━━━━━━━━━━━\u001b[0m\u001b[37m\u001b[0m \u001b[1m4s\u001b[0m 50ms/step - accuracy: 0.9909 - loss: 0.0493 - val_accuracy: 0.9833 - val_loss: 0.0936\n",
      "Epoch 61/75\n",
      "\u001b[1m81/81\u001b[0m \u001b[32m━━━━━━━━━━━━━━━━━━━━\u001b[0m\u001b[37m\u001b[0m \u001b[1m4s\u001b[0m 49ms/step - accuracy: 0.9909 - loss: 0.0505 - val_accuracy: 0.9821 - val_loss: 0.0858\n",
      "Epoch 62/75\n",
      "\u001b[1m81/81\u001b[0m \u001b[32m━━━━━━━━━━━━━━━━━━━━\u001b[0m\u001b[37m\u001b[0m \u001b[1m4s\u001b[0m 51ms/step - accuracy: 0.9919 - loss: 0.0445 - val_accuracy: 0.9841 - val_loss: 0.0900\n",
      "Epoch 63/75\n",
      "\u001b[1m81/81\u001b[0m \u001b[32m━━━━━━━━━━━━━━━━━━━━\u001b[0m\u001b[37m\u001b[0m \u001b[1m4s\u001b[0m 51ms/step - accuracy: 0.9910 - loss: 0.0457 - val_accuracy: 0.9810 - val_loss: 0.1047\n",
      "Epoch 64/75\n",
      "\u001b[1m81/81\u001b[0m \u001b[32m━━━━━━━━━━━━━━━━━━━━\u001b[0m\u001b[37m\u001b[0m \u001b[1m4s\u001b[0m 49ms/step - accuracy: 0.9899 - loss: 0.0485 - val_accuracy: 0.9794 - val_loss: 0.1072\n",
      "Epoch 65/75\n",
      "\u001b[1m81/81\u001b[0m \u001b[32m━━━━━━━━━━━━━━━━━━━━\u001b[0m\u001b[37m\u001b[0m \u001b[1m4s\u001b[0m 48ms/step - accuracy: 0.9917 - loss: 0.0438 - val_accuracy: 0.9779 - val_loss: 0.1139\n",
      "Epoch 66/75\n",
      "\u001b[1m81/81\u001b[0m \u001b[32m━━━━━━━━━━━━━━━━━━━━\u001b[0m\u001b[37m\u001b[0m \u001b[1m4s\u001b[0m 49ms/step - accuracy: 0.9929 - loss: 0.0393 - val_accuracy: 0.9821 - val_loss: 0.1075\n",
      "Epoch 67/75\n",
      "\u001b[1m81/81\u001b[0m \u001b[32m━━━━━━━━━━━━━━━━━━━━\u001b[0m\u001b[37m\u001b[0m \u001b[1m4s\u001b[0m 49ms/step - accuracy: 0.9920 - loss: 0.0472 - val_accuracy: 0.9818 - val_loss: 0.0991\n",
      "Epoch 68/75\n",
      "\u001b[1m81/81\u001b[0m \u001b[32m━━━━━━━━━━━━━━━━━━━━\u001b[0m\u001b[37m\u001b[0m \u001b[1m4s\u001b[0m 51ms/step - accuracy: 0.9910 - loss: 0.0464 - val_accuracy: 0.9821 - val_loss: 0.0835\n",
      "Epoch 69/75\n",
      "\u001b[1m81/81\u001b[0m \u001b[32m━━━━━━━━━━━━━━━━━━━━\u001b[0m\u001b[37m\u001b[0m \u001b[1m5s\u001b[0m 58ms/step - accuracy: 0.9920 - loss: 0.0410 - val_accuracy: 0.9825 - val_loss: 0.0918\n",
      "Epoch 70/75\n",
      "\u001b[1m81/81\u001b[0m \u001b[32m━━━━━━━━━━━━━━━━━━━━\u001b[0m\u001b[37m\u001b[0m \u001b[1m5s\u001b[0m 56ms/step - accuracy: 0.9927 - loss: 0.0383 - val_accuracy: 0.9818 - val_loss: 0.0778\n",
      "Epoch 71/75\n",
      "\u001b[1m81/81\u001b[0m \u001b[32m━━━━━━━━━━━━━━━━━━━━\u001b[0m\u001b[37m\u001b[0m \u001b[1m5s\u001b[0m 56ms/step - accuracy: 0.9902 - loss: 0.0441 - val_accuracy: 0.9837 - val_loss: 0.0895\n",
      "Epoch 72/75\n",
      "\u001b[1m81/81\u001b[0m \u001b[32m━━━━━━━━━━━━━━━━━━━━\u001b[0m\u001b[37m\u001b[0m \u001b[1m5s\u001b[0m 59ms/step - accuracy: 0.9926 - loss: 0.0396 - val_accuracy: 0.9775 - val_loss: 0.1075\n",
      "Epoch 73/75\n",
      "\u001b[1m81/81\u001b[0m \u001b[32m━━━━━━━━━━━━━━━━━━━━\u001b[0m\u001b[37m\u001b[0m \u001b[1m5s\u001b[0m 56ms/step - accuracy: 0.9931 - loss: 0.0388 - val_accuracy: 0.9794 - val_loss: 0.0904\n",
      "Epoch 74/75\n",
      "\u001b[1m81/81\u001b[0m \u001b[32m━━━━━━━━━━━━━━━━━━━━\u001b[0m\u001b[37m\u001b[0m \u001b[1m4s\u001b[0m 50ms/step - accuracy: 0.9913 - loss: 0.0415 - val_accuracy: 0.9802 - val_loss: 0.0987\n",
      "Epoch 75/75\n",
      "\u001b[1m81/81\u001b[0m \u001b[32m━━━━━━━━━━━━━━━━━━━━\u001b[0m\u001b[37m\u001b[0m \u001b[1m4s\u001b[0m 50ms/step - accuracy: 0.9935 - loss: 0.0345 - val_accuracy: 0.9818 - val_loss: 0.0942\n"
     ]
    }
   ],
   "source": [
    "history_2 = ANN_2.fit(X_train_rand,y_train_rand,\n",
    "         validation_data=(X_val_rand,y_val_rand),\n",
    "         epochs=75,batch_size=128)"
   ]
  },
  {
   "cell_type": "code",
   "execution_count": 79,
   "id": "6e873ac4",
   "metadata": {},
   "outputs": [
    {
     "data": {
      "text/plain": [
       "<Axes: >"
      ]
     },
     "execution_count": 79,
     "metadata": {},
     "output_type": "execute_result"
    },
    {
     "data": {
      "image/png": "[encoded data removed]",
      "text/plain": [
       "<Figure size 640x480 with 1 Axes>"
      ]
     },
     "metadata": {},
     "output_type": "display_data"
    }
   ],
   "source": [
    "loss_df_2 = pd.DataFrame(history_2.history)\n",
    "loss_df_2.plot()"
   ]
  },
  {
   "cell_type": "code",
   "execution_count": 65,
   "id": "54abba72",
   "metadata": {},
   "outputs": [
    {
     "name": "stdout",
     "output_type": "stream",
     "text": [
      "\u001b[1m173/173\u001b[0m \u001b[32m━━━━━━━━━━━━━━━━━━━━\u001b[0m\u001b[37m\u001b[0m \u001b[1m0s\u001b[0m 1ms/step  \n",
      "              precision    recall  f1-score   support\n",
      "\n",
      "           0       1.00      0.98      0.99      2782\n",
      "           1       0.98      1.00      0.99      2738\n",
      "\n",
      "    accuracy                           0.99      5520\n",
      "   macro avg       0.99      0.99      0.99      5520\n",
      "weighted avg       0.99      0.99      0.99      5520\n",
      "\n"
     ]
    }
   ],
   "source": [
    "pred_ANN_2 = ANN_2.predict(X_test_rand)\n",
    "pred_ANN_2 = (pred_ANN_2 > 0.5).astype(int)\n",
    "print(classification_report(y_test_rand,pred_ANN_2))"
   ]
  }
 ],
 "metadata": {
  "kernelspec": {
   "display_name": "Python 3 (ipykernel)",
   "language": "python",
   "name": "python3"
  },
  "language_info": {
   "codemirror_mode": {
    "name": "ipython",
    "version": 3
   },
   "file_extension": ".py",
   "mimetype": "text/x-python",
   "name": "python",
   "nbconvert_exporter": "python",
   "pygments_lexer": "ipython3",
   "version": "3.11.5"
  }
 },
 "nbformat": 4,
 "nbformat_minor": 5
}

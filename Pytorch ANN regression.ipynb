{
 "cells": [
  {
   "cell_type": "code",
   "execution_count": 20,
   "id": "971d488d",
   "metadata": {},
   "outputs": [],
   "source": [
    "#basic imports\n",
    "import numpy as np\n",
    "import pandas as pd\n",
    "import seaborn as sns\n",
    "import matplotlib.pyplot as plt\n",
    "import torch\n",
    "import torch.nn as nn\n",
    "import torch.nn.functional as F\n",
    "import warnings\n",
    "warnings.filterwarnings('ignore')"
   ]
  },
  {
   "cell_type": "code",
   "execution_count": 21,
   "id": "cc35d90e",
   "metadata": {},
   "outputs": [
    {
     "name": "stdout",
     "output_type": "stream",
     "text": [
      "2.4.1\n"
     ]
    }
   ],
   "source": [
    "print(torch.__version__)"
   ]
  },
  {
   "cell_type": "code",
   "execution_count": 22,
   "id": "00edb2ad",
   "metadata": {},
   "outputs": [],
   "source": [
    "device = torch.device(\"mps\")"
   ]
  },
  {
   "cell_type": "code",
   "execution_count": 23,
   "id": "4add9776",
   "metadata": {},
   "outputs": [],
   "source": [
    "df = pd.read_csv('../Data/NYCTaxiFares.csv')"
   ]
  },
  {
   "cell_type": "code",
   "execution_count": 24,
   "id": "25ee4d4c",
   "metadata": {},
   "outputs": [
    {
     "data": {
      "text/html": [
       "<div>\n",
       "<style scoped>\n",
       "    .dataframe tbody tr th:only-of-type {\n",
       "        vertical-align: middle;\n",
       "    }\n",
       "\n",
       "    .dataframe tbody tr th {\n",
       "        vertical-align: top;\n",
       "    }\n",
       "\n",
       "    .dataframe thead th {\n",
       "        text-align: right;\n",
       "    }\n",
       "</style>\n",
       "<table border=\"1\" class=\"dataframe\">\n",
       "  <thead>\n",
       "    <tr style=\"text-align: right;\">\n",
       "      <th></th>\n",
       "      <th>pickup_datetime</th>\n",
       "      <th>fare_amount</th>\n",
       "      <th>fare_class</th>\n",
       "      <th>pickup_longitude</th>\n",
       "      <th>pickup_latitude</th>\n",
       "      <th>dropoff_longitude</th>\n",
       "      <th>dropoff_latitude</th>\n",
       "      <th>passenger_count</th>\n",
       "    </tr>\n",
       "  </thead>\n",
       "  <tbody>\n",
       "    <tr>\n",
       "      <th>0</th>\n",
       "      <td>2010-04-19 08:17:56 UTC</td>\n",
       "      <td>6.5</td>\n",
       "      <td>0</td>\n",
       "      <td>-73.992365</td>\n",
       "      <td>40.730521</td>\n",
       "      <td>-73.975499</td>\n",
       "      <td>40.744746</td>\n",
       "      <td>1</td>\n",
       "    </tr>\n",
       "    <tr>\n",
       "      <th>1</th>\n",
       "      <td>2010-04-17 15:43:53 UTC</td>\n",
       "      <td>6.9</td>\n",
       "      <td>0</td>\n",
       "      <td>-73.990078</td>\n",
       "      <td>40.740558</td>\n",
       "      <td>-73.974232</td>\n",
       "      <td>40.744114</td>\n",
       "      <td>1</td>\n",
       "    </tr>\n",
       "    <tr>\n",
       "      <th>2</th>\n",
       "      <td>2010-04-17 11:23:26 UTC</td>\n",
       "      <td>10.1</td>\n",
       "      <td>1</td>\n",
       "      <td>-73.994149</td>\n",
       "      <td>40.751118</td>\n",
       "      <td>-73.960064</td>\n",
       "      <td>40.766235</td>\n",
       "      <td>2</td>\n",
       "    </tr>\n",
       "    <tr>\n",
       "      <th>3</th>\n",
       "      <td>2010-04-11 21:25:03 UTC</td>\n",
       "      <td>8.9</td>\n",
       "      <td>0</td>\n",
       "      <td>-73.990485</td>\n",
       "      <td>40.756422</td>\n",
       "      <td>-73.971205</td>\n",
       "      <td>40.748192</td>\n",
       "      <td>1</td>\n",
       "    </tr>\n",
       "    <tr>\n",
       "      <th>4</th>\n",
       "      <td>2010-04-17 02:19:01 UTC</td>\n",
       "      <td>19.7</td>\n",
       "      <td>1</td>\n",
       "      <td>-73.990976</td>\n",
       "      <td>40.734202</td>\n",
       "      <td>-73.905956</td>\n",
       "      <td>40.743115</td>\n",
       "      <td>1</td>\n",
       "    </tr>\n",
       "  </tbody>\n",
       "</table>\n",
       "</div>"
      ],
      "text/plain": [
       "           pickup_datetime  fare_amount  fare_class  pickup_longitude  \\\n",
       "0  2010-04-19 08:17:56 UTC          6.5           0        -73.992365   \n",
       "1  2010-04-17 15:43:53 UTC          6.9           0        -73.990078   \n",
       "2  2010-04-17 11:23:26 UTC         10.1           1        -73.994149   \n",
       "3  2010-04-11 21:25:03 UTC          8.9           0        -73.990485   \n",
       "4  2010-04-17 02:19:01 UTC         19.7           1        -73.990976   \n",
       "\n",
       "   pickup_latitude  dropoff_longitude  dropoff_latitude  passenger_count  \n",
       "0        40.730521         -73.975499         40.744746                1  \n",
       "1        40.740558         -73.974232         40.744114                1  \n",
       "2        40.751118         -73.960064         40.766235                2  \n",
       "3        40.756422         -73.971205         40.748192                1  \n",
       "4        40.734202         -73.905956         40.743115                1  "
      ]
     },
     "execution_count": 24,
     "metadata": {},
     "output_type": "execute_result"
    }
   ],
   "source": [
    "df.head()"
   ]
  },
  {
   "cell_type": "code",
   "execution_count": 25,
   "id": "e7bd055f",
   "metadata": {},
   "outputs": [],
   "source": [
    "#target - fare amount\n",
    "#numerical long,lat,passenger count\n",
    "#object - datetime"
   ]
  },
  {
   "cell_type": "markdown",
   "id": "f733bd34",
   "metadata": {},
   "source": [
    "### Distance extraction from long and lats"
   ]
  },
  {
   "cell_type": "code",
   "execution_count": 26,
   "id": "ecba631e",
   "metadata": {},
   "outputs": [],
   "source": [
    "def haversine_distance(df, lat1, long1, lat2, long2):\n",
    "    r = 6371\n",
    "       \n",
    "    phi1 = np.radians(df[lat1])\n",
    "    phi2 = np.radians(df[lat2])\n",
    "    \n",
    "    delta_phi = np.radians(df[lat2]-df[lat1])\n",
    "    delta_lambda = np.radians(df[long2]-df[long1])\n",
    "     \n",
    "    a = np.sin(delta_phi/2)**2 + np.cos(phi1) * np.cos(phi2) * np.sin(delta_lambda/2)**2\n",
    "    c = 2 * np.arctan2(np.sqrt(a), np.sqrt(1-a))\n",
    "    d = (r * c)\n",
    "\n",
    "    return d\n",
    "    "
   ]
  },
  {
   "cell_type": "code",
   "execution_count": 27,
   "id": "00a71c26",
   "metadata": {},
   "outputs": [
    {
     "data": {
      "text/plain": [
       "Index(['pickup_datetime', 'fare_amount', 'fare_class', 'pickup_longitude',\n",
       "       'pickup_latitude', 'dropoff_longitude', 'dropoff_latitude',\n",
       "       'passenger_count'],\n",
       "      dtype='object')"
      ]
     },
     "execution_count": 27,
     "metadata": {},
     "output_type": "execute_result"
    }
   ],
   "source": [
    "df.columns"
   ]
  },
  {
   "cell_type": "code",
   "execution_count": 28,
   "id": "2887782b",
   "metadata": {},
   "outputs": [],
   "source": [
    "df['distance_in_km'] = haversine_distance(df,'pickup_latitude','pickup_longitude','dropoff_latitude','dropoff_longitude')"
   ]
  },
  {
   "cell_type": "code",
   "execution_count": 29,
   "id": "95c64b62",
   "metadata": {},
   "outputs": [
    {
     "data": {
      "text/html": [
       "<div>\n",
       "<style scoped>\n",
       "    .dataframe tbody tr th:only-of-type {\n",
       "        vertical-align: middle;\n",
       "    }\n",
       "\n",
       "    .dataframe tbody tr th {\n",
       "        vertical-align: top;\n",
       "    }\n",
       "\n",
       "    .dataframe thead th {\n",
       "        text-align: right;\n",
       "    }\n",
       "</style>\n",
       "<table border=\"1\" class=\"dataframe\">\n",
       "  <thead>\n",
       "    <tr style=\"text-align: right;\">\n",
       "      <th></th>\n",
       "      <th>pickup_datetime</th>\n",
       "      <th>fare_amount</th>\n",
       "      <th>fare_class</th>\n",
       "      <th>pickup_longitude</th>\n",
       "      <th>pickup_latitude</th>\n",
       "      <th>dropoff_longitude</th>\n",
       "      <th>dropoff_latitude</th>\n",
       "      <th>passenger_count</th>\n",
       "      <th>distance_in_km</th>\n",
       "    </tr>\n",
       "  </thead>\n",
       "  <tbody>\n",
       "    <tr>\n",
       "      <th>0</th>\n",
       "      <td>2010-04-19 08:17:56 UTC</td>\n",
       "      <td>6.5</td>\n",
       "      <td>0</td>\n",
       "      <td>-73.992365</td>\n",
       "      <td>40.730521</td>\n",
       "      <td>-73.975499</td>\n",
       "      <td>40.744746</td>\n",
       "      <td>1</td>\n",
       "      <td>2.126312</td>\n",
       "    </tr>\n",
       "    <tr>\n",
       "      <th>1</th>\n",
       "      <td>2010-04-17 15:43:53 UTC</td>\n",
       "      <td>6.9</td>\n",
       "      <td>0</td>\n",
       "      <td>-73.990078</td>\n",
       "      <td>40.740558</td>\n",
       "      <td>-73.974232</td>\n",
       "      <td>40.744114</td>\n",
       "      <td>1</td>\n",
       "      <td>1.392307</td>\n",
       "    </tr>\n",
       "    <tr>\n",
       "      <th>2</th>\n",
       "      <td>2010-04-17 11:23:26 UTC</td>\n",
       "      <td>10.1</td>\n",
       "      <td>1</td>\n",
       "      <td>-73.994149</td>\n",
       "      <td>40.751118</td>\n",
       "      <td>-73.960064</td>\n",
       "      <td>40.766235</td>\n",
       "      <td>2</td>\n",
       "      <td>3.326763</td>\n",
       "    </tr>\n",
       "    <tr>\n",
       "      <th>3</th>\n",
       "      <td>2010-04-11 21:25:03 UTC</td>\n",
       "      <td>8.9</td>\n",
       "      <td>0</td>\n",
       "      <td>-73.990485</td>\n",
       "      <td>40.756422</td>\n",
       "      <td>-73.971205</td>\n",
       "      <td>40.748192</td>\n",
       "      <td>1</td>\n",
       "      <td>1.864129</td>\n",
       "    </tr>\n",
       "    <tr>\n",
       "      <th>4</th>\n",
       "      <td>2010-04-17 02:19:01 UTC</td>\n",
       "      <td>19.7</td>\n",
       "      <td>1</td>\n",
       "      <td>-73.990976</td>\n",
       "      <td>40.734202</td>\n",
       "      <td>-73.905956</td>\n",
       "      <td>40.743115</td>\n",
       "      <td>1</td>\n",
       "      <td>7.231321</td>\n",
       "    </tr>\n",
       "  </tbody>\n",
       "</table>\n",
       "</div>"
      ],
      "text/plain": [
       "           pickup_datetime  fare_amount  fare_class  pickup_longitude  \\\n",
       "0  2010-04-19 08:17:56 UTC          6.5           0        -73.992365   \n",
       "1  2010-04-17 15:43:53 UTC          6.9           0        -73.990078   \n",
       "2  2010-04-17 11:23:26 UTC         10.1           1        -73.994149   \n",
       "3  2010-04-11 21:25:03 UTC          8.9           0        -73.990485   \n",
       "4  2010-04-17 02:19:01 UTC         19.7           1        -73.990976   \n",
       "\n",
       "   pickup_latitude  dropoff_longitude  dropoff_latitude  passenger_count  \\\n",
       "0        40.730521         -73.975499         40.744746                1   \n",
       "1        40.740558         -73.974232         40.744114                1   \n",
       "2        40.751118         -73.960064         40.766235                2   \n",
       "3        40.756422         -73.971205         40.748192                1   \n",
       "4        40.734202         -73.905956         40.743115                1   \n",
       "\n",
       "   distance_in_km  \n",
       "0        2.126312  \n",
       "1        1.392307  \n",
       "2        3.326763  \n",
       "3        1.864129  \n",
       "4        7.231321  "
      ]
     },
     "execution_count": 29,
     "metadata": {},
     "output_type": "execute_result"
    }
   ],
   "source": [
    "df.head()"
   ]
  },
  {
   "cell_type": "code",
   "execution_count": 30,
   "id": "c1395f21",
   "metadata": {},
   "outputs": [
    {
     "data": {
      "text/plain": [
       "<Axes: xlabel='passenger_count', ylabel='count'>"
      ]
     },
     "execution_count": 30,
     "metadata": {},
     "output_type": "execute_result"
    },
    {
     "data": {
      "image/png": "[encoded data removed]",
      "text/plain": [
       "<Figure size 640x480 with 1 Axes>"
      ]
     },
     "metadata": {},
     "output_type": "display_data"
    }
   ],
   "source": [
    "#extracting from datetime object\n",
    "sns.countplot(x='passenger_count',data=df,palette='winter_r')"
   ]
  },
  {
   "cell_type": "code",
   "execution_count": 31,
   "id": "2d989f09",
   "metadata": {},
   "outputs": [
    {
     "data": {
      "text/plain": [
       "<Axes: xlabel='pickup_longitude', ylabel='pickup_latitude'>"
      ]
     },
     "execution_count": 31,
     "metadata": {},
     "output_type": "execute_result"
    },
    {
     "data": {
      "image/png": "[encoded data removed]",
      "text/plain": [
       "<Figure size 640x480 with 1 Axes>"
      ]
     },
     "metadata": {},
     "output_type": "display_data"
    }
   ],
   "source": [
    "sns.scatterplot(x='pickup_longitude',y='pickup_latitude',data=df,hue='fare_class',palette='coolwarm')"
   ]
  },
  {
   "cell_type": "code",
   "execution_count": 32,
   "id": "22d479e0",
   "metadata": {},
   "outputs": [
    {
     "data": {
      "text/plain": [
       "<Axes: xlabel='dropoff_longitude', ylabel='dropoff_latitude'>"
      ]
     },
     "execution_count": 32,
     "metadata": {},
     "output_type": "execute_result"
    },
    {
     "data": {
      "image/png": "[encoded data removed]",
      "text/plain": [
       "<Figure size 640x480 with 1 Axes>"
      ]
     },
     "metadata": {},
     "output_type": "display_data"
    }
   ],
   "source": [
    "sns.scatterplot(x='dropoff_longitude',y='dropoff_latitude',data=df,hue='fare_class',palette='coolwarm')"
   ]
  },
  {
   "cell_type": "markdown",
   "id": "698d297d",
   "metadata": {},
   "source": [
    "### Datetime"
   ]
  },
  {
   "cell_type": "code",
   "execution_count": 33,
   "id": "beace22e",
   "metadata": {},
   "outputs": [],
   "source": [
    "df['pickup_datetime'] = pd.to_datetime(df['pickup_datetime'])"
   ]
  },
  {
   "cell_type": "code",
   "execution_count": 34,
   "id": "eac8abb5",
   "metadata": {},
   "outputs": [],
   "source": [
    "#change time zone from UTC to EDT\n",
    "df['datetime'] = df['pickup_datetime'] - pd.Timedelta(hours=4)"
   ]
  },
  {
   "cell_type": "code",
   "execution_count": 35,
   "id": "516c357a",
   "metadata": {},
   "outputs": [
    {
     "data": {
      "text/html": [
       "<div>\n",
       "<style scoped>\n",
       "    .dataframe tbody tr th:only-of-type {\n",
       "        vertical-align: middle;\n",
       "    }\n",
       "\n",
       "    .dataframe tbody tr th {\n",
       "        vertical-align: top;\n",
       "    }\n",
       "\n",
       "    .dataframe thead th {\n",
       "        text-align: right;\n",
       "    }\n",
       "</style>\n",
       "<table border=\"1\" class=\"dataframe\">\n",
       "  <thead>\n",
       "    <tr style=\"text-align: right;\">\n",
       "      <th></th>\n",
       "      <th>pickup_datetime</th>\n",
       "      <th>fare_amount</th>\n",
       "      <th>fare_class</th>\n",
       "      <th>pickup_longitude</th>\n",
       "      <th>pickup_latitude</th>\n",
       "      <th>dropoff_longitude</th>\n",
       "      <th>dropoff_latitude</th>\n",
       "      <th>passenger_count</th>\n",
       "      <th>distance_in_km</th>\n",
       "      <th>datetime</th>\n",
       "    </tr>\n",
       "  </thead>\n",
       "  <tbody>\n",
       "    <tr>\n",
       "      <th>0</th>\n",
       "      <td>2010-04-19 08:17:56+00:00</td>\n",
       "      <td>6.5</td>\n",
       "      <td>0</td>\n",
       "      <td>-73.992365</td>\n",
       "      <td>40.730521</td>\n",
       "      <td>-73.975499</td>\n",
       "      <td>40.744746</td>\n",
       "      <td>1</td>\n",
       "      <td>2.126312</td>\n",
       "      <td>2010-04-19 04:17:56+00:00</td>\n",
       "    </tr>\n",
       "    <tr>\n",
       "      <th>1</th>\n",
       "      <td>2010-04-17 15:43:53+00:00</td>\n",
       "      <td>6.9</td>\n",
       "      <td>0</td>\n",
       "      <td>-73.990078</td>\n",
       "      <td>40.740558</td>\n",
       "      <td>-73.974232</td>\n",
       "      <td>40.744114</td>\n",
       "      <td>1</td>\n",
       "      <td>1.392307</td>\n",
       "      <td>2010-04-17 11:43:53+00:00</td>\n",
       "    </tr>\n",
       "    <tr>\n",
       "      <th>2</th>\n",
       "      <td>2010-04-17 11:23:26+00:00</td>\n",
       "      <td>10.1</td>\n",
       "      <td>1</td>\n",
       "      <td>-73.994149</td>\n",
       "      <td>40.751118</td>\n",
       "      <td>-73.960064</td>\n",
       "      <td>40.766235</td>\n",
       "      <td>2</td>\n",
       "      <td>3.326763</td>\n",
       "      <td>2010-04-17 07:23:26+00:00</td>\n",
       "    </tr>\n",
       "    <tr>\n",
       "      <th>3</th>\n",
       "      <td>2010-04-11 21:25:03+00:00</td>\n",
       "      <td>8.9</td>\n",
       "      <td>0</td>\n",
       "      <td>-73.990485</td>\n",
       "      <td>40.756422</td>\n",
       "      <td>-73.971205</td>\n",
       "      <td>40.748192</td>\n",
       "      <td>1</td>\n",
       "      <td>1.864129</td>\n",
       "      <td>2010-04-11 17:25:03+00:00</td>\n",
       "    </tr>\n",
       "    <tr>\n",
       "      <th>4</th>\n",
       "      <td>2010-04-17 02:19:01+00:00</td>\n",
       "      <td>19.7</td>\n",
       "      <td>1</td>\n",
       "      <td>-73.990976</td>\n",
       "      <td>40.734202</td>\n",
       "      <td>-73.905956</td>\n",
       "      <td>40.743115</td>\n",
       "      <td>1</td>\n",
       "      <td>7.231321</td>\n",
       "      <td>2010-04-16 22:19:01+00:00</td>\n",
       "    </tr>\n",
       "  </tbody>\n",
       "</table>\n",
       "</div>"
      ],
      "text/plain": [
       "            pickup_datetime  fare_amount  fare_class  pickup_longitude  \\\n",
       "0 2010-04-19 08:17:56+00:00          6.5           0        -73.992365   \n",
       "1 2010-04-17 15:43:53+00:00          6.9           0        -73.990078   \n",
       "2 2010-04-17 11:23:26+00:00         10.1           1        -73.994149   \n",
       "3 2010-04-11 21:25:03+00:00          8.9           0        -73.990485   \n",
       "4 2010-04-17 02:19:01+00:00         19.7           1        -73.990976   \n",
       "\n",
       "   pickup_latitude  dropoff_longitude  dropoff_latitude  passenger_count  \\\n",
       "0        40.730521         -73.975499         40.744746                1   \n",
       "1        40.740558         -73.974232         40.744114                1   \n",
       "2        40.751118         -73.960064         40.766235                2   \n",
       "3        40.756422         -73.971205         40.748192                1   \n",
       "4        40.734202         -73.905956         40.743115                1   \n",
       "\n",
       "   distance_in_km                  datetime  \n",
       "0        2.126312 2010-04-19 04:17:56+00:00  \n",
       "1        1.392307 2010-04-17 11:43:53+00:00  \n",
       "2        3.326763 2010-04-17 07:23:26+00:00  \n",
       "3        1.864129 2010-04-11 17:25:03+00:00  \n",
       "4        7.231321 2010-04-16 22:19:01+00:00  "
      ]
     },
     "execution_count": 35,
     "metadata": {},
     "output_type": "execute_result"
    }
   ],
   "source": [
    "df.head()"
   ]
  },
  {
   "cell_type": "code",
   "execution_count": 36,
   "id": "3dc5e39a",
   "metadata": {},
   "outputs": [],
   "source": [
    "df.drop('pickup_datetime',axis=1,inplace=True)"
   ]
  },
  {
   "cell_type": "code",
   "execution_count": 40,
   "id": "0b7897c8",
   "metadata": {},
   "outputs": [],
   "source": [
    "#extract hours, weekday,am or pm,day of month,minutes\n",
    "df['Hours'] = df['datetime'].apply(lambda date: date.hour)"
   ]
  },
  {
   "cell_type": "code",
   "execution_count": 41,
   "id": "9b9bf610",
   "metadata": {},
   "outputs": [],
   "source": [
    "df['Minutes'] = df['datetime'].apply(lambda date:date.minute)"
   ]
  },
  {
   "cell_type": "code",
   "execution_count": 42,
   "id": "02d3b8ae",
   "metadata": {},
   "outputs": [],
   "source": [
    "df['Weekday'] = df['datetime'].apply(lambda date : date.day_of_week).replace({0:\"Mon\",1:\"Tue\",2:\"Wed\",3:\"Thu\",4:\"Fri\",5:\"Sat\",6:\"Sun\"})"
   ]
  },
  {
   "cell_type": "code",
   "execution_count": 43,
   "id": "2e32ee71",
   "metadata": {},
   "outputs": [],
   "source": [
    "df['AM_PM'] = df['Hours'].apply(lambda x : \"AM\" if x < 12 else \"PM\")"
   ]
  },
  {
   "cell_type": "code",
   "execution_count": 46,
   "id": "955d7ece",
   "metadata": {},
   "outputs": [],
   "source": [
    "df['Date'] = df['datetime'].apply(lambda date: date.day)"
   ]
  },
  {
   "cell_type": "code",
   "execution_count": 47,
   "id": "9534ee81",
   "metadata": {},
   "outputs": [
    {
     "data": {
      "text/html": [
       "<div>\n",
       "<style scoped>\n",
       "    .dataframe tbody tr th:only-of-type {\n",
       "        vertical-align: middle;\n",
       "    }\n",
       "\n",
       "    .dataframe tbody tr th {\n",
       "        vertical-align: top;\n",
       "    }\n",
       "\n",
       "    .dataframe thead th {\n",
       "        text-align: right;\n",
       "    }\n",
       "</style>\n",
       "<table border=\"1\" class=\"dataframe\">\n",
       "  <thead>\n",
       "    <tr style=\"text-align: right;\">\n",
       "      <th></th>\n",
       "      <th>fare_amount</th>\n",
       "      <th>fare_class</th>\n",
       "      <th>pickup_longitude</th>\n",
       "      <th>pickup_latitude</th>\n",
       "      <th>dropoff_longitude</th>\n",
       "      <th>dropoff_latitude</th>\n",
       "      <th>passenger_count</th>\n",
       "      <th>distance_in_km</th>\n",
       "      <th>datetime</th>\n",
       "      <th>Hours</th>\n",
       "      <th>Minutes</th>\n",
       "      <th>Weekday</th>\n",
       "      <th>AM_PM</th>\n",
       "      <th>Date</th>\n",
       "    </tr>\n",
       "  </thead>\n",
       "  <tbody>\n",
       "    <tr>\n",
       "      <th>0</th>\n",
       "      <td>6.5</td>\n",
       "      <td>0</td>\n",
       "      <td>-73.992365</td>\n",
       "      <td>40.730521</td>\n",
       "      <td>-73.975499</td>\n",
       "      <td>40.744746</td>\n",
       "      <td>1</td>\n",
       "      <td>2.126312</td>\n",
       "      <td>2010-04-19 04:17:56+00:00</td>\n",
       "      <td>4</td>\n",
       "      <td>17</td>\n",
       "      <td>Mon</td>\n",
       "      <td>AM</td>\n",
       "      <td>19</td>\n",
       "    </tr>\n",
       "    <tr>\n",
       "      <th>1</th>\n",
       "      <td>6.9</td>\n",
       "      <td>0</td>\n",
       "      <td>-73.990078</td>\n",
       "      <td>40.740558</td>\n",
       "      <td>-73.974232</td>\n",
       "      <td>40.744114</td>\n",
       "      <td>1</td>\n",
       "      <td>1.392307</td>\n",
       "      <td>2010-04-17 11:43:53+00:00</td>\n",
       "      <td>11</td>\n",
       "      <td>43</td>\n",
       "      <td>Sat</td>\n",
       "      <td>AM</td>\n",
       "      <td>17</td>\n",
       "    </tr>\n",
       "    <tr>\n",
       "      <th>2</th>\n",
       "      <td>10.1</td>\n",
       "      <td>1</td>\n",
       "      <td>-73.994149</td>\n",
       "      <td>40.751118</td>\n",
       "      <td>-73.960064</td>\n",
       "      <td>40.766235</td>\n",
       "      <td>2</td>\n",
       "      <td>3.326763</td>\n",
       "      <td>2010-04-17 07:23:26+00:00</td>\n",
       "      <td>7</td>\n",
       "      <td>23</td>\n",
       "      <td>Sat</td>\n",
       "      <td>AM</td>\n",
       "      <td>17</td>\n",
       "    </tr>\n",
       "    <tr>\n",
       "      <th>3</th>\n",
       "      <td>8.9</td>\n",
       "      <td>0</td>\n",
       "      <td>-73.990485</td>\n",
       "      <td>40.756422</td>\n",
       "      <td>-73.971205</td>\n",
       "      <td>40.748192</td>\n",
       "      <td>1</td>\n",
       "      <td>1.864129</td>\n",
       "      <td>2010-04-11 17:25:03+00:00</td>\n",
       "      <td>17</td>\n",
       "      <td>25</td>\n",
       "      <td>Sun</td>\n",
       "      <td>PM</td>\n",
       "      <td>11</td>\n",
       "    </tr>\n",
       "    <tr>\n",
       "      <th>4</th>\n",
       "      <td>19.7</td>\n",
       "      <td>1</td>\n",
       "      <td>-73.990976</td>\n",
       "      <td>40.734202</td>\n",
       "      <td>-73.905956</td>\n",
       "      <td>40.743115</td>\n",
       "      <td>1</td>\n",
       "      <td>7.231321</td>\n",
       "      <td>2010-04-16 22:19:01+00:00</td>\n",
       "      <td>22</td>\n",
       "      <td>19</td>\n",
       "      <td>Fri</td>\n",
       "      <td>PM</td>\n",
       "      <td>16</td>\n",
       "    </tr>\n",
       "  </tbody>\n",
       "</table>\n",
       "</div>"
      ],
      "text/plain": [
       "   fare_amount  fare_class  pickup_longitude  pickup_latitude  \\\n",
       "0          6.5           0        -73.992365        40.730521   \n",
       "1          6.9           0        -73.990078        40.740558   \n",
       "2         10.1           1        -73.994149        40.751118   \n",
       "3          8.9           0        -73.990485        40.756422   \n",
       "4         19.7           1        -73.990976        40.734202   \n",
       "\n",
       "   dropoff_longitude  dropoff_latitude  passenger_count  distance_in_km  \\\n",
       "0         -73.975499         40.744746                1        2.126312   \n",
       "1         -73.974232         40.744114                1        1.392307   \n",
       "2         -73.960064         40.766235                2        3.326763   \n",
       "3         -73.971205         40.748192                1        1.864129   \n",
       "4         -73.905956         40.743115                1        7.231321   \n",
       "\n",
       "                   datetime  Hours  Minutes Weekday AM_PM  Date  \n",
       "0 2010-04-19 04:17:56+00:00      4       17     Mon    AM    19  \n",
       "1 2010-04-17 11:43:53+00:00     11       43     Sat    AM    17  \n",
       "2 2010-04-17 07:23:26+00:00      7       23     Sat    AM    17  \n",
       "3 2010-04-11 17:25:03+00:00     17       25     Sun    PM    11  \n",
       "4 2010-04-16 22:19:01+00:00     22       19     Fri    PM    16  "
      ]
     },
     "execution_count": 47,
     "metadata": {},
     "output_type": "execute_result"
    }
   ],
   "source": [
    "df.head()"
   ]
  },
  {
   "cell_type": "markdown",
   "id": "716d0649",
   "metadata": {},
   "source": [
    "### Divide into continous and categorical vars"
   ]
  },
  {
   "cell_type": "code",
   "execution_count": 49,
   "id": "751b0bb9",
   "metadata": {},
   "outputs": [],
   "source": [
    "cat_cols = ['Hours','Minutes', 'Weekday', 'AM_PM','Date']\n",
    "num_cols = ['pickup_longitude', 'pickup_latitude','dropoff_longitude', 'dropoff_latitude', 'passenger_count','distance_in_km']"
   ]
  },
  {
   "cell_type": "code",
   "execution_count": 50,
   "id": "5e68b68a",
   "metadata": {},
   "outputs": [],
   "source": [
    "for col in cat_cols:\n",
    "    df[col] = df[col].astype('category')"
   ]
  },
  {
   "cell_type": "code",
   "execution_count": 54,
   "id": "b10c7c71",
   "metadata": {},
   "outputs": [],
   "source": [
    "#one liner\n",
    "cats = np.stack([df[col].cat.codes for col in cat_cols],axis=1)\n",
    "conts = np.stack([df[col].values for col in num_cols],axis=1)"
   ]
  },
  {
   "cell_type": "code",
   "execution_count": 58,
   "id": "18e4be5c",
   "metadata": {},
   "outputs": [],
   "source": [
    "cats = torch.tensor(cats,dtype=torch.int64)"
   ]
  },
  {
   "cell_type": "code",
   "execution_count": 59,
   "id": "83b61656",
   "metadata": {},
   "outputs": [],
   "source": [
    "conts = torch.Tensor(conts)"
   ]
  },
  {
   "cell_type": "code",
   "execution_count": 85,
   "id": "f01f4c42",
   "metadata": {},
   "outputs": [],
   "source": [
    "y_col = ['fare_amount']\n",
    "y = torch.Tensor(df[y_col].values)"
   ]
  },
  {
   "cell_type": "code",
   "execution_count": 86,
   "id": "d74618b6",
   "metadata": {},
   "outputs": [
    {
     "data": {
      "text/plain": [
       "tensor([[ 6.5000],\n",
       "        [ 6.9000],\n",
       "        [10.1000],\n",
       "        ...,\n",
       "        [12.5000],\n",
       "        [ 4.9000],\n",
       "        [ 5.3000]])"
      ]
     },
     "execution_count": 86,
     "metadata": {},
     "output_type": "execute_result"
    }
   ],
   "source": [
    "y"
   ]
  },
  {
   "cell_type": "markdown",
   "id": "aa53af94",
   "metadata": {},
   "source": [
    "### That concludes feature engineering"
   ]
  },
  {
   "cell_type": "markdown",
   "id": "ebfb467b",
   "metadata": {},
   "source": [
    "#### embedding sizes"
   ]
  },
  {
   "cell_type": "code",
   "execution_count": 62,
   "id": "0e3b8125",
   "metadata": {},
   "outputs": [],
   "source": [
    "cat_szs = [len(df[col].cat.categories) for col in cat_cols]\n",
    "emb_szs = [(size,min(50,(size+1)//2)) for size in cat_szs]"
   ]
  },
  {
   "cell_type": "markdown",
   "id": "322d6067",
   "metadata": {},
   "source": [
    "### Create the model"
   ]
  },
  {
   "cell_type": "code",
   "execution_count": 106,
   "id": "0a2f029f",
   "metadata": {},
   "outputs": [],
   "source": [
    "class Model(nn.Module):\n",
    "\n",
    "    def __init__(self,emb_szs,n_cont,out_sz,layers,p=0.4):\n",
    "        super().__init__()\n",
    "        #deal with catgegorical variables first\n",
    "        self.embeds = nn.ModuleList([nn.Embedding(ni,nf) for ni,nf in emb_szs])\n",
    "        self.emb_drop = nn.Dropout()\n",
    "        n_emb = sum([nf for ni,nf in emb_szs])\n",
    "        #deal with numerical\n",
    "        self.bn_cont = nn.BatchNorm1d(n_cont)\n",
    "        #calc total input \n",
    "        n_in = n_cont + n_emb\n",
    "        #create layers\n",
    "        layerlist = []\n",
    "        #Linear() - > Relu () -> batchnorm() -> dropout()\n",
    "        for i in layers:\n",
    "            layerlist.append(nn.Linear(n_in,i))\n",
    "            layerlist.append(nn.ReLU(inplace=True))\n",
    "            layerlist.append(nn.BatchNorm1d(i))\n",
    "            layerlist.append(nn.Dropout(p))\n",
    "            n_in = i\n",
    "        layerlist.append(nn.Linear(layers[-1],out_sz))\n",
    "        #create layers attribute\n",
    "        self.layers = nn.Sequential(*layerlist)\n",
    "    \n",
    "    def forward(self,x_cat,x_cont):\n",
    "        #process cat\n",
    "        embeddings = []\n",
    "        for i,e in enumerate(self.embeds):\n",
    "            embeddings.append(e(x_cat[:,i]))\n",
    "        x = torch.cat(embeddings,1)\n",
    "        x = self.emb_drop(x)\n",
    "        #process num\n",
    "        x_cont = self.bn_cont(x_cont)\n",
    "        x = torch.cat([x,x_cont],1)\n",
    "        x = self.layers(x)\n",
    "        return x"
   ]
  },
  {
   "cell_type": "code",
   "execution_count": 107,
   "id": "cd85447e",
   "metadata": {},
   "outputs": [],
   "source": [
    "model = Model(emb_szs,conts.shape[1],1,[512,256,128,64,32,16,8,4],p=0.4)"
   ]
  },
  {
   "cell_type": "code",
   "execution_count": 108,
   "id": "424d657e",
   "metadata": {},
   "outputs": [
    {
     "data": {
      "text/plain": [
       "Model(\n",
       "  (embeds): ModuleList(\n",
       "    (0): Embedding(24, 12)\n",
       "    (1): Embedding(60, 30)\n",
       "    (2): Embedding(7, 4)\n",
       "    (3): Embedding(2, 1)\n",
       "    (4): Embedding(14, 7)\n",
       "  )\n",
       "  (emb_drop): Dropout(p=0.5, inplace=False)\n",
       "  (bn_cont): BatchNorm1d(6, eps=1e-05, momentum=0.1, affine=True, track_running_stats=True)\n",
       "  (layers): Sequential(\n",
       "    (0): Linear(in_features=60, out_features=512, bias=True)\n",
       "    (1): ReLU(inplace=True)\n",
       "    (2): BatchNorm1d(512, eps=1e-05, momentum=0.1, affine=True, track_running_stats=True)\n",
       "    (3): Dropout(p=0.4, inplace=False)\n",
       "    (4): Linear(in_features=512, out_features=256, bias=True)\n",
       "    (5): ReLU(inplace=True)\n",
       "    (6): BatchNorm1d(256, eps=1e-05, momentum=0.1, affine=True, track_running_stats=True)\n",
       "    (7): Dropout(p=0.4, inplace=False)\n",
       "    (8): Linear(in_features=256, out_features=128, bias=True)\n",
       "    (9): ReLU(inplace=True)\n",
       "    (10): BatchNorm1d(128, eps=1e-05, momentum=0.1, affine=True, track_running_stats=True)\n",
       "    (11): Dropout(p=0.4, inplace=False)\n",
       "    (12): Linear(in_features=128, out_features=64, bias=True)\n",
       "    (13): ReLU(inplace=True)\n",
       "    (14): BatchNorm1d(64, eps=1e-05, momentum=0.1, affine=True, track_running_stats=True)\n",
       "    (15): Dropout(p=0.4, inplace=False)\n",
       "    (16): Linear(in_features=64, out_features=32, bias=True)\n",
       "    (17): ReLU(inplace=True)\n",
       "    (18): BatchNorm1d(32, eps=1e-05, momentum=0.1, affine=True, track_running_stats=True)\n",
       "    (19): Dropout(p=0.4, inplace=False)\n",
       "    (20): Linear(in_features=32, out_features=16, bias=True)\n",
       "    (21): ReLU(inplace=True)\n",
       "    (22): BatchNorm1d(16, eps=1e-05, momentum=0.1, affine=True, track_running_stats=True)\n",
       "    (23): Dropout(p=0.4, inplace=False)\n",
       "    (24): Linear(in_features=16, out_features=8, bias=True)\n",
       "    (25): ReLU(inplace=True)\n",
       "    (26): BatchNorm1d(8, eps=1e-05, momentum=0.1, affine=True, track_running_stats=True)\n",
       "    (27): Dropout(p=0.4, inplace=False)\n",
       "    (28): Linear(in_features=8, out_features=4, bias=True)\n",
       "    (29): ReLU(inplace=True)\n",
       "    (30): BatchNorm1d(4, eps=1e-05, momentum=0.1, affine=True, track_running_stats=True)\n",
       "    (31): Dropout(p=0.4, inplace=False)\n",
       "    (32): Linear(in_features=4, out_features=1, bias=True)\n",
       "  )\n",
       ")"
      ]
     },
     "execution_count": 108,
     "metadata": {},
     "output_type": "execute_result"
    }
   ],
   "source": [
    "model.to(device)"
   ]
  },
  {
   "cell_type": "markdown",
   "id": "c8f361f7",
   "metadata": {},
   "source": [
    "### Creating data"
   ]
  },
  {
   "cell_type": "code",
   "execution_count": 109,
   "id": "57077a61",
   "metadata": {},
   "outputs": [],
   "source": [
    "batch_size = len(df)\n",
    "test_size = int(0.2 * batch_size)"
   ]
  },
  {
   "cell_type": "code",
   "execution_count": 110,
   "id": "50462e06",
   "metadata": {},
   "outputs": [],
   "source": [
    "#create seperate varibles for cont,and cat\n",
    "cont_train = conts[:batch_size-test_size].to(device)\n",
    "cont_test = conts[batch_size-test_size:].to(device)\n",
    "cat_train = cats[:batch_size-test_size].to(device)\n",
    "cat_test = cats[batch_size-test_size:].to(device)\n",
    "y_train = y[:batch_size-test_size].to(device)\n",
    "y_test = y[batch_size-test_size:].to(device)"
   ]
  },
  {
   "cell_type": "code",
   "execution_count": 111,
   "id": "f3571e93",
   "metadata": {},
   "outputs": [],
   "source": [
    "criterion = nn.MSELoss()\n",
    "optimizer = torch.optim.Adam(model.parameters(),lr=0.01)"
   ]
  },
  {
   "cell_type": "code",
   "execution_count": 112,
   "id": "aa3e84e2",
   "metadata": {},
   "outputs": [],
   "source": [
    "num_epochs = 1500"
   ]
  },
  {
   "cell_type": "code",
   "execution_count": 113,
   "id": "fb7fdf1f",
   "metadata": {},
   "outputs": [
    {
     "name": "stdout",
     "output_type": "stream",
     "text": [
      "epoch : 10/1500 loss : 11.941121101379395\n",
      "epoch : 20/1500 loss : 11.564379692077637\n",
      "epoch : 30/1500 loss : 11.049139022827148\n",
      "epoch : 40/1500 loss : 10.365620613098145\n",
      "epoch : 50/1500 loss : 9.555986404418945\n",
      "epoch : 60/1500 loss : 8.590399742126465\n",
      "epoch : 70/1500 loss : 7.732524394989014\n",
      "epoch : 80/1500 loss : 7.050650119781494\n",
      "epoch : 90/1500 loss : 6.436734199523926\n",
      "epoch : 100/1500 loss : 5.92186164855957\n",
      "epoch : 110/1500 loss : 5.624129295349121\n",
      "epoch : 120/1500 loss : 5.45546293258667\n",
      "epoch : 130/1500 loss : 5.468698024749756\n",
      "epoch : 140/1500 loss : 5.465408802032471\n",
      "epoch : 150/1500 loss : 5.40635871887207\n",
      "epoch : 160/1500 loss : 5.3714776039123535\n",
      "epoch : 170/1500 loss : 5.372483253479004\n",
      "epoch : 180/1500 loss : 5.33380651473999\n",
      "epoch : 190/1500 loss : 5.335085391998291\n",
      "epoch : 200/1500 loss : 5.326024532318115\n",
      "epoch : 210/1500 loss : 5.337520599365234\n",
      "epoch : 220/1500 loss : 5.284757137298584\n",
      "epoch : 230/1500 loss : 5.289648532867432\n",
      "epoch : 240/1500 loss : 5.273646354675293\n",
      "epoch : 250/1500 loss : 5.295334339141846\n",
      "epoch : 260/1500 loss : 5.2635626792907715\n",
      "epoch : 270/1500 loss : 5.2319135665893555\n",
      "epoch : 280/1500 loss : 5.238984107971191\n",
      "epoch : 290/1500 loss : 5.201297283172607\n",
      "epoch : 300/1500 loss : 5.208400726318359\n",
      "epoch : 310/1500 loss : 5.175081729888916\n",
      "epoch : 320/1500 loss : 5.191434860229492\n",
      "epoch : 330/1500 loss : 5.14874267578125\n",
      "epoch : 340/1500 loss : 5.227904796600342\n",
      "epoch : 350/1500 loss : 5.134952545166016\n",
      "epoch : 360/1500 loss : 5.122198104858398\n",
      "epoch : 370/1500 loss : 5.153594493865967\n",
      "epoch : 380/1500 loss : 5.098422527313232\n",
      "epoch : 390/1500 loss : 5.106196403503418\n",
      "epoch : 400/1500 loss : 5.039470195770264\n",
      "epoch : 410/1500 loss : 5.046259880065918\n",
      "epoch : 420/1500 loss : 5.0908050537109375\n",
      "epoch : 430/1500 loss : 5.04546594619751\n",
      "epoch : 440/1500 loss : 5.045613765716553\n",
      "epoch : 450/1500 loss : 5.0168681144714355\n",
      "epoch : 460/1500 loss : 5.0449957847595215\n",
      "epoch : 470/1500 loss : 4.989345073699951\n",
      "epoch : 480/1500 loss : 4.952831745147705\n",
      "epoch : 490/1500 loss : 4.98655891418457\n",
      "epoch : 500/1500 loss : 4.946441650390625\n",
      "epoch : 510/1500 loss : 4.924281597137451\n",
      "epoch : 520/1500 loss : 4.944742679595947\n",
      "epoch : 530/1500 loss : 4.971148490905762\n",
      "epoch : 540/1500 loss : 4.931997299194336\n",
      "epoch : 550/1500 loss : 4.925168991088867\n",
      "epoch : 560/1500 loss : 4.854252338409424\n",
      "epoch : 570/1500 loss : 4.8921380043029785\n",
      "epoch : 580/1500 loss : 4.8609514236450195\n",
      "epoch : 590/1500 loss : 4.850993633270264\n",
      "epoch : 600/1500 loss : 4.864325523376465\n",
      "epoch : 610/1500 loss : 4.831419944763184\n",
      "epoch : 620/1500 loss : 4.814240455627441\n",
      "epoch : 630/1500 loss : 4.9000372886657715\n",
      "epoch : 640/1500 loss : 4.865474700927734\n",
      "epoch : 650/1500 loss : 4.819144248962402\n",
      "epoch : 660/1500 loss : 4.765291690826416\n",
      "epoch : 670/1500 loss : 4.7587432861328125\n",
      "epoch : 680/1500 loss : 4.797162055969238\n",
      "epoch : 690/1500 loss : 4.739659786224365\n",
      "epoch : 700/1500 loss : 4.749955654144287\n",
      "epoch : 710/1500 loss : 4.735357761383057\n",
      "epoch : 720/1500 loss : 4.766787528991699\n",
      "epoch : 730/1500 loss : 4.720673561096191\n",
      "epoch : 740/1500 loss : 4.7691826820373535\n",
      "epoch : 750/1500 loss : 4.677096366882324\n",
      "epoch : 760/1500 loss : 4.687222480773926\n",
      "epoch : 770/1500 loss : 4.693916320800781\n",
      "epoch : 780/1500 loss : 4.643068790435791\n",
      "epoch : 790/1500 loss : 4.692124366760254\n",
      "epoch : 800/1500 loss : 4.634111404418945\n",
      "epoch : 810/1500 loss : 4.603403568267822\n",
      "epoch : 820/1500 loss : 4.641208171844482\n",
      "epoch : 830/1500 loss : 4.635102272033691\n",
      "epoch : 840/1500 loss : 4.647418975830078\n",
      "epoch : 850/1500 loss : 4.619384765625\n",
      "epoch : 860/1500 loss : 4.5971455574035645\n",
      "epoch : 870/1500 loss : 4.6222662925720215\n",
      "epoch : 880/1500 loss : 4.608823776245117\n",
      "epoch : 890/1500 loss : 4.591946125030518\n",
      "epoch : 900/1500 loss : 4.552856922149658\n",
      "epoch : 910/1500 loss : 4.59360408782959\n",
      "epoch : 920/1500 loss : 4.552279949188232\n",
      "epoch : 930/1500 loss : 4.542263031005859\n",
      "epoch : 940/1500 loss : 4.513181686401367\n",
      "epoch : 950/1500 loss : 4.53921365737915\n",
      "epoch : 960/1500 loss : 4.5183868408203125\n",
      "epoch : 970/1500 loss : 4.529992580413818\n",
      "epoch : 980/1500 loss : 4.532044410705566\n",
      "epoch : 990/1500 loss : 4.520446300506592\n",
      "epoch : 1000/1500 loss : 4.494234561920166\n",
      "epoch : 1010/1500 loss : 4.477707386016846\n",
      "epoch : 1020/1500 loss : 4.513232707977295\n",
      "epoch : 1030/1500 loss : 4.486828327178955\n",
      "epoch : 1040/1500 loss : 4.430782794952393\n",
      "epoch : 1050/1500 loss : 4.44589900970459\n",
      "epoch : 1060/1500 loss : 4.441509246826172\n",
      "epoch : 1070/1500 loss : 4.465273380279541\n",
      "epoch : 1080/1500 loss : 4.440663814544678\n",
      "epoch : 1090/1500 loss : 4.420609474182129\n",
      "epoch : 1100/1500 loss : 4.460920810699463\n",
      "epoch : 1110/1500 loss : 4.408267974853516\n",
      "epoch : 1120/1500 loss : 4.438451766967773\n",
      "epoch : 1130/1500 loss : 4.38971471786499\n",
      "epoch : 1140/1500 loss : 4.4122633934021\n",
      "epoch : 1150/1500 loss : 4.388594150543213\n",
      "epoch : 1160/1500 loss : 4.422520637512207\n",
      "epoch : 1170/1500 loss : 4.40172004699707\n",
      "epoch : 1180/1500 loss : 4.381298542022705\n",
      "epoch : 1190/1500 loss : 4.378591060638428\n",
      "epoch : 1200/1500 loss : 4.3397440910339355\n",
      "epoch : 1210/1500 loss : 4.388391017913818\n",
      "epoch : 1220/1500 loss : 4.350890159606934\n",
      "epoch : 1230/1500 loss : 4.366057395935059\n",
      "epoch : 1240/1500 loss : 4.354755401611328\n",
      "epoch : 1250/1500 loss : 4.393332004547119\n",
      "epoch : 1260/1500 loss : 4.350401401519775\n",
      "epoch : 1270/1500 loss : 4.353862762451172\n",
      "epoch : 1280/1500 loss : 4.363609313964844\n",
      "epoch : 1290/1500 loss : 4.36789608001709\n",
      "epoch : 1300/1500 loss : 4.329465389251709\n",
      "epoch : 1310/1500 loss : 4.352719783782959\n",
      "epoch : 1320/1500 loss : 4.322168350219727\n",
      "epoch : 1330/1500 loss : 4.329329013824463\n",
      "epoch : 1340/1500 loss : 4.327058792114258\n",
      "epoch : 1350/1500 loss : 4.308825492858887\n",
      "epoch : 1360/1500 loss : 4.328161716461182\n",
      "epoch : 1370/1500 loss : 4.282364368438721\n",
      "epoch : 1380/1500 loss : 4.312071323394775\n",
      "epoch : 1390/1500 loss : 4.289083957672119\n",
      "epoch : 1400/1500 loss : 4.309729099273682\n",
      "epoch : 1410/1500 loss : 4.306889057159424\n",
      "epoch : 1420/1500 loss : 4.334329605102539\n",
      "epoch : 1430/1500 loss : 4.3448052406311035\n",
      "epoch : 1440/1500 loss : 4.297846794128418\n",
      "epoch : 1450/1500 loss : 4.304085731506348\n",
      "epoch : 1460/1500 loss : 4.287778377532959\n",
      "epoch : 1470/1500 loss : 4.290099620819092\n",
      "epoch : 1480/1500 loss : 4.28385066986084\n",
      "epoch : 1490/1500 loss : 4.3233466148376465\n",
      "epoch : 1500/1500 loss : 4.284784317016602\n"
     ]
    }
   ],
   "source": [
    "losses = []\n",
    "\n",
    "for epoch in range(num_epochs):\n",
    "    y_pred = model.forward(cat_train,cont_train)\n",
    "    loss = torch.sqrt(criterion(y_pred,y_train))#RMSE\n",
    "    losses.append(loss.item())\n",
    "    if (epoch+1)%10 == 0:\n",
    "        print(f\"epoch : {epoch+1}/{num_epochs} loss : {loss.item()}\")\n",
    "    optimizer.zero_grad()\n",
    "    loss.backward()\n",
    "    optimizer.step()"
   ]
  },
  {
   "cell_type": "code",
   "execution_count": 114,
   "id": "c19262a0",
   "metadata": {},
   "outputs": [
    {
     "data": {
      "text/plain": [
       "[<matplotlib.lines.Line2D at 0x34b5f6690>]"
      ]
     },
     "execution_count": 114,
     "metadata": {},
     "output_type": "execute_result"
    },
    {
     "data": {
      "image/png": "[encoded data removed]",
      "text/plain": [
       "<Figure size 640x480 with 1 Axes>"
      ]
     },
     "metadata": {},
     "output_type": "display_data"
    }
   ],
   "source": [
    "plt.plot(range(num_epochs),losses)"
   ]
  },
  {
   "cell_type": "code",
   "execution_count": 115,
   "id": "fc1ecb94",
   "metadata": {},
   "outputs": [],
   "source": [
    "with torch.no_grad():\n",
    "    y_eval = model.forward(cat_test,cont_test)\n",
    "    loss_test = torch.sqrt(criterion(y_eval,y_test))"
   ]
  },
  {
   "cell_type": "code",
   "execution_count": 116,
   "id": "7c72ce0f",
   "metadata": {},
   "outputs": [
    {
     "name": "stdout",
     "output_type": "stream",
     "text": [
      "loss on test set : 4.5355305671691895\n"
     ]
    }
   ],
   "source": [
    "print(f\"loss on test set : {loss_test}\")"
   ]
  },
  {
   "cell_type": "code",
   "execution_count": null,
   "id": "f114e7e7",
   "metadata": {},
   "outputs": [],
   "source": []
  }
 ],
 "metadata": {
  "kernelspec": {
   "display_name": "Python 3 (ipykernel)",
   "language": "python",
   "name": "python3"
  },
  "language_info": {
   "codemirror_mode": {
    "name": "ipython",
    "version": 3
   },
   "file_extension": ".py",
   "mimetype": "text/x-python",
   "name": "python",
   "nbconvert_exporter": "python",
   "pygments_lexer": "ipython3",
   "version": "3.11.5"
  }
 },
 "nbformat": 4,
 "nbformat_minor": 5
}

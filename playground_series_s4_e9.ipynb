{
 "cells": [
  {
   "cell_type": "code",
   "execution_count": 33,
   "id": "182653e0",
   "metadata": {},
   "outputs": [],
   "source": [
    "import numpy as np\n",
    "import pandas as pd\n",
    "import matplotlib.pyplot as plt\n",
    "import seaborn as sns\n",
    "import warnings\n",
    "warnings.filterwarnings('ignore')\n",
    "%matplotlib inline"
   ]
  },
  {
   "cell_type": "code",
   "execution_count": 35,
   "id": "a40bf99e",
   "metadata": {},
   "outputs": [],
   "source": [
    "import torch\n",
    "import torch.nn as nn\n",
    "import torch.nn.functional as F\n",
    "import torch.optim as optim"
   ]
  },
  {
   "cell_type": "code",
   "execution_count": 36,
   "id": "19e190dd",
   "metadata": {},
   "outputs": [],
   "source": [
    "device = torch.device('mps')"
   ]
  },
  {
   "cell_type": "code",
   "execution_count": 2,
   "id": "56a3739a",
   "metadata": {},
   "outputs": [],
   "source": [
    "train_df = pd.read_csv('train.csv')\n",
    "test_df = pd.read_csv('test.csv')"
   ]
  },
  {
   "cell_type": "code",
   "execution_count": 3,
   "id": "b09bf43d",
   "metadata": {},
   "outputs": [
    {
     "data": {
      "text/html": [
       "<div>\n",
       "<style scoped>\n",
       "    .dataframe tbody tr th:only-of-type {\n",
       "        vertical-align: middle;\n",
       "    }\n",
       "\n",
       "    .dataframe tbody tr th {\n",
       "        vertical-align: top;\n",
       "    }\n",
       "\n",
       "    .dataframe thead th {\n",
       "        text-align: right;\n",
       "    }\n",
       "</style>\n",
       "<table border=\"1\" class=\"dataframe\">\n",
       "  <thead>\n",
       "    <tr style=\"text-align: right;\">\n",
       "      <th></th>\n",
       "      <th>id</th>\n",
       "      <th>brand</th>\n",
       "      <th>model</th>\n",
       "      <th>model_year</th>\n",
       "      <th>milage</th>\n",
       "      <th>fuel_type</th>\n",
       "      <th>engine</th>\n",
       "      <th>transmission</th>\n",
       "      <th>ext_col</th>\n",
       "      <th>int_col</th>\n",
       "      <th>accident</th>\n",
       "      <th>clean_title</th>\n",
       "      <th>price</th>\n",
       "    </tr>\n",
       "  </thead>\n",
       "  <tbody>\n",
       "    <tr>\n",
       "      <th>0</th>\n",
       "      <td>0</td>\n",
       "      <td>MINI</td>\n",
       "      <td>Cooper S Base</td>\n",
       "      <td>2007</td>\n",
       "      <td>213000</td>\n",
       "      <td>Gasoline</td>\n",
       "      <td>172.0HP 1.6L 4 Cylinder Engine Gasoline Fuel</td>\n",
       "      <td>A/T</td>\n",
       "      <td>Yellow</td>\n",
       "      <td>Gray</td>\n",
       "      <td>None reported</td>\n",
       "      <td>Yes</td>\n",
       "      <td>4200</td>\n",
       "    </tr>\n",
       "    <tr>\n",
       "      <th>1</th>\n",
       "      <td>1</td>\n",
       "      <td>Lincoln</td>\n",
       "      <td>LS V8</td>\n",
       "      <td>2002</td>\n",
       "      <td>143250</td>\n",
       "      <td>Gasoline</td>\n",
       "      <td>252.0HP 3.9L 8 Cylinder Engine Gasoline Fuel</td>\n",
       "      <td>A/T</td>\n",
       "      <td>Silver</td>\n",
       "      <td>Beige</td>\n",
       "      <td>At least 1 accident or damage reported</td>\n",
       "      <td>Yes</td>\n",
       "      <td>4999</td>\n",
       "    </tr>\n",
       "    <tr>\n",
       "      <th>2</th>\n",
       "      <td>2</td>\n",
       "      <td>Chevrolet</td>\n",
       "      <td>Silverado 2500 LT</td>\n",
       "      <td>2002</td>\n",
       "      <td>136731</td>\n",
       "      <td>E85 Flex Fuel</td>\n",
       "      <td>320.0HP 5.3L 8 Cylinder Engine Flex Fuel Capab...</td>\n",
       "      <td>A/T</td>\n",
       "      <td>Blue</td>\n",
       "      <td>Gray</td>\n",
       "      <td>None reported</td>\n",
       "      <td>Yes</td>\n",
       "      <td>13900</td>\n",
       "    </tr>\n",
       "    <tr>\n",
       "      <th>3</th>\n",
       "      <td>3</td>\n",
       "      <td>Genesis</td>\n",
       "      <td>G90 5.0 Ultimate</td>\n",
       "      <td>2017</td>\n",
       "      <td>19500</td>\n",
       "      <td>Gasoline</td>\n",
       "      <td>420.0HP 5.0L 8 Cylinder Engine Gasoline Fuel</td>\n",
       "      <td>Transmission w/Dual Shift Mode</td>\n",
       "      <td>Black</td>\n",
       "      <td>Black</td>\n",
       "      <td>None reported</td>\n",
       "      <td>Yes</td>\n",
       "      <td>45000</td>\n",
       "    </tr>\n",
       "    <tr>\n",
       "      <th>4</th>\n",
       "      <td>4</td>\n",
       "      <td>Mercedes-Benz</td>\n",
       "      <td>Metris Base</td>\n",
       "      <td>2021</td>\n",
       "      <td>7388</td>\n",
       "      <td>Gasoline</td>\n",
       "      <td>208.0HP 2.0L 4 Cylinder Engine Gasoline Fuel</td>\n",
       "      <td>7-Speed A/T</td>\n",
       "      <td>Black</td>\n",
       "      <td>Beige</td>\n",
       "      <td>None reported</td>\n",
       "      <td>Yes</td>\n",
       "      <td>97500</td>\n",
       "    </tr>\n",
       "  </tbody>\n",
       "</table>\n",
       "</div>"
      ],
      "text/plain": [
       "   id          brand              model  model_year  milage      fuel_type  \\\n",
       "0   0           MINI      Cooper S Base        2007  213000       Gasoline   \n",
       "1   1        Lincoln              LS V8        2002  143250       Gasoline   \n",
       "2   2      Chevrolet  Silverado 2500 LT        2002  136731  E85 Flex Fuel   \n",
       "3   3        Genesis   G90 5.0 Ultimate        2017   19500       Gasoline   \n",
       "4   4  Mercedes-Benz        Metris Base        2021    7388       Gasoline   \n",
       "\n",
       "                                              engine  \\\n",
       "0       172.0HP 1.6L 4 Cylinder Engine Gasoline Fuel   \n",
       "1       252.0HP 3.9L 8 Cylinder Engine Gasoline Fuel   \n",
       "2  320.0HP 5.3L 8 Cylinder Engine Flex Fuel Capab...   \n",
       "3       420.0HP 5.0L 8 Cylinder Engine Gasoline Fuel   \n",
       "4       208.0HP 2.0L 4 Cylinder Engine Gasoline Fuel   \n",
       "\n",
       "                     transmission ext_col int_col  \\\n",
       "0                             A/T  Yellow    Gray   \n",
       "1                             A/T  Silver   Beige   \n",
       "2                             A/T    Blue    Gray   \n",
       "3  Transmission w/Dual Shift Mode   Black   Black   \n",
       "4                     7-Speed A/T   Black   Beige   \n",
       "\n",
       "                                 accident clean_title  price  \n",
       "0                           None reported         Yes   4200  \n",
       "1  At least 1 accident or damage reported         Yes   4999  \n",
       "2                           None reported         Yes  13900  \n",
       "3                           None reported         Yes  45000  \n",
       "4                           None reported         Yes  97500  "
      ]
     },
     "execution_count": 3,
     "metadata": {},
     "output_type": "execute_result"
    }
   ],
   "source": [
    "train_df.head()"
   ]
  },
  {
   "cell_type": "code",
   "execution_count": 4,
   "id": "34d15525",
   "metadata": {
    "scrolled": true
   },
   "outputs": [
    {
     "name": "stdout",
     "output_type": "stream",
     "text": [
      "<class 'pandas.core.frame.DataFrame'>\n",
      "RangeIndex: 188533 entries, 0 to 188532\n",
      "Data columns (total 13 columns):\n",
      " #   Column        Non-Null Count   Dtype \n",
      "---  ------        --------------   ----- \n",
      " 0   id            188533 non-null  int64 \n",
      " 1   brand         188533 non-null  object\n",
      " 2   model         188533 non-null  object\n",
      " 3   model_year    188533 non-null  int64 \n",
      " 4   milage        188533 non-null  int64 \n",
      " 5   fuel_type     183450 non-null  object\n",
      " 6   engine        188533 non-null  object\n",
      " 7   transmission  188533 non-null  object\n",
      " 8   ext_col       188533 non-null  object\n",
      " 9   int_col       188533 non-null  object\n",
      " 10  accident      186081 non-null  object\n",
      " 11  clean_title   167114 non-null  object\n",
      " 12  price         188533 non-null  int64 \n",
      "dtypes: int64(4), object(9)\n",
      "memory usage: 18.7+ MB\n"
     ]
    }
   ],
   "source": [
    "train_df.info()"
   ]
  },
  {
   "cell_type": "code",
   "execution_count": 5,
   "id": "4436f5b9",
   "metadata": {},
   "outputs": [
    {
     "data": {
      "text/html": [
       "<div>\n",
       "<style scoped>\n",
       "    .dataframe tbody tr th:only-of-type {\n",
       "        vertical-align: middle;\n",
       "    }\n",
       "\n",
       "    .dataframe tbody tr th {\n",
       "        vertical-align: top;\n",
       "    }\n",
       "\n",
       "    .dataframe thead th {\n",
       "        text-align: right;\n",
       "    }\n",
       "</style>\n",
       "<table border=\"1\" class=\"dataframe\">\n",
       "  <thead>\n",
       "    <tr style=\"text-align: right;\">\n",
       "      <th></th>\n",
       "      <th>count</th>\n",
       "      <th>mean</th>\n",
       "      <th>std</th>\n",
       "      <th>min</th>\n",
       "      <th>25%</th>\n",
       "      <th>50%</th>\n",
       "      <th>75%</th>\n",
       "      <th>max</th>\n",
       "    </tr>\n",
       "  </thead>\n",
       "  <tbody>\n",
       "    <tr>\n",
       "      <th>id</th>\n",
       "      <td>188533.0</td>\n",
       "      <td>94266.000000</td>\n",
       "      <td>54424.933488</td>\n",
       "      <td>0.0</td>\n",
       "      <td>47133.0</td>\n",
       "      <td>94266.0</td>\n",
       "      <td>141399.0</td>\n",
       "      <td>188532.0</td>\n",
       "    </tr>\n",
       "    <tr>\n",
       "      <th>model_year</th>\n",
       "      <td>188533.0</td>\n",
       "      <td>2015.829998</td>\n",
       "      <td>5.660967</td>\n",
       "      <td>1974.0</td>\n",
       "      <td>2013.0</td>\n",
       "      <td>2017.0</td>\n",
       "      <td>2020.0</td>\n",
       "      <td>2024.0</td>\n",
       "    </tr>\n",
       "    <tr>\n",
       "      <th>milage</th>\n",
       "      <td>188533.0</td>\n",
       "      <td>65705.295174</td>\n",
       "      <td>49798.158076</td>\n",
       "      <td>100.0</td>\n",
       "      <td>24115.0</td>\n",
       "      <td>57785.0</td>\n",
       "      <td>95400.0</td>\n",
       "      <td>405000.0</td>\n",
       "    </tr>\n",
       "    <tr>\n",
       "      <th>price</th>\n",
       "      <td>188533.0</td>\n",
       "      <td>43878.016178</td>\n",
       "      <td>78819.522254</td>\n",
       "      <td>2000.0</td>\n",
       "      <td>17000.0</td>\n",
       "      <td>30825.0</td>\n",
       "      <td>49900.0</td>\n",
       "      <td>2954083.0</td>\n",
       "    </tr>\n",
       "  </tbody>\n",
       "</table>\n",
       "</div>"
      ],
      "text/plain": [
       "               count          mean           std     min      25%      50%  \\\n",
       "id          188533.0  94266.000000  54424.933488     0.0  47133.0  94266.0   \n",
       "model_year  188533.0   2015.829998      5.660967  1974.0   2013.0   2017.0   \n",
       "milage      188533.0  65705.295174  49798.158076   100.0  24115.0  57785.0   \n",
       "price       188533.0  43878.016178  78819.522254  2000.0  17000.0  30825.0   \n",
       "\n",
       "                 75%        max  \n",
       "id          141399.0   188532.0  \n",
       "model_year    2020.0     2024.0  \n",
       "milage       95400.0   405000.0  \n",
       "price        49900.0  2954083.0  "
      ]
     },
     "execution_count": 5,
     "metadata": {},
     "output_type": "execute_result"
    }
   ],
   "source": [
    "train_df.select_dtypes(include='number').describe().T"
   ]
  },
  {
   "cell_type": "code",
   "execution_count": 6,
   "id": "429c2b41",
   "metadata": {},
   "outputs": [
    {
     "data": {
      "text/plain": [
       "clean_title     11.360876\n",
       "fuel_type        2.696080\n",
       "accident         1.300568\n",
       "id               0.000000\n",
       "brand            0.000000\n",
       "model            0.000000\n",
       "model_year       0.000000\n",
       "milage           0.000000\n",
       "engine           0.000000\n",
       "transmission     0.000000\n",
       "ext_col          0.000000\n",
       "int_col          0.000000\n",
       "price            0.000000\n",
       "dtype: float64"
      ]
     },
     "execution_count": 6,
     "metadata": {},
     "output_type": "execute_result"
    }
   ],
   "source": [
    "#missing\n",
    "(train_df.isnull().sum().sort_values(ascending=False)*100)/len(train_df)"
   ]
  },
  {
   "cell_type": "code",
   "execution_count": 7,
   "id": "cbde31da",
   "metadata": {},
   "outputs": [
    {
     "data": {
      "text/plain": [
       "clean_title     7.552524\n",
       "fuel_type       1.794381\n",
       "accident        0.865631\n",
       "id              0.000000\n",
       "brand           0.000000\n",
       "model           0.000000\n",
       "model_year      0.000000\n",
       "milage          0.000000\n",
       "engine          0.000000\n",
       "transmission    0.000000\n",
       "ext_col         0.000000\n",
       "int_col         0.000000\n",
       "dtype: float64"
      ]
     },
     "execution_count": 7,
     "metadata": {},
     "output_type": "execute_result"
    }
   ],
   "source": [
    "(test_df.isnull().sum().sort_values(ascending=False)*100)/len(train_df)"
   ]
  },
  {
   "cell_type": "code",
   "execution_count": 8,
   "id": "3c32be5c",
   "metadata": {},
   "outputs": [],
   "source": [
    "train_df.drop_duplicates(inplace=True)"
   ]
  },
  {
   "cell_type": "code",
   "execution_count": 9,
   "id": "11fc4c57",
   "metadata": {},
   "outputs": [],
   "source": [
    "test_df.drop_duplicates(inplace=True)"
   ]
  },
  {
   "cell_type": "code",
   "execution_count": 10,
   "id": "e8f95ea6",
   "metadata": {},
   "outputs": [],
   "source": [
    "from ydata_profiling import ProfileReport\n",
    "report = ProfileReport(train_df)\n",
    "#report"
   ]
  },
  {
   "cell_type": "code",
   "execution_count": 11,
   "id": "0dc540fa",
   "metadata": {},
   "outputs": [],
   "source": [
    "train_df.drop('clean_title',axis=1,inplace=True)\n",
    "test_df.drop('clean_title',axis=1,inplace=True)"
   ]
  },
  {
   "cell_type": "code",
   "execution_count": 12,
   "id": "aff89aa3",
   "metadata": {},
   "outputs": [],
   "source": [
    "train_df['fuel_type'].fillna('Gasoline',inplace=True)\n",
    "test_df['fuel_type'].fillna('Gasoline',inplace=True)"
   ]
  },
  {
   "cell_type": "code",
   "execution_count": null,
   "id": "9d158b4f",
   "metadata": {},
   "outputs": [],
   "source": []
  },
  {
   "cell_type": "code",
   "execution_count": 13,
   "id": "5a27bae4",
   "metadata": {},
   "outputs": [
    {
     "data": {
      "text/html": [
       "<div>\n",
       "<style scoped>\n",
       "    .dataframe tbody tr th:only-of-type {\n",
       "        vertical-align: middle;\n",
       "    }\n",
       "\n",
       "    .dataframe tbody tr th {\n",
       "        vertical-align: top;\n",
       "    }\n",
       "\n",
       "    .dataframe thead th {\n",
       "        text-align: right;\n",
       "    }\n",
       "</style>\n",
       "<table border=\"1\" class=\"dataframe\">\n",
       "  <thead>\n",
       "    <tr style=\"text-align: right;\">\n",
       "      <th></th>\n",
       "      <th>count</th>\n",
       "      <th>mean</th>\n",
       "      <th>std</th>\n",
       "      <th>min</th>\n",
       "      <th>25%</th>\n",
       "      <th>50%</th>\n",
       "      <th>75%</th>\n",
       "      <th>max</th>\n",
       "    </tr>\n",
       "    <tr>\n",
       "      <th>accident</th>\n",
       "      <th></th>\n",
       "      <th></th>\n",
       "      <th></th>\n",
       "      <th></th>\n",
       "      <th></th>\n",
       "      <th></th>\n",
       "      <th></th>\n",
       "      <th></th>\n",
       "    </tr>\n",
       "  </thead>\n",
       "  <tbody>\n",
       "    <tr>\n",
       "      <th>At least 1 accident or damage reported</th>\n",
       "      <td>41567.0</td>\n",
       "      <td>25334.071475</td>\n",
       "      <td>47378.623057</td>\n",
       "      <td>2000.0</td>\n",
       "      <td>11000.0</td>\n",
       "      <td>18000.0</td>\n",
       "      <td>30000.0</td>\n",
       "      <td>2954083.0</td>\n",
       "    </tr>\n",
       "    <tr>\n",
       "      <th>None reported</th>\n",
       "      <td>144514.0</td>\n",
       "      <td>49024.804144</td>\n",
       "      <td>84593.013790</td>\n",
       "      <td>2000.0</td>\n",
       "      <td>20000.0</td>\n",
       "      <td>35000.0</td>\n",
       "      <td>54500.0</td>\n",
       "      <td>2954083.0</td>\n",
       "    </tr>\n",
       "  </tbody>\n",
       "</table>\n",
       "</div>"
      ],
      "text/plain": [
       "                                           count          mean           std  \\\n",
       "accident                                                                       \n",
       "At least 1 accident or damage reported   41567.0  25334.071475  47378.623057   \n",
       "None reported                           144514.0  49024.804144  84593.013790   \n",
       "\n",
       "                                           min      25%      50%      75%  \\\n",
       "accident                                                                    \n",
       "At least 1 accident or damage reported  2000.0  11000.0  18000.0  30000.0   \n",
       "None reported                           2000.0  20000.0  35000.0  54500.0   \n",
       "\n",
       "                                              max  \n",
       "accident                                           \n",
       "At least 1 accident or damage reported  2954083.0  \n",
       "None reported                           2954083.0  "
      ]
     },
     "execution_count": 13,
     "metadata": {},
     "output_type": "execute_result"
    }
   ],
   "source": [
    "train_df.groupby('accident')['price'].describe()"
   ]
  },
  {
   "cell_type": "code",
   "execution_count": 14,
   "id": "7a9487ca",
   "metadata": {},
   "outputs": [],
   "source": [
    "def fill_acc(cols):\n",
    "    acc = cols[0]\n",
    "    price = cols[1]\n",
    "    if pd.isna(acc) == True:\n",
    "        if price > 25334.071475:\n",
    "            return \"None reported\"\n",
    "        else:\n",
    "            return \"At least 1 accident or damage reported\"\n",
    "    else:\n",
    "        return acc"
   ]
  },
  {
   "cell_type": "code",
   "execution_count": 15,
   "id": "afdac10d",
   "metadata": {},
   "outputs": [],
   "source": [
    "train_df['accident'] = train_df[['accident','price']].apply(fill_acc,axis=1)"
   ]
  },
  {
   "cell_type": "code",
   "execution_count": 16,
   "id": "64ff6ab7",
   "metadata": {},
   "outputs": [],
   "source": [
    "test_df['accident'].fillna(\"None reported\",inplace=True)"
   ]
  },
  {
   "cell_type": "code",
   "execution_count": 17,
   "id": "66b22e48",
   "metadata": {},
   "outputs": [
    {
     "data": {
      "text/plain": [
       "id              0.0\n",
       "brand           0.0\n",
       "model           0.0\n",
       "model_year      0.0\n",
       "milage          0.0\n",
       "fuel_type       0.0\n",
       "engine          0.0\n",
       "transmission    0.0\n",
       "ext_col         0.0\n",
       "int_col         0.0\n",
       "accident        0.0\n",
       "price           0.0\n",
       "dtype: float64"
      ]
     },
     "execution_count": 17,
     "metadata": {},
     "output_type": "execute_result"
    }
   ],
   "source": [
    "(train_df.isnull().sum().sort_values(ascending=False)*100)/len(train_df)"
   ]
  },
  {
   "cell_type": "code",
   "execution_count": 18,
   "id": "924124ec",
   "metadata": {},
   "outputs": [
    {
     "data": {
      "text/plain": [
       "id              0.0\n",
       "brand           0.0\n",
       "model           0.0\n",
       "model_year      0.0\n",
       "milage          0.0\n",
       "fuel_type       0.0\n",
       "engine          0.0\n",
       "transmission    0.0\n",
       "ext_col         0.0\n",
       "int_col         0.0\n",
       "accident        0.0\n",
       "dtype: float64"
      ]
     },
     "execution_count": 18,
     "metadata": {},
     "output_type": "execute_result"
    }
   ],
   "source": [
    "(test_df.isnull().sum().sort_values(ascending=False)*100)/len(train_df)"
   ]
  },
  {
   "cell_type": "code",
   "execution_count": 19,
   "id": "181a4a90",
   "metadata": {},
   "outputs": [
    {
     "name": "stdout",
     "output_type": "stream",
     "text": [
      "<class 'pandas.core.frame.DataFrame'>\n",
      "RangeIndex: 188533 entries, 0 to 188532\n",
      "Data columns (total 12 columns):\n",
      " #   Column        Non-Null Count   Dtype \n",
      "---  ------        --------------   ----- \n",
      " 0   id            188533 non-null  int64 \n",
      " 1   brand         188533 non-null  object\n",
      " 2   model         188533 non-null  object\n",
      " 3   model_year    188533 non-null  int64 \n",
      " 4   milage        188533 non-null  int64 \n",
      " 5   fuel_type     188533 non-null  object\n",
      " 6   engine        188533 non-null  object\n",
      " 7   transmission  188533 non-null  object\n",
      " 8   ext_col       188533 non-null  object\n",
      " 9   int_col       188533 non-null  object\n",
      " 10  accident      188533 non-null  object\n",
      " 11  price         188533 non-null  int64 \n",
      "dtypes: int64(4), object(8)\n",
      "memory usage: 17.3+ MB\n"
     ]
    }
   ],
   "source": [
    "train_df.info()"
   ]
  },
  {
   "cell_type": "code",
   "execution_count": 22,
   "id": "67e984be",
   "metadata": {},
   "outputs": [
    {
     "data": {
      "text/plain": [
       "<seaborn.axisgrid.FacetGrid at 0x166649310>"
      ]
     },
     "execution_count": 22,
     "metadata": {},
     "output_type": "execute_result"
    },
    {
     "data": {
      "text/plain": [
       "<Figure size 400x500 with 0 Axes>"
      ]
     },
     "metadata": {},
     "output_type": "display_data"
    },
    {
     "data": {
      "image/png": "[encoded data removed]",
      "text/plain": [
       "<Figure size 500x500 with 1 Axes>"
      ]
     },
     "metadata": {},
     "output_type": "display_data"
    }
   ],
   "source": [
    "sns.set_style('white')\n",
    "plt.figure(figsize=(4,5))\n",
    "sns.displot(x='price',bins=70,data=train_df,kde=True)"
   ]
  },
  {
   "cell_type": "code",
   "execution_count": 29,
   "id": "cb32599f",
   "metadata": {},
   "outputs": [],
   "source": [
    "cat_cols = ['brand', 'model','model_year','fuel_type','engine','transmission', 'ext_col', 'int_col', 'accident']\n",
    "cont_cols = ['milage']\n",
    "y_col = ['price']"
   ]
  },
  {
   "cell_type": "code",
   "execution_count": 47,
   "id": "0b9faed8",
   "metadata": {},
   "outputs": [],
   "source": [
    "for col in cat_cols:\n",
    "    train_df[col] = train_df[col].cat.add_categories('unknown')\n",
    "    test_df[col] = test_df[col].cat.set_categories(train_df[col].cat.categories)"
   ]
  },
  {
   "cell_type": "code",
   "execution_count": 48,
   "id": "a4ae9459",
   "metadata": {},
   "outputs": [],
   "source": [
    "cat_train = np.stack([train_df[col].cat.codes for col in cat_cols],axis=1)\n",
    "cat_test = np.stack([test_df[col].cat.codes for col in cat_cols],axis=1)"
   ]
  },
  {
   "cell_type": "code",
   "execution_count": 49,
   "id": "56e88c1b",
   "metadata": {},
   "outputs": [],
   "source": [
    "cat_train = torch.LongTensor(cat_train).to(device)\n",
    "cat_test = torch.LongTensor(cat_test).to(device)"
   ]
  },
  {
   "cell_type": "code",
   "execution_count": 50,
   "id": "7559e685",
   "metadata": {},
   "outputs": [],
   "source": [
    "cat_szs = [len(train_df[col].cat.categories) for col in cat_cols]"
   ]
  },
  {
   "cell_type": "code",
   "execution_count": 51,
   "id": "2b4daeba",
   "metadata": {},
   "outputs": [],
   "source": [
    "cat_szs_2 = [len(test_df[col].cat.categories) for col in cat_cols]"
   ]
  },
  {
   "cell_type": "code",
   "execution_count": 67,
   "id": "42158599",
   "metadata": {},
   "outputs": [
    {
     "data": {
      "text/plain": [
       "torch.Size([125690, 9])"
      ]
     },
     "execution_count": 67,
     "metadata": {},
     "output_type": "execute_result"
    }
   ],
   "source": [
    "cat_test.shape"
   ]
  },
  {
   "cell_type": "code",
   "execution_count": 56,
   "id": "0de4ee51",
   "metadata": {},
   "outputs": [
    {
     "data": {
      "text/plain": [
       "True"
      ]
     },
     "execution_count": 56,
     "metadata": {},
     "output_type": "execute_result"
    }
   ],
   "source": [
    "cat_szs_2 == cat_szs"
   ]
  },
  {
   "cell_type": "code",
   "execution_count": 54,
   "id": "bebd76db",
   "metadata": {},
   "outputs": [
    {
     "data": {
      "text/plain": [
       "tensor([[  31,  495,   16,  ...,  312,   71,    1],\n",
       "        [  28,  930,   11,  ...,  263,   10,    0],\n",
       "        [   9, 1575,   11,  ...,   38,   71,    1],\n",
       "        ...,\n",
       "        [  36,  223,   30,  ...,  304,   14,    1],\n",
       "        [   3, 1471,   31,  ...,   82,   14,    1],\n",
       "        [  43, 1028,   25,  ...,  304,   14,    1]], device='mps:0')"
      ]
     },
     "execution_count": 54,
     "metadata": {},
     "output_type": "execute_result"
    }
   ],
   "source": [
    "cat_train"
   ]
  },
  {
   "cell_type": "code",
   "execution_count": 55,
   "id": "ed3dbe79",
   "metadata": {},
   "outputs": [
    {
     "data": {
      "text/plain": [
       "tensor([[  26, 1390,   24,  ...,  304,   10,    1],\n",
       "        [  26, 1377,   29,  ...,  263,   14,    1],\n",
       "        [  14,  636,   31,  ...,  304,   57,    1],\n",
       "        ...,\n",
       "        [   3,  184,   21,  ...,   29,   14,    1],\n",
       "        [   3, 1246,   21,  ...,   29,   14,    1],\n",
       "        [   9, 1671,   27,  ...,  263,   14,    1]], device='mps:0')"
      ]
     },
     "execution_count": 55,
     "metadata": {},
     "output_type": "execute_result"
    }
   ],
   "source": [
    "cat_test"
   ]
  },
  {
   "cell_type": "code",
   "execution_count": 57,
   "id": "f53ce852",
   "metadata": {},
   "outputs": [],
   "source": [
    "emb_szs = [(size,min(50,(size+1)//2)) for size in cat_szs]"
   ]
  },
  {
   "cell_type": "code",
   "execution_count": 58,
   "id": "8ab93212",
   "metadata": {},
   "outputs": [
    {
     "data": {
      "text/plain": [
       "[(58, 29),\n",
       " (1898, 50),\n",
       " (35, 18),\n",
       " (8, 4),\n",
       " (1118, 50),\n",
       " (53, 27),\n",
       " (320, 50),\n",
       " (157, 50),\n",
       " (3, 2)]"
      ]
     },
     "execution_count": 58,
     "metadata": {},
     "output_type": "execute_result"
    }
   ],
   "source": [
    "emb_szs"
   ]
  },
  {
   "cell_type": "code",
   "execution_count": 59,
   "id": "97689bbb",
   "metadata": {},
   "outputs": [],
   "source": [
    "cont_train = np.stack([train_df[col].values for col in cont_cols],axis=1)\n",
    "cont_test = np.stack([test_df[col].values for col in cont_cols],axis=1)"
   ]
  },
  {
   "cell_type": "code",
   "execution_count": 61,
   "id": "cefe2f4c",
   "metadata": {},
   "outputs": [],
   "source": [
    "cont_train = torch.Tensor(cont_train).to(device)\n",
    "cont_test = torch.Tensor(cont_test).to(device)"
   ]
  },
  {
   "cell_type": "code",
   "execution_count": 64,
   "id": "293f59eb",
   "metadata": {},
   "outputs": [
    {
     "data": {
      "text/plain": [
       "torch.Size([188533, 1])"
      ]
     },
     "execution_count": 64,
     "metadata": {},
     "output_type": "execute_result"
    }
   ],
   "source": [
    "cont_train.shape"
   ]
  },
  {
   "cell_type": "code",
   "execution_count": 65,
   "id": "bccfdc1e",
   "metadata": {},
   "outputs": [
    {
     "data": {
      "text/plain": [
       "torch.Size([125690, 1])"
      ]
     },
     "execution_count": 65,
     "metadata": {},
     "output_type": "execute_result"
    }
   ],
   "source": [
    "cont_test.shape"
   ]
  },
  {
   "cell_type": "code",
   "execution_count": 71,
   "id": "272aa829",
   "metadata": {},
   "outputs": [],
   "source": [
    "y_train = torch.Tensor(train_df[y_col].values).to(device)"
   ]
  },
  {
   "cell_type": "code",
   "execution_count": 72,
   "id": "5a06ee79",
   "metadata": {},
   "outputs": [
    {
     "data": {
      "text/plain": [
       "tensor([[ 4200.],\n",
       "        [ 4999.],\n",
       "        [13900.],\n",
       "        ...,\n",
       "        [86900.],\n",
       "        [84900.],\n",
       "        [28995.]], device='mps:0')"
      ]
     },
     "execution_count": 72,
     "metadata": {},
     "output_type": "execute_result"
    }
   ],
   "source": [
    "y_train"
   ]
  },
  {
   "cell_type": "markdown",
   "id": "eae8354c",
   "metadata": {},
   "source": [
    "#### model"
   ]
  },
  {
   "cell_type": "code",
   "execution_count": 76,
   "id": "e21f49b9",
   "metadata": {},
   "outputs": [],
   "source": [
    "class Model(nn.Module):\n",
    "    \n",
    "    def __init__(self,emb_szs,n_cont,out_sz,layers,p=0.35):\n",
    "        super().__init__()\n",
    "        self.embeds = nn.ModuleList([nn.Embedding(ni,nf) for ni,nf in emb_szs])\n",
    "        self.emb_drop = nn.Dropout()\n",
    "        n_emb = sum([nf for ni,nf in emb_szs])\n",
    "        \n",
    "        self.bn_cont = nn.BatchNorm1d(n_cont)\n",
    "        n_in = n_emb + n_cont\n",
    "        \n",
    "        layerlist = []\n",
    "        for i in layers:\n",
    "            layerlist.append(nn.Linear(n_in,i))\n",
    "            layerlist.append(nn.ReLU(inplace=True))\n",
    "            layerlist.append(nn.BatchNorm1d(i))\n",
    "            layerlist.append(nn.Dropout(p))\n",
    "            n_in = i\n",
    "        layerlist.append(nn.Linear(layers[-1],out_sz))\n",
    "        self.layers = nn.Sequential(*layerlist)\n",
    "        \n",
    "    def forward(self,x_cat,x_cont):\n",
    "        embeddings = []\n",
    "        for i,e in enumerate(self.embeds):\n",
    "            embeddings.append(e(x_cat[:,i]))\n",
    "        x = torch.cat(embeddings,1)\n",
    "        x = self.emb_drop(x)\n",
    "        x_cont = self.bn_cont(x_cont)\n",
    "        x = torch.cat([x,x_cont],1)\n",
    "        x = self.layers(x)\n",
    "        return x\n",
    "        \n",
    "        \n",
    "    \n",
    "    "
   ]
  },
  {
   "cell_type": "code",
   "execution_count": 99,
   "id": "d28653ee",
   "metadata": {},
   "outputs": [],
   "source": [
    "model = Model(emb_szs,cont_train.shape[1],1,[1024,1024,512,256,128,64,32,16,8]).to(device)"
   ]
  },
  {
   "cell_type": "code",
   "execution_count": 100,
   "id": "c50b28cc",
   "metadata": {},
   "outputs": [
    {
     "data": {
      "text/plain": [
       "Model(\n",
       "  (embeds): ModuleList(\n",
       "    (0): Embedding(58, 29)\n",
       "    (1): Embedding(1898, 50)\n",
       "    (2): Embedding(35, 18)\n",
       "    (3): Embedding(8, 4)\n",
       "    (4): Embedding(1118, 50)\n",
       "    (5): Embedding(53, 27)\n",
       "    (6): Embedding(320, 50)\n",
       "    (7): Embedding(157, 50)\n",
       "    (8): Embedding(3, 2)\n",
       "  )\n",
       "  (emb_drop): Dropout(p=0.5, inplace=False)\n",
       "  (bn_cont): BatchNorm1d(1, eps=1e-05, momentum=0.1, affine=True, track_running_stats=True)\n",
       "  (layers): Sequential(\n",
       "    (0): Linear(in_features=281, out_features=1024, bias=True)\n",
       "    (1): ReLU(inplace=True)\n",
       "    (2): BatchNorm1d(1024, eps=1e-05, momentum=0.1, affine=True, track_running_stats=True)\n",
       "    (3): Dropout(p=0.35, inplace=False)\n",
       "    (4): Linear(in_features=1024, out_features=1024, bias=True)\n",
       "    (5): ReLU(inplace=True)\n",
       "    (6): BatchNorm1d(1024, eps=1e-05, momentum=0.1, affine=True, track_running_stats=True)\n",
       "    (7): Dropout(p=0.35, inplace=False)\n",
       "    (8): Linear(in_features=1024, out_features=512, bias=True)\n",
       "    (9): ReLU(inplace=True)\n",
       "    (10): BatchNorm1d(512, eps=1e-05, momentum=0.1, affine=True, track_running_stats=True)\n",
       "    (11): Dropout(p=0.35, inplace=False)\n",
       "    (12): Linear(in_features=512, out_features=256, bias=True)\n",
       "    (13): ReLU(inplace=True)\n",
       "    (14): BatchNorm1d(256, eps=1e-05, momentum=0.1, affine=True, track_running_stats=True)\n",
       "    (15): Dropout(p=0.35, inplace=False)\n",
       "    (16): Linear(in_features=256, out_features=128, bias=True)\n",
       "    (17): ReLU(inplace=True)\n",
       "    (18): BatchNorm1d(128, eps=1e-05, momentum=0.1, affine=True, track_running_stats=True)\n",
       "    (19): Dropout(p=0.35, inplace=False)\n",
       "    (20): Linear(in_features=128, out_features=64, bias=True)\n",
       "    (21): ReLU(inplace=True)\n",
       "    (22): BatchNorm1d(64, eps=1e-05, momentum=0.1, affine=True, track_running_stats=True)\n",
       "    (23): Dropout(p=0.35, inplace=False)\n",
       "    (24): Linear(in_features=64, out_features=32, bias=True)\n",
       "    (25): ReLU(inplace=True)\n",
       "    (26): BatchNorm1d(32, eps=1e-05, momentum=0.1, affine=True, track_running_stats=True)\n",
       "    (27): Dropout(p=0.35, inplace=False)\n",
       "    (28): Linear(in_features=32, out_features=16, bias=True)\n",
       "    (29): ReLU(inplace=True)\n",
       "    (30): BatchNorm1d(16, eps=1e-05, momentum=0.1, affine=True, track_running_stats=True)\n",
       "    (31): Dropout(p=0.35, inplace=False)\n",
       "    (32): Linear(in_features=16, out_features=8, bias=True)\n",
       "    (33): ReLU(inplace=True)\n",
       "    (34): BatchNorm1d(8, eps=1e-05, momentum=0.1, affine=True, track_running_stats=True)\n",
       "    (35): Dropout(p=0.35, inplace=False)\n",
       "    (36): Linear(in_features=8, out_features=1, bias=True)\n",
       "  )\n",
       ")"
      ]
     },
     "execution_count": 100,
     "metadata": {},
     "output_type": "execute_result"
    }
   ],
   "source": [
    "model"
   ]
  },
  {
   "cell_type": "code",
   "execution_count": 101,
   "id": "4fbe8cad",
   "metadata": {},
   "outputs": [],
   "source": [
    "criterion = nn.MSELoss()\n",
    "optimizer = optim.Adam(model.parameters(),lr=0.01)\n",
    "num_epochs = 100"
   ]
  },
  {
   "cell_type": "code",
   "execution_count": 102,
   "id": "47ca8035",
   "metadata": {},
   "outputs": [
    {
     "name": "stdout",
     "output_type": "stream",
     "text": [
      "epoch : 1/100 loss : 90209.53125 \n",
      "epoch : 2/100 loss : 90209.5 \n",
      "epoch : 3/100 loss : 90209.421875 \n",
      "epoch : 4/100 loss : 90209.328125 \n",
      "epoch : 5/100 loss : 90209.234375 \n",
      "epoch : 6/100 loss : 90209.15625 \n",
      "epoch : 7/100 loss : 90209.0859375 \n",
      "epoch : 8/100 loss : 90209.0234375 \n",
      "epoch : 9/100 loss : 90208.9609375 \n",
      "epoch : 10/100 loss : 90208.90625 \n",
      "epoch : 11/100 loss : 90208.8515625 \n",
      "epoch : 12/100 loss : 90208.796875 \n",
      "epoch : 13/100 loss : 90208.7265625 \n",
      "epoch : 14/100 loss : 90208.6640625 \n",
      "epoch : 15/100 loss : 90208.6015625 \n",
      "epoch : 16/100 loss : 90208.53125 \n",
      "epoch : 17/100 loss : 90208.4609375 \n",
      "epoch : 18/100 loss : 90208.3984375 \n",
      "epoch : 19/100 loss : 90208.328125 \n",
      "epoch : 20/100 loss : 90208.2578125 \n",
      "epoch : 21/100 loss : 90208.1796875 \n",
      "epoch : 22/100 loss : 90208.109375 \n",
      "epoch : 23/100 loss : 90208.0234375 \n",
      "epoch : 24/100 loss : 90207.953125 \n",
      "epoch : 25/100 loss : 90207.8671875 \n",
      "epoch : 26/100 loss : 90207.78125 \n",
      "epoch : 27/100 loss : 90207.6875 \n",
      "epoch : 28/100 loss : 90207.59375 \n",
      "epoch : 29/100 loss : 90207.5078125 \n",
      "epoch : 30/100 loss : 90207.421875 \n",
      "epoch : 31/100 loss : 90207.328125 \n",
      "epoch : 32/100 loss : 90207.1953125 \n",
      "epoch : 33/100 loss : 90207.09375 \n",
      "epoch : 34/100 loss : 90206.984375 \n",
      "epoch : 35/100 loss : 90206.8828125 \n",
      "epoch : 36/100 loss : 90206.765625 \n",
      "epoch : 37/100 loss : 90206.6328125 \n",
      "epoch : 38/100 loss : 90206.5234375 \n",
      "epoch : 39/100 loss : 90206.3828125 \n",
      "epoch : 40/100 loss : 90206.265625 \n",
      "epoch : 41/100 loss : 90206.1328125 \n",
      "epoch : 42/100 loss : 90206.03125 \n",
      "epoch : 43/100 loss : 90205.859375 \n",
      "epoch : 44/100 loss : 90205.75 \n",
      "epoch : 45/100 loss : 90205.59375 \n",
      "epoch : 46/100 loss : 90205.4375 \n",
      "epoch : 47/100 loss : 90205.3046875 \n",
      "epoch : 48/100 loss : 90205.1484375 \n",
      "epoch : 49/100 loss : 90204.9765625 \n",
      "epoch : 50/100 loss : 90204.8203125 \n",
      "epoch : 51/100 loss : 90204.65625 \n",
      "epoch : 52/100 loss : 90204.4609375 \n",
      "epoch : 53/100 loss : 90204.2734375 \n",
      "epoch : 54/100 loss : 90204.1171875 \n",
      "epoch : 55/100 loss : 90203.921875 \n",
      "epoch : 56/100 loss : 90203.734375 \n",
      "epoch : 57/100 loss : 90203.53125 \n",
      "epoch : 58/100 loss : 90203.3125 \n",
      "epoch : 59/100 loss : 90203.125 \n",
      "epoch : 60/100 loss : 90202.8828125 \n",
      "epoch : 61/100 loss : 90202.703125 \n",
      "epoch : 62/100 loss : 90202.421875 \n",
      "epoch : 63/100 loss : 90202.1796875 \n",
      "epoch : 64/100 loss : 90202.0546875 \n",
      "epoch : 65/100 loss : 90201.78125 \n",
      "epoch : 66/100 loss : 90201.53125 \n",
      "epoch : 67/100 loss : 90201.296875 \n",
      "epoch : 68/100 loss : 90201.1484375 \n",
      "epoch : 69/100 loss : 90200.8828125 \n",
      "epoch : 70/100 loss : 90200.671875 \n",
      "epoch : 71/100 loss : 90200.3828125 \n",
      "epoch : 72/100 loss : 90200.140625 \n",
      "epoch : 73/100 loss : 90199.921875 \n",
      "epoch : 74/100 loss : 90199.71875 \n",
      "epoch : 75/100 loss : 90199.4609375 \n",
      "epoch : 76/100 loss : 90199.140625 \n",
      "epoch : 77/100 loss : 90198.734375 \n",
      "epoch : 78/100 loss : 90198.4453125 \n",
      "epoch : 79/100 loss : 90198.265625 \n",
      "epoch : 80/100 loss : 90197.9921875 \n",
      "epoch : 81/100 loss : 90197.65625 \n",
      "epoch : 82/100 loss : 90197.5 \n",
      "epoch : 83/100 loss : 90197.1171875 \n",
      "epoch : 84/100 loss : 90196.8671875 \n",
      "epoch : 85/100 loss : 90196.4609375 \n",
      "epoch : 86/100 loss : 90196.265625 \n",
      "epoch : 87/100 loss : 90196.140625 \n",
      "epoch : 88/100 loss : 90195.7109375 \n",
      "epoch : 89/100 loss : 90195.2109375 \n",
      "epoch : 90/100 loss : 90194.9453125 \n",
      "epoch : 91/100 loss : 90194.65625 \n",
      "epoch : 92/100 loss : 90194.1015625 \n",
      "epoch : 93/100 loss : 90193.390625 \n",
      "epoch : 94/100 loss : 90193.359375 \n",
      "epoch : 95/100 loss : 90192.640625 \n",
      "epoch : 96/100 loss : 90192.4296875 \n",
      "epoch : 97/100 loss : 90192.140625 \n",
      "epoch : 98/100 loss : 90191.8671875 \n",
      "epoch : 99/100 loss : 90191.2421875 \n",
      "epoch : 100/100 loss : 90191.2265625 \n"
     ]
    }
   ],
   "source": [
    "losses = []\n",
    "for epoch in range(num_epochs):\n",
    "    y_pred = model.forward(cat_train,cont_train)\n",
    "    loss = torch.sqrt(criterion(y_pred,y_train))#RMSE\n",
    "    losses.append(loss.item())\n",
    "    print(f\"epoch : {epoch+1}/{num_epochs} loss : {loss.item()} \")\n",
    "    optimizer.zero_grad()\n",
    "    loss.backward()\n",
    "    optimizer.step()"
   ]
  },
  {
   "cell_type": "code",
   "execution_count": null,
   "id": "7bfb797f",
   "metadata": {},
   "outputs": [],
   "source": [
    "\n",
    "\n",
    "\n",
    "\n",
    "\n",
    "\n"
   ]
  },
  {
   "cell_type": "code",
   "execution_count": null,
   "id": "9a74f94d",
   "metadata": {},
   "outputs": [],
   "source": []
  },
  {
   "cell_type": "code",
   "execution_count": null,
   "id": "8df62428",
   "metadata": {},
   "outputs": [],
   "source": []
  },
  {
   "cell_type": "code",
   "execution_count": null,
   "id": "de78f2a9",
   "metadata": {},
   "outputs": [],
   "source": []
  },
  {
   "cell_type": "code",
   "execution_count": null,
   "id": "a31b60ec",
   "metadata": {},
   "outputs": [],
   "source": []
  },
  {
   "cell_type": "code",
   "execution_count": null,
   "id": "025c93b1",
   "metadata": {},
   "outputs": [],
   "source": []
  },
  {
   "cell_type": "code",
   "execution_count": null,
   "id": "1029e2e4",
   "metadata": {},
   "outputs": [],
   "source": []
  },
  {
   "cell_type": "code",
   "execution_count": null,
   "id": "f5c388ca",
   "metadata": {},
   "outputs": [],
   "source": []
  }
 ],
 "metadata": {
  "kernelspec": {
   "display_name": "Python 3 (ipykernel)",
   "language": "python",
   "name": "python3"
  },
  "language_info": {
   "codemirror_mode": {
    "name": "ipython",
    "version": 3
   },
   "file_extension": ".py",
   "mimetype": "text/x-python",
   "name": "python",
   "nbconvert_exporter": "python",
   "pygments_lexer": "ipython3",
   "version": "3.11.5"
  }
 },
 "nbformat": 4,
 "nbformat_minor": 5
}
